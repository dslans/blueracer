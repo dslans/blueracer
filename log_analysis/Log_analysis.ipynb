{
 "cells": [
  {
   "cell_type": "markdown",
   "metadata": {},
   "source": [
    "# DeepRacer Log Analysis"
   ]
  },
  {
   "cell_type": "markdown",
   "metadata": {},
   "source": [
    "A lot of this comes from following [this github post](https://github.com/breadcentric/aws-deepracer-workshops/blob/enhance-log-analysis/log-analysis/Evaluation_analysis.ipynb)\n",
    "\n",
    "It requires the files from the github:\n",
    "- track_utils.py\n",
    "- log_analysis.py\n",
    "- cw_utils.py\n",
    "\n",
    "The tracks can be downloaded from the [AWS Workshops Github](https://github.com/aws-samples/aws-deepracer-workshops/tree/master/log-analysis/tracks)\n",
    "\n"
   ]
  },
  {
   "cell_type": "code",
   "execution_count": 1,
   "metadata": {},
   "outputs": [
    {
     "data": {
      "text/plain": [
       "'1.16.61'"
      ]
     },
     "execution_count": 1,
     "metadata": {},
     "output_type": "execute_result"
    }
   ],
   "source": [
    "import numpy as np\n",
    "import pandas as pd\n",
    "import matplotlib.pyplot as plt\n",
    "from datetime import datetime\n",
    "%matplotlib inline\n",
    "\n",
    "#Shapely Library\n",
    "from shapely.geometry import Point, Polygon\n",
    "from shapely.geometry.polygon import LinearRing, LineString\n",
    "\n",
    "import sys\n",
    "sys.path.append('/sas/sasdata/users/ld07716/Projects/DeepRacer')\n",
    "import track_utils as tu\n",
    "import log_analysis as la\n",
    "import cw_utils as cw\n",
    "\n",
    "projectDir = '/sas/sasdata/users/ld07716/Projects/DeepRacer/'\n",
    "\n",
    "# Make sure your boto version is >= '1.9.133'\n",
    "cw.boto3.__version__"
   ]
  },
  {
   "cell_type": "markdown",
   "metadata": {},
   "source": [
    "## Load the Track"
   ]
  },
  {
   "cell_type": "code",
   "execution_count": 2,
   "metadata": {},
   "outputs": [
    {
     "name": "stdout",
     "output_type": "stream",
     "text": [
      "Loaded 71 waypoints\n"
     ]
    },
    {
     "data": {
      "image/svg+xml": [
       "<svg xmlns=\"http://www.w3.org/2000/svg\" xmlns:xlink=\"http://www.w3.org/1999/xlink\" width=\"100.0\" height=\"100.0\" viewBox=\"0.13165101625431158 0.09529031240092306 7.739630843825427 5.0005055286139175\" preserveAspectRatio=\"xMinYMin meet\"><g transform=\"matrix(1,0,0,-1,0,5.191086153415764)\"><path fill-rule=\"evenodd\" fill=\"#ff3333\" stroke=\"#555555\" stroke-width=\"0.15479261687650855\" opacity=\"0.6\" d=\"M 2.9101200062595103,0.38230620783067915 L 3.320119934919921,0.38247723188186483 L 3.420119917520022,0.3825189450650809 L 3.630128223616876,0.3826065462298145 L 4.190119783540795,0.3828401365758443 L 4.50012807223775,0.382969450923794 L 4.550119720901156,0.38299030403542206 L 5.3201279295585735,0.3833114990261654 L 5.420127912158674,0.38335321220938146 L 5.780127849519036,0.38350337966895914 L 6.324972631375165,0.3956832604952143 L 6.496120858284972,0.4160202072156111 L 6.62472364224327,0.44473185107344176 L 6.815966218031551,0.521642101758542 L 7.017519684834686,0.6415111643040204 L 7.229499454034008,0.8217965373170768 L 7.354308823693938,0.9825323713128955 L 7.447931440559386,1.1453875219327774 L 7.584628865863982,1.8031173114342751 L 7.577929620223677,1.8535557187007277 L 7.571403728787527,1.90268894767995 L 7.350201669529235,2.492043640838347 L 7.258218658533806,2.610503855324811 L 6.843319429832621,2.9366420720078783 L 6.652076861387874,3.0135523418410606 L 6.077102317373509,3.0843225367722926 L 5.917114336078783,3.0829358686812904 L 5.717129359460375,3.081202533567537 L 5.667306448817149,3.080770702127258 L 5.197341753763893,3.076697364609938 L 5.047179687788711,3.0753958609364638 L 5.034886471281728,3.0759817113964028 L 4.97556588304942,3.082330184103404 L 4.723655995002148,3.1605758734283604 L 4.498355317486535,3.3624310927965775 L 4.3325507156607355,3.5658507056549404 L 4.240944136947374,3.6782394727455503 L 4.0138222049015155,3.9568870795046953 L 3.922215626188155,4.069275846595304 L 3.7888808345557994,4.232859434720925 L 3.4380291650003363,4.595552001126502 L 3.353319122878281,4.64793530145161 L 3.1961735515503995,4.727704914445076 L 3.055651529170767,4.776192024941823 L 2.840968530687481,4.80720241399628 L 2.84303014895641,4.80698759310109 L 2.4913683324088596,4.809142846799084 L 2.2404230806588203,4.8019019048214995 L 1.981215987743099,4.794422570158293 L 1.7305590426333723,4.787189947173157 L 1.1133976663098506,4.68342738185746 L 0.9132873376602105,4.575866464388443 L 0.4396815695265954,3.8869828266056468 L 0.4183040104700681,3.4707944950583007 L 0.5817439759375306,2.665552102434232 L 0.5930735980115257,2.6097328787804766 L 0.6242638438593316,2.4560635597666995 L 0.6437866949569175,2.3598776159940114 L 0.7253233176311822,1.9581598051701847 L 0.7467666116515489,1.8525121483482125 L 0.7963216533547308,1.6083624372691325 L 0.9415723136978997,1.058316414523293 L 0.962303954307788,1.006632340237715 L 1.0626459793805891,0.8300487672594938 L 1.095566151040184,0.7926169730979473 L 1.1657678278926826,0.712794342009927 L 1.3114141412298634,0.5840889274264379 L 1.3546711732192105,0.5599177517631669 L 2.040128500275279,0.3819433066166796 L 2.7501283767359923,0.38223947021751337 L 2.9101200062595103,0.38230620783067915 L 2.909906444083587,0.9840787499610828 L 2.749912415761146,0.9840310918882519 L 2.0399124787587044,0.9838196013153698 L 1.6445917267628223,1.0788141361524557 L 1.6322328186035158,1.0857186889648438 L 1.613667277893416,1.1068169893088786 L 1.5434438985939147,1.186620425727402 L 1.5296887207031251,1.2022521209716797 L 1.5185744153105296,1.2299234905909608 L 1.497822943058028,1.281588586929395 L 1.3902788553560892,1.7314629754755075 L 1.338638685255012,1.9753504435221483 L 1.3163469413409712,2.080630441068597 L 1.2314242341915527,2.4817054953489857 L 1.211040078964814,2.5779762860297337 L 1.178615724180754,2.7311108279154777 L 1.1667667487821711,2.787071460950787 L 0.9966111768378945,3.59068638968341 L 1.0248472113946108,3.7704349524329484 L 1.2783204962571983,4.088884910007067 L 1.314613037109375,4.11409423828125 L 1.7485951938134034,4.166053115531388 L 1.9992580924048617,4.173382658074824 L 2.258451665350191,4.180961642960754 L 2.509406720502155,4.1882997283477925 L 2.7808141160514976,4.192424015198027 L 2.7788712303071925,4.192614571024957 L 2.8843350219726562,4.182270812988281 L 2.994786471026911,4.144147305563019 L 3.028917153889106,4.123471202342913 L 3.09720703125,4.081221618652344 L 3.30923654574253,3.8419079701360612 L 3.442571258568735,3.6783243301144166 L 3.534177795123867,3.5659355126652286 L 3.7612995949291355,3.287287815055975 L 3.8529061314842683,3.1748989976067854 L 4.018710641305418,2.9714793128627117 L 4.399026282932134,2.6360679163260246 L 4.909864648480311,2.468324424054731 L 4.9691856595622115,2.46197790460427 L 5.018619835463795,2.4566891383955527 L 5.20260337467398,2.4551229239531156 L 5.6725712484683495,2.45900857506364 L 5.722402483931133,2.459420575130478 L 5.922388813205334,2.4610740436881477 L 6.082377876624694,2.462396818534284 L 6.431444702148438,2.436733856201172 L 6.6006591796875,2.3618621826171875 L 6.769062197464956,2.2227494158821073 L 6.863466114123764,2.106320230004854 L 6.961888826195919,1.8144451569358484 L 6.969601773690491,1.7656646935058404 L 6.972432250976563,1.7477633666992187 L 6.883023391314907,1.3793610957984892 L 6.865130542696974,1.345683363233008 L 6.767670288085938,1.2075256347656251 L 6.65414056181079,1.121153136506339 L 6.58552837663102,1.0751901389624254 L 6.433070068359375,1.0093801879882813 L 6.42648361684787,1.0086153150902388 L 6.255308201425604,0.9887370185843034 L 5.779912146912412,0.9849336502485796 L 5.419912178854835,0.984826415591907 L 5.319912187727731,0.9847966281872758 L 4.5499062985681,0.9845672633970358 L 4.499912260485474,0.9845523714692992 L 4.189906330510524,0.9844600287403632 L 3.6299123376796656,0.9842932210490071 L 3.4199063988318197,0.9842306657247023 L 3.319906407704715,0.9842008783200711 L 2.909906444083587,0.9840787499610828 L 2.9101200062595103,0.38230620783067915 z\" /></g></svg>"
      ],
      "text/plain": [
       "<shapely.geometry.polygon.Polygon at 0x7fbcf07caf28>"
      ]
     },
     "execution_count": 2,
     "metadata": {},
     "output_type": "execute_result"
    }
   ],
   "source": [
    "# load track and assign border variables\n",
    "l_center_line, l_inner_border, l_outer_border, road_poly = tu.load_track(f'reinvent_base', absolute_path=projectDir)\n",
    "road_poly"
   ]
  },
  {
   "cell_type": "markdown",
   "metadata": {},
   "source": [
    "## Evaluation Analysis"
   ]
  },
  {
   "cell_type": "markdown",
   "metadata": {},
   "source": [
    "#### Downloading Log Files\n",
    "The files will download in a .tar format. \n",
    "- Download the file\n",
    "- extract the file with: tar -xvf [file name]\n",
    "- The log files will be in their respective training/evaluation folders"
   ]
  },
  {
   "cell_type": "code",
   "execution_count": 6,
   "metadata": {},
   "outputs": [
    {
     "data": {
      "text/plain": [
       "['evaluation-20210128113942-A96F_25iR0uzBMmD2Qn8zg-robomaker.log']"
      ]
     },
     "execution_count": 6,
     "metadata": {},
     "output_type": "execute_result"
    }
   ],
   "source": [
    "# Print the log file name\n",
    "log_files = !ls Joe-RightDirection4/logs/evaluation\n",
    "log_files"
   ]
  },
  {
   "cell_type": "code",
   "execution_count": 7,
   "metadata": {},
   "outputs": [],
   "source": [
    "# Log file\n",
    "log_filename = log_files[0]\n",
    "evaluation_log = f'{projectDir}/Joe-RightDirection4/logs/evaluation/{log_filename}'\n",
    "\n",
    "# load into pandas df\n",
    "eval_df = la.load_eval_data(evaluation_log)"
   ]
  },
  {
   "cell_type": "code",
   "execution_count": 8,
   "metadata": {},
   "outputs": [
    {
     "data": {
      "text/html": [
       "<div>\n",
       "<style scoped>\n",
       "    .dataframe tbody tr th:only-of-type {\n",
       "        vertical-align: middle;\n",
       "    }\n",
       "\n",
       "    .dataframe tbody tr th {\n",
       "        vertical-align: top;\n",
       "    }\n",
       "\n",
       "    .dataframe thead th {\n",
       "        text-align: right;\n",
       "    }\n",
       "</style>\n",
       "<table border=\"1\" class=\"dataframe\">\n",
       "  <thead>\n",
       "    <tr style=\"text-align: right;\">\n",
       "      <th></th>\n",
       "      <th>iteration</th>\n",
       "      <th>episode</th>\n",
       "      <th>steps</th>\n",
       "      <th>x</th>\n",
       "      <th>y</th>\n",
       "      <th>yaw</th>\n",
       "      <th>steer</th>\n",
       "      <th>throttle</th>\n",
       "      <th>action</th>\n",
       "      <th>reward</th>\n",
       "      <th>done</th>\n",
       "      <th>on_track</th>\n",
       "      <th>progress</th>\n",
       "      <th>closest_waypoint</th>\n",
       "      <th>track_len</th>\n",
       "      <th>timestamp</th>\n",
       "    </tr>\n",
       "  </thead>\n",
       "  <tbody>\n",
       "    <tr>\n",
       "      <th>0</th>\n",
       "      <td>1</td>\n",
       "      <td>0</td>\n",
       "      <td>3</td>\n",
       "      <td>270.78</td>\n",
       "      <td>106.18</td>\n",
       "      <td>0.0181</td>\n",
       "      <td>-30.0</td>\n",
       "      <td>1.00</td>\n",
       "      <td>2.0</td>\n",
       "      <td>1.0</td>\n",
       "      <td>0</td>\n",
       "      <td>True</td>\n",
       "      <td>0.8812</td>\n",
       "      <td>1</td>\n",
       "      <td>16.64</td>\n",
       "      <td>1611833828.9939578</td>\n",
       "    </tr>\n",
       "    <tr>\n",
       "      <th>1</th>\n",
       "      <td>1</td>\n",
       "      <td>0</td>\n",
       "      <td>4</td>\n",
       "      <td>272.48</td>\n",
       "      <td>105.98</td>\n",
       "      <td>-0.4742</td>\n",
       "      <td>-30.0</td>\n",
       "      <td>1.00</td>\n",
       "      <td>2.0</td>\n",
       "      <td>1.0</td>\n",
       "      <td>0</td>\n",
       "      <td>True</td>\n",
       "      <td>0.9830</td>\n",
       "      <td>1</td>\n",
       "      <td>16.64</td>\n",
       "      <td>1611833829.063875</td>\n",
       "    </tr>\n",
       "    <tr>\n",
       "      <th>2</th>\n",
       "      <td>1</td>\n",
       "      <td>0</td>\n",
       "      <td>5</td>\n",
       "      <td>276.25</td>\n",
       "      <td>105.38</td>\n",
       "      <td>-1.8408</td>\n",
       "      <td>0.0</td>\n",
       "      <td>0.33</td>\n",
       "      <td>3.0</td>\n",
       "      <td>1.0</td>\n",
       "      <td>0</td>\n",
       "      <td>True</td>\n",
       "      <td>1.2100</td>\n",
       "      <td>1</td>\n",
       "      <td>16.64</td>\n",
       "      <td>1611833829.13115</td>\n",
       "    </tr>\n",
       "    <tr>\n",
       "      <th>3</th>\n",
       "      <td>1</td>\n",
       "      <td>0</td>\n",
       "      <td>6</td>\n",
       "      <td>280.21</td>\n",
       "      <td>104.64</td>\n",
       "      <td>-3.3064</td>\n",
       "      <td>30.0</td>\n",
       "      <td>1.00</td>\n",
       "      <td>8.0</td>\n",
       "      <td>1.0</td>\n",
       "      <td>0</td>\n",
       "      <td>True</td>\n",
       "      <td>1.4480</td>\n",
       "      <td>2</td>\n",
       "      <td>16.64</td>\n",
       "      <td>1611833829.195326</td>\n",
       "    </tr>\n",
       "    <tr>\n",
       "      <th>4</th>\n",
       "      <td>1</td>\n",
       "      <td>0</td>\n",
       "      <td>7</td>\n",
       "      <td>284.44</td>\n",
       "      <td>104.11</td>\n",
       "      <td>-4.0481</td>\n",
       "      <td>0.0</td>\n",
       "      <td>0.67</td>\n",
       "      <td>4.0</td>\n",
       "      <td>1.0</td>\n",
       "      <td>0</td>\n",
       "      <td>True</td>\n",
       "      <td>1.7023</td>\n",
       "      <td>2</td>\n",
       "      <td>16.64</td>\n",
       "      <td>1611833829.2636738</td>\n",
       "    </tr>\n",
       "  </tbody>\n",
       "</table>\n",
       "</div>"
      ],
      "text/plain": [
       "   iteration  episode  steps       x       y     yaw  steer  throttle  action  \\\n",
       "0          1        0      3  270.78  106.18  0.0181  -30.0      1.00     2.0   \n",
       "1          1        0      4  272.48  105.98 -0.4742  -30.0      1.00     2.0   \n",
       "2          1        0      5  276.25  105.38 -1.8408    0.0      0.33     3.0   \n",
       "3          1        0      6  280.21  104.64 -3.3064   30.0      1.00     8.0   \n",
       "4          1        0      7  284.44  104.11 -4.0481    0.0      0.67     4.0   \n",
       "\n",
       "   reward  done on_track  progress  closest_waypoint  track_len  \\\n",
       "0     1.0     0     True    0.8812                 1      16.64   \n",
       "1     1.0     0     True    0.9830                 1      16.64   \n",
       "2     1.0     0     True    1.2100                 1      16.64   \n",
       "3     1.0     0     True    1.4480                 2      16.64   \n",
       "4     1.0     0     True    1.7023                 2      16.64   \n",
       "\n",
       "            timestamp  \n",
       "0  1611833828.9939578  \n",
       "1   1611833829.063875  \n",
       "2    1611833829.13115  \n",
       "3   1611833829.195326  \n",
       "4  1611833829.2636738  "
      ]
     },
     "execution_count": 8,
     "metadata": {},
     "output_type": "execute_result"
    }
   ],
   "source": [
    "# View the dataframe\n",
    "eval_df.head()"
   ]
  },
  {
   "cell_type": "code",
   "execution_count": 9,
   "metadata": {},
   "outputs": [
    {
     "data": {
      "text/html": [
       "<div>\n",
       "<style scoped>\n",
       "    .dataframe tbody tr th:only-of-type {\n",
       "        vertical-align: middle;\n",
       "    }\n",
       "\n",
       "    .dataframe tbody tr th {\n",
       "        vertical-align: top;\n",
       "    }\n",
       "\n",
       "    .dataframe thead th {\n",
       "        text-align: right;\n",
       "    }\n",
       "</style>\n",
       "<table border=\"1\" class=\"dataframe\">\n",
       "  <thead>\n",
       "    <tr style=\"text-align: right;\">\n",
       "      <th></th>\n",
       "      <th>iteration</th>\n",
       "      <th>episode</th>\n",
       "      <th>steps</th>\n",
       "      <th>x</th>\n",
       "      <th>y</th>\n",
       "      <th>yaw</th>\n",
       "      <th>steer</th>\n",
       "      <th>throttle</th>\n",
       "      <th>action</th>\n",
       "      <th>reward</th>\n",
       "      <th>done</th>\n",
       "      <th>on_track</th>\n",
       "      <th>progress</th>\n",
       "      <th>closest_waypoint</th>\n",
       "      <th>track_len</th>\n",
       "      <th>timestamp</th>\n",
       "    </tr>\n",
       "  </thead>\n",
       "  <tbody>\n",
       "    <tr>\n",
       "      <th>929</th>\n",
       "      <td>1</td>\n",
       "      <td>2</td>\n",
       "      <td>313</td>\n",
       "      <td>237.48</td>\n",
       "      <td>131.02</td>\n",
       "      <td>-31.5792</td>\n",
       "      <td>30.0</td>\n",
       "      <td>0.67</td>\n",
       "      <td>7.0</td>\n",
       "      <td>0.5</td>\n",
       "      <td>0</td>\n",
       "      <td>True</td>\n",
       "      <td>98.8795</td>\n",
       "      <td>110</td>\n",
       "      <td>16.64</td>\n",
       "      <td>1611833892.9110088</td>\n",
       "    </tr>\n",
       "    <tr>\n",
       "      <th>930</th>\n",
       "      <td>1</td>\n",
       "      <td>2</td>\n",
       "      <td>314</td>\n",
       "      <td>243.06</td>\n",
       "      <td>129.70</td>\n",
       "      <td>-27.4034</td>\n",
       "      <td>30.0</td>\n",
       "      <td>0.67</td>\n",
       "      <td>7.0</td>\n",
       "      <td>0.5</td>\n",
       "      <td>0</td>\n",
       "      <td>True</td>\n",
       "      <td>99.2154</td>\n",
       "      <td>110</td>\n",
       "      <td>16.64</td>\n",
       "      <td>1611833892.9778068</td>\n",
       "    </tr>\n",
       "    <tr>\n",
       "      <th>931</th>\n",
       "      <td>1</td>\n",
       "      <td>2</td>\n",
       "      <td>315</td>\n",
       "      <td>247.81</td>\n",
       "      <td>128.98</td>\n",
       "      <td>-23.7648</td>\n",
       "      <td>0.0</td>\n",
       "      <td>1.00</td>\n",
       "      <td>5.0</td>\n",
       "      <td>0.5</td>\n",
       "      <td>0</td>\n",
       "      <td>True</td>\n",
       "      <td>99.5007</td>\n",
       "      <td>110</td>\n",
       "      <td>16.64</td>\n",
       "      <td>1611833893.0415504</td>\n",
       "    </tr>\n",
       "    <tr>\n",
       "      <th>932</th>\n",
       "      <td>1</td>\n",
       "      <td>2</td>\n",
       "      <td>316</td>\n",
       "      <td>252.59</td>\n",
       "      <td>128.57</td>\n",
       "      <td>-20.2083</td>\n",
       "      <td>0.0</td>\n",
       "      <td>1.00</td>\n",
       "      <td>5.0</td>\n",
       "      <td>0.5</td>\n",
       "      <td>0</td>\n",
       "      <td>True</td>\n",
       "      <td>99.7883</td>\n",
       "      <td>111</td>\n",
       "      <td>16.64</td>\n",
       "      <td>1611833893.1088672</td>\n",
       "    </tr>\n",
       "    <tr>\n",
       "      <th>933</th>\n",
       "      <td>1</td>\n",
       "      <td>2</td>\n",
       "      <td>317</td>\n",
       "      <td>258.83</td>\n",
       "      <td>127.94</td>\n",
       "      <td>-16.7083</td>\n",
       "      <td>0.0</td>\n",
       "      <td>0.33</td>\n",
       "      <td>3.0</td>\n",
       "      <td>0.5</td>\n",
       "      <td>1</td>\n",
       "      <td>True</td>\n",
       "      <td>100.0000</td>\n",
       "      <td>0</td>\n",
       "      <td>16.64</td>\n",
       "      <td>1611833893.1758766</td>\n",
       "    </tr>\n",
       "  </tbody>\n",
       "</table>\n",
       "</div>"
      ],
      "text/plain": [
       "     iteration  episode  steps       x       y      yaw  steer  throttle  \\\n",
       "929          1        2    313  237.48  131.02 -31.5792   30.0      0.67   \n",
       "930          1        2    314  243.06  129.70 -27.4034   30.0      0.67   \n",
       "931          1        2    315  247.81  128.98 -23.7648    0.0      1.00   \n",
       "932          1        2    316  252.59  128.57 -20.2083    0.0      1.00   \n",
       "933          1        2    317  258.83  127.94 -16.7083    0.0      0.33   \n",
       "\n",
       "     action  reward  done on_track  progress  closest_waypoint  track_len  \\\n",
       "929     7.0     0.5     0     True   98.8795               110      16.64   \n",
       "930     7.0     0.5     0     True   99.2154               110      16.64   \n",
       "931     5.0     0.5     0     True   99.5007               110      16.64   \n",
       "932     5.0     0.5     0     True   99.7883               111      16.64   \n",
       "933     3.0     0.5     1     True  100.0000                 0      16.64   \n",
       "\n",
       "              timestamp  \n",
       "929  1611833892.9110088  \n",
       "930  1611833892.9778068  \n",
       "931  1611833893.0415504  \n",
       "932  1611833893.1088672  \n",
       "933  1611833893.1758766  "
      ]
     },
     "execution_count": 9,
     "metadata": {},
     "output_type": "execute_result"
    }
   ],
   "source": [
    "eval_df.tail()"
   ]
  },
  {
   "cell_type": "markdown",
   "metadata": {},
   "source": [
    "## View the path of the DeepRacer Car"
   ]
  },
  {
   "cell_type": "code",
   "execution_count": 55,
   "metadata": {
    "scrolled": false
   },
   "outputs": [
    {
     "name": "stderr",
     "output_type": "stream",
     "text": [
      "/sas/sasdata/users/ld07716/anaconda3/lib/python3.6/site-packages/pandas/core/indexing.py:1596: SettingWithCopyWarning: \n",
      "A value is trying to be set on a copy of a slice from a DataFrame.\n",
      "Try using .loc[row_indexer,col_indexer] = value instead\n",
      "\n",
      "See the caveats in the documentation: https://pandas.pydata.org/pandas-docs/stable/user_guide/indexing.html#returning-a-view-versus-a-copy\n",
      "  self.obj[key] = _infer_fill_value(value)\n",
      "/sas/sasdata/users/ld07716/anaconda3/lib/python3.6/site-packages/pandas/core/indexing.py:1745: SettingWithCopyWarning: \n",
      "A value is trying to be set on a copy of a slice from a DataFrame.\n",
      "Try using .loc[row_indexer,col_indexer] = value instead\n",
      "\n",
      "See the caveats in the documentation: https://pandas.pydata.org/pandas-docs/stable/user_guide/indexing.html#returning-a-view-versus-a-copy\n",
      "  isetter(ilocs[0], value)\n"
     ]
    },
    {
     "data": {
      "image/png": "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\n",
      "text/plain": [
       "<Figure size 1152x720 with 2 Axes>"
      ]
     },
     "metadata": {
      "needs_background": "light"
     },
     "output_type": "display_data"
    },
    {
     "name": "stderr",
     "output_type": "stream",
     "text": [
      "/sas/sasdata/users/ld07716/anaconda3/lib/python3.6/site-packages/pandas/core/indexing.py:1596: SettingWithCopyWarning: \n",
      "A value is trying to be set on a copy of a slice from a DataFrame.\n",
      "Try using .loc[row_indexer,col_indexer] = value instead\n",
      "\n",
      "See the caveats in the documentation: https://pandas.pydata.org/pandas-docs/stable/user_guide/indexing.html#returning-a-view-versus-a-copy\n",
      "  self.obj[key] = _infer_fill_value(value)\n",
      "/sas/sasdata/users/ld07716/anaconda3/lib/python3.6/site-packages/pandas/core/indexing.py:1745: SettingWithCopyWarning: \n",
      "A value is trying to be set on a copy of a slice from a DataFrame.\n",
      "Try using .loc[row_indexer,col_indexer] = value instead\n",
      "\n",
      "See the caveats in the documentation: https://pandas.pydata.org/pandas-docs/stable/user_guide/indexing.html#returning-a-view-versus-a-copy\n",
      "  isetter(ilocs[0], value)\n"
     ]
    },
    {
     "data": {
      "text/plain": [
       "<Figure size 432x288 with 0 Axes>"
      ]
     },
     "metadata": {},
     "output_type": "display_data"
    },
    {
     "data": {
      "image/png": "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\n",
      "text/plain": [
       "<Figure size 1152x720 with 2 Axes>"
      ]
     },
     "metadata": {
      "needs_background": "light"
     },
     "output_type": "display_data"
    },
    {
     "name": "stderr",
     "output_type": "stream",
     "text": [
      "/sas/sasdata/users/ld07716/anaconda3/lib/python3.6/site-packages/pandas/core/indexing.py:1596: SettingWithCopyWarning: \n",
      "A value is trying to be set on a copy of a slice from a DataFrame.\n",
      "Try using .loc[row_indexer,col_indexer] = value instead\n",
      "\n",
      "See the caveats in the documentation: https://pandas.pydata.org/pandas-docs/stable/user_guide/indexing.html#returning-a-view-versus-a-copy\n",
      "  self.obj[key] = _infer_fill_value(value)\n",
      "/sas/sasdata/users/ld07716/anaconda3/lib/python3.6/site-packages/pandas/core/indexing.py:1745: SettingWithCopyWarning: \n",
      "A value is trying to be set on a copy of a slice from a DataFrame.\n",
      "Try using .loc[row_indexer,col_indexer] = value instead\n",
      "\n",
      "See the caveats in the documentation: https://pandas.pydata.org/pandas-docs/stable/user_guide/indexing.html#returning-a-view-versus-a-copy\n",
      "  isetter(ilocs[0], value)\n"
     ]
    },
    {
     "data": {
      "text/plain": [
       "<Figure size 432x288 with 0 Axes>"
      ]
     },
     "metadata": {},
     "output_type": "display_data"
    },
    {
     "data": {
      "image/png": "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\n",
      "text/plain": [
       "<Figure size 1152x720 with 2 Axes>"
      ]
     },
     "metadata": {
      "needs_background": "light"
     },
     "output_type": "display_data"
    },
    {
     "data": {
      "text/plain": [
       "<Figure size 432x288 with 0 Axes>"
      ]
     },
     "metadata": {},
     "output_type": "display_data"
    }
   ],
   "source": [
    "joe_print_eval = la.analyse_single_evaluation(evaluation_log, l_inner_border, l_outer_border, episodes=3)\n",
    "joe_print_eval"
   ]
<<<<<<< HEAD
  },
  {
   "cell_type": "markdown",
   "metadata": {},
   "source": [
    "## Plotting Progress"
   ]
  },
  {
   "cell_type": "markdown",
   "metadata": {},
   "source": [
    "The following code chunks do the following:\n",
    "- import training log files (use the robomaker logs)\n",
    "- generate a custom graph of progress\n",
    "- use the log_analysis class to output graphs"
   ]
  },
  {
   "cell_type": "markdown",
   "metadata": {},
   "source": [
    "#### Import Training Log"
   ]
  },
  {
   "cell_type": "code",
   "execution_count": 70,
   "metadata": {},
   "outputs": [
    {
     "data": {
      "text/html": [
       "<div>\n",
       "<style scoped>\n",
       "    .dataframe tbody tr th:only-of-type {\n",
       "        vertical-align: middle;\n",
       "    }\n",
       "\n",
       "    .dataframe tbody tr th {\n",
       "        vertical-align: top;\n",
       "    }\n",
       "\n",
       "    .dataframe thead th {\n",
       "        text-align: right;\n",
       "    }\n",
       "</style>\n",
       "<table border=\"1\" class=\"dataframe\">\n",
       "  <thead>\n",
       "    <tr style=\"text-align: right;\">\n",
       "      <th></th>\n",
       "      <th>iteration</th>\n",
       "      <th>episode</th>\n",
       "      <th>steps</th>\n",
       "      <th>x</th>\n",
       "      <th>y</th>\n",
       "      <th>yaw</th>\n",
       "      <th>steer</th>\n",
       "      <th>throttle</th>\n",
       "      <th>action</th>\n",
       "      <th>reward</th>\n",
       "      <th>done</th>\n",
       "      <th>on_track</th>\n",
       "      <th>progress</th>\n",
       "      <th>closest_waypoint</th>\n",
       "      <th>track_len</th>\n",
       "      <th>timestamp</th>\n",
       "    </tr>\n",
       "  </thead>\n",
       "  <tbody>\n",
       "    <tr>\n",
       "      <th>0</th>\n",
       "      <td>1</td>\n",
       "      <td>0</td>\n",
       "      <td>3</td>\n",
       "      <td>320.19</td>\n",
       "      <td>68.29</td>\n",
       "      <td>0.1192</td>\n",
       "      <td>-15.0</td>\n",
       "      <td>1.0</td>\n",
       "      <td>3.0</td>\n",
       "      <td>2.0</td>\n",
       "      <td>0</td>\n",
       "      <td>True</td>\n",
       "      <td>0.8029</td>\n",
       "      <td>1</td>\n",
       "      <td>17.71</td>\n",
       "      <td>22.114</td>\n",
       "    </tr>\n",
       "    <tr>\n",
       "      <th>1</th>\n",
       "      <td>1</td>\n",
       "      <td>0</td>\n",
       "      <td>4</td>\n",
       "      <td>321.88</td>\n",
       "      <td>68.08</td>\n",
       "      <td>-0.4122</td>\n",
       "      <td>15.0</td>\n",
       "      <td>3.0</td>\n",
       "      <td>11.0</td>\n",
       "      <td>2.0</td>\n",
       "      <td>0</td>\n",
       "      <td>True</td>\n",
       "      <td>0.8980</td>\n",
       "      <td>1</td>\n",
       "      <td>17.71</td>\n",
       "      <td>22.185</td>\n",
       "    </tr>\n",
       "    <tr>\n",
       "      <th>2</th>\n",
       "      <td>1</td>\n",
       "      <td>0</td>\n",
       "      <td>5</td>\n",
       "      <td>331.23</td>\n",
       "      <td>67.77</td>\n",
       "      <td>-0.9325</td>\n",
       "      <td>30.0</td>\n",
       "      <td>1.0</td>\n",
       "      <td>12.0</td>\n",
       "      <td>2.0</td>\n",
       "      <td>0</td>\n",
       "      <td>True</td>\n",
       "      <td>1.4263</td>\n",
       "      <td>2</td>\n",
       "      <td>17.71</td>\n",
       "      <td>22.209</td>\n",
       "    </tr>\n",
       "    <tr>\n",
       "      <th>3</th>\n",
       "      <td>1</td>\n",
       "      <td>0</td>\n",
       "      <td>6</td>\n",
       "      <td>334.01</td>\n",
       "      <td>68.07</td>\n",
       "      <td>-0.3234</td>\n",
       "      <td>30.0</td>\n",
       "      <td>3.0</td>\n",
       "      <td>14.0</td>\n",
       "      <td>2.0</td>\n",
       "      <td>0</td>\n",
       "      <td>True</td>\n",
       "      <td>1.5832</td>\n",
       "      <td>2</td>\n",
       "      <td>17.71</td>\n",
       "      <td>22.333</td>\n",
       "    </tr>\n",
       "    <tr>\n",
       "      <th>4</th>\n",
       "      <td>1</td>\n",
       "      <td>0</td>\n",
       "      <td>7</td>\n",
       "      <td>336.17</td>\n",
       "      <td>68.36</td>\n",
       "      <td>0.4288</td>\n",
       "      <td>15.0</td>\n",
       "      <td>3.0</td>\n",
       "      <td>11.0</td>\n",
       "      <td>2.0</td>\n",
       "      <td>0</td>\n",
       "      <td>True</td>\n",
       "      <td>1.7053</td>\n",
       "      <td>2</td>\n",
       "      <td>17.71</td>\n",
       "      <td>22.377</td>\n",
       "    </tr>\n",
       "  </tbody>\n",
       "</table>\n",
       "</div>"
      ],
      "text/plain": [
       "   iteration  episode  steps       x      y     yaw  steer  throttle  action  \\\n",
       "0          1        0      3  320.19  68.29  0.1192  -15.0       1.0     3.0   \n",
       "1          1        0      4  321.88  68.08 -0.4122   15.0       3.0    11.0   \n",
       "2          1        0      5  331.23  67.77 -0.9325   30.0       1.0    12.0   \n",
       "3          1        0      6  334.01  68.07 -0.3234   30.0       3.0    14.0   \n",
       "4          1        0      7  336.17  68.36  0.4288   15.0       3.0    11.0   \n",
       "\n",
       "   reward  done on_track  progress  closest_waypoint  track_len timestamp  \n",
       "0     2.0     0     True    0.8029                 1      17.71    22.114  \n",
       "1     2.0     0     True    0.8980                 1      17.71    22.185  \n",
       "2     2.0     0     True    1.4263                 2      17.71    22.209  \n",
       "3     2.0     0     True    1.5832                 2      17.71    22.333  \n",
       "4     2.0     0     True    1.7053                 2      17.71    22.377  "
      ]
     },
     "execution_count": 70,
     "metadata": {},
     "output_type": "execute_result"
    }
   ],
   "source": [
    "# import log file from training\n",
    "# racingline-speed: 'DL-racingline-speed-version2-clone', training-20210205063910-yYUXLgdcQxOYeqQsjEFxnA-robomaker.log'\n",
    "# centerline-speed: 'DL-centerline-speed', 'training-20210204051633-yv2A1t5NQLKkK6n2QqARCA-robomaker.log'\n",
    "logfolder = 'DL-centerline-speed'\n",
    "logfile = 'training-20210204051633-yv2A1t5NQLKkK6n2QqARCA-robomaker.log'\n",
    "\n",
    "# logfolder = 'DL-racingline-speed-version2-clone'\n",
    "# logfile = 'training-20210205063910-yYUXLgdcQxOYeqQsjEFxnA-robomaker.log'\n",
    "\n",
    "training_log = f'{projectDir}/{logfolder}/logs/training/{logfile}'\n",
    "\n",
    "# load into pandas df\n",
    "training = la.load_data(training_log)\n",
    "training_df = la.convert_to_pandas(training)\n",
    "training_df.head()"
   ]
  },
  {
   "cell_type": "markdown",
   "metadata": {},
   "source": [
    "#### Custom Graph of Progress"
   ]
  },
  {
   "cell_type": "code",
   "execution_count": 74,
   "metadata": {},
   "outputs": [
    {
     "data": {
      "text/html": [
       "        <script type=\"text/javascript\">\n",
       "        window.PlotlyConfig = {MathJaxConfig: 'local'};\n",
       "        if (window.MathJax) {MathJax.Hub.Config({SVG: {font: \"STIX-Web\"}});}\n",
       "        if (typeof require !== 'undefined') {\n",
       "        require.undef(\"plotly\");\n",
       "        requirejs.config({\n",
       "            paths: {\n",
       "                'plotly': ['https://cdn.plot.ly/plotly-latest.min']\n",
       "            }\n",
       "        });\n",
       "        require(['plotly'], function(Plotly) {\n",
       "            window._Plotly = Plotly;\n",
       "        });\n",
       "        }\n",
       "        </script>\n",
       "        "
      ]
     },
     "metadata": {},
     "output_type": "display_data"
    },
    {
     "data": {
      "application/vnd.plotly.v1+json": {
       "config": {
        "plotlyServerURL": "https://plot.ly"
       },
       "data": [
        {
         "line": {
          "color": "orange"
         },
         "mode": "markers",
         "name": "progress by episode",
         "type": "scatter",
         "x": [
          0,
          1,
          2,
          3,
          4,
          5,
          6,
          7,
          8,
          9,
          10,
          11,
          12,
          13,
          14,
          15,
          16,
          17,
          18,
          19,
          20,
          21,
          22,
          23,
          24,
          25,
          26,
          27,
          28,
          29,
          30,
          31,
          32,
          33,
          34,
          35,
          36,
          37,
          38,
          39,
          40,
          41,
          42,
          43,
          44,
          45,
          46,
          47,
          48,
          49,
          50,
          51,
          52,
          53,
          54,
          55,
          56,
          57,
          58,
          59,
          60,
          61,
          62,
          63,
          64,
          65,
          66,
          67,
          68,
          69,
          70,
          71,
          72,
          73,
          74,
          75,
          76,
          77,
          78,
          79,
          80,
          81,
          82,
          83,
          84,
          85,
          86,
          87,
          88,
          89,
          90,
          91,
          92,
          93,
          94,
          95,
          96,
          97,
          98,
          99,
          100,
          101,
          102,
          103,
          104,
          105,
          106,
          107,
          108,
          109,
          110,
          111,
          112,
          113,
          114,
          115,
          116,
          117,
          118,
          119,
          120,
          121,
          122,
          123,
          124,
          125,
          126,
          127,
          128,
          129,
          130,
          131,
          132,
          133,
          134,
          135,
          136,
          137,
          138,
          139,
          140,
          141,
          142,
          143,
          144,
          145,
          146,
          147,
          148,
          149,
          150,
          151,
          152,
          153,
          154,
          155,
          156,
          157,
          158,
          159,
          160,
          161,
          162,
          163,
          164,
          165,
          166,
          167,
          168,
          169,
          170,
          171,
          172,
          173,
          174,
          175,
          176,
          177,
          178,
          179,
          180,
          181,
          182,
          183,
          184,
          185,
          186,
          187,
          188,
          189,
          190,
          191,
          192,
          193,
          194,
          195,
          196,
          197,
          198,
          199,
          200,
          201,
          202,
          203,
          204,
          205,
          206,
          207,
          208,
          209,
          210,
          211,
          212,
          213,
          214,
          215,
          216,
          217,
          218,
          219,
          220,
          221,
          222,
          223,
          224,
          225,
          226,
          227,
          228,
          229,
          230,
          231,
          232,
          233,
          234,
          235,
          236,
          237,
          238,
          239,
          240,
          241,
          242,
          243,
          244,
          245,
          246,
          247,
          248,
          249,
          250,
          251,
          252,
          253,
          254,
          255,
          256,
          257,
          258,
          259,
          260,
          261,
          262,
          263,
          264,
          265,
          266,
          267,
          268,
          269,
          270,
          271,
          272,
          273,
          274,
          275,
          276,
          277,
          278,
          279,
          280,
          281,
          282,
          283,
          284,
          285,
          286,
          287,
          288,
          289,
          290,
          291,
          292,
          293,
          294,
          295,
          296,
          297,
          298,
          299,
          300,
          301,
          302,
          303,
          304,
          305,
          306,
          307,
          308,
          309,
          310,
          311,
          312,
          313,
          314,
          315,
          316,
          317,
          318,
          319,
          320,
          321,
          322,
          323,
          324,
          325,
          326,
          327,
          328,
          329,
          330,
          331,
          332,
          333,
          334,
          335,
          336,
          337,
          338,
          339,
          340,
          341,
          342,
          343,
          344,
          345,
          346,
          347,
          348,
          349,
          350,
          351,
          352,
          353,
          354,
          355,
          356,
          357,
          358,
          359,
          360,
          361,
          362,
          363,
          364,
          365,
          366,
          367,
          368,
          369,
          370,
          371,
          372,
          373,
          374,
          375,
          376,
          377,
          378,
          379,
          380,
          381,
          382,
          383,
          384,
          385,
          386,
          387,
          388,
          389,
          390,
          391,
          392,
          393,
          394,
          395,
          396,
          397,
          398,
          399,
          400,
          401,
          402,
          403,
          404,
          405,
          406,
          407,
          408,
          409,
          410,
          411,
          412,
          413,
          414,
          415,
          416,
          417,
          418,
          419,
          420,
          421,
          422,
          423,
          424,
          425,
          426,
          427,
          428,
          429,
          430,
          431,
          432,
          433,
          434,
          435,
          436,
          437,
          438,
          439,
          440,
          441,
          442,
          443,
          444,
          445,
          446,
          447,
          448,
          449,
          450,
          451,
          452,
          453,
          454,
          455,
          456,
          457,
          458,
          459,
          460,
          461,
          462,
          463,
          464,
          465,
          466,
          467,
          468,
          469,
          470,
          471,
          472,
          473,
          474,
          475,
          476,
          477,
          478,
          479,
          480,
          481,
          482,
          483,
          484,
          485,
          486,
          487,
          488,
          489,
          490,
          491,
          492,
          493,
          494,
          495,
          496,
          497,
          498,
          499,
          500,
          501,
          502,
          503,
          504,
          505,
          506,
          507,
          508,
          509,
          510,
          511,
          512,
          513,
          514,
          515,
          516,
          517,
          518,
          519,
          520,
          521,
          522,
          523,
          524,
          525,
          526,
          527,
          528,
          529,
          530,
          531,
          532,
          533,
          534,
          535,
          536,
          537,
          538,
          539,
          540,
          541,
          542,
          543,
          544,
          545,
          546,
          547,
          548,
          549,
          550,
          551,
          552,
          553,
          554,
          555,
          556,
          557,
          558,
          559,
          560,
          561,
          562,
          563,
          564,
          565,
          566,
          567,
          568,
          569,
          570,
          571,
          572,
          573,
          574,
          575,
          576,
          577,
          578,
          579,
          580,
          581,
          582,
          583,
          584,
          585,
          586,
          587,
          588,
          589,
          590,
          591,
          592,
          593,
          594,
          595,
          596,
          597,
          598,
          599
         ],
         "y": [
          6.030227999999999,
          3.637376470588235,
          4.334261904761905,
          4.723108695652173,
          2.088006666666667,
          2.7663,
          2.1626266666666667,
          13.429267391304348,
          3.8780636363636365,
          7.986265625,
          2.4781400000000002,
          1.995625,
          3.445422222222222,
          3.4384,
          2.283333333333333,
          5.702068,
          6.851413333333334,
          4.213180952380952,
          3.984338095238096,
          8.384596969696968,
          5.0656681818181815,
          2.7403529411764707,
          6.202196428571428,
          3.7060250000000003,
          3.915319047619048,
          2.25628,
          2.648825,
          4.323684210526316,
          4.237090476190476,
          2.82833125,
          20.32440147058823,
          2.9058736842105266,
          9.573159459459458,
          2.2093599999999998,
          2.64604705882353,
          3.8986999999999994,
          5.9836074074074075,
          3.8482761904761906,
          2.32768,
          6.561779310344827,
          3.0770611111111115,
          7.117139285714286,
          7.046003571428571,
          2.5015687499999997,
          2.077,
          3.0076055555555556,
          2.3576117647058825,
          2.4525733333333335,
          3.6200550000000007,
          2.7861000000000002,
          6.2710037037037045,
          2.822076470588235,
          15.981899999999998,
          4.4561090909090915,
          8.781694871794873,
          5.935307407407408,
          11.896958139534885,
          3.5729166666666665,
          3.5705190476190474,
          3.269382352941176,
          4.592643478260869,
          4.380845,
          4.944159999999999,
          7.746490625,
          2.9849263157894734,
          2.4014562500000003,
          2.27598125,
          6.2629399999999995,
          2.5614823529411765,
          2.19465625,
          8.788376470588236,
          2.50446875,
          7.584542424242424,
          7.980681818181819,
          3.156977777777778,
          2.84005,
          6.952739285714285,
          6.486685185185185,
          2.90686875,
          5.96923076923077,
          4.400554545454545,
          5.911967857142857,
          2.8998705882352946,
          3.6860950000000003,
          3.6331263157894735,
          2.5437125,
          2.682725,
          4.4291,
          4.239309090909091,
          2.8879312500000003,
          13.365228846153851,
          3.0192777777777775,
          5.204411111111112,
          6.469751724137931,
          1.9714357142857144,
          4.423385714285715,
          4.483327272727272,
          5.871467857142858,
          1.8742642857142857,
          9.381202631578946,
          4.697207692307692,
          10.664561904761902,
          7.609622222222222,
          5.881777777777777,
          3.56656,
          3.6295238095238096,
          3.487819047619048,
          9.7709175,
          4.0067590909090915,
          8.359046666666668,
          10.381856756756758,
          7.8808525000000005,
          18.504749999999994,
          7.853844444444444,
          3.007675,
          3.311765,
          6.597720689655174,
          4.295829166666667,
          2.0750875,
          25.895400000000002,
          16.462683606557377,
          6.681293939393939,
          10.930807692307692,
          8.51427804878049,
          3.536105,
          2.8289588235294114,
          3.40668,
          3.3834947368421053,
          14.658052000000003,
          2.29388,
          4.615784,
          4.705354166666666,
          3.524773684210526,
          12.64498139534884,
          1.7830785714285713,
          9.263952500000002,
          10.049509302325582,
          4.746595454545456,
          5.401973333333332,
          7.715315151515151,
          14.776794736842104,
          15.554633962264148,
          6.203989285714284,
          5.5306679999999995,
          2.46368125,
          11.975209615384614,
          2.0855799999999998,
          5.649476923076923,
          3.797247619047619,
          2.2164333333333333,
          15.837958928571428,
          5.1202125,
          7.437887096774196,
          3.0581933333333335,
          11.683661224489795,
          7.778520588235294,
          10.787268421052628,
          4.551529166666667,
          17.928380281690142,
          14.407475409836067,
          3.5349250000000003,
          13.287716981132077,
          7.856939393939392,
          15.52195833333333,
          3.1105380952380948,
          8.954395348837208,
          3.3947499999999997,
          3.149147368421052,
          17.91449852941176,
          9.571630232558139,
          10.805618181818183,
          6.513748387096774,
          3.8869,
          4.232743478260869,
          6.931662857142857,
          3.9349450000000004,
          13.9832375,
          22.116639759036143,
          7.261230769230769,
          4.59335652173913,
          9.954630952380953,
          8.611494285714286,
          10.411805000000001,
          4.098936363636364,
          4.112070833333333,
          23.03573375,
          2.6145941176470586,
          2.9972764705882358,
          3.6379294117647056,
          13.118534482758623,
          3.203729411764706,
          5.124084615384616,
          4.7369863636363645,
          5.131908000000001,
          8.882627499999998,
          7.019336363636365,
          3.422229411764706,
          2.8441199999999998,
          5.889137931034482,
          3.2905444444444445,
          8.180150000000001,
          2.8998,
          9.127847368421053,
          4.967048,
          2.5160176470588236,
          6.5939848484848484,
          4.070916666666667,
          2.09385,
          3.3364499999999997,
          4.032545,
          3.987277272727273,
          7.095891176470587,
          5.076732142857142,
          5.031647999999999,
          5.3389999999999995,
          9.876081818181818,
          4.973504166666668,
          8.402629999999998,
          2.1797066666666667,
          9.167847222222221,
          7.898097297297298,
          18.882192307692304,
          9.905613888888888,
          3.9053799999999996,
          3.433433333333333,
          16.628818666666664,
          3.5619500000000004,
          3.54057619047619,
          11.194385000000002,
          2.915294736842105,
          3.2745499999999996,
          5.262315999999999,
          3.0713222222222223,
          9.631060000000002,
          2.44138125,
          19.036447826086956,
          15.237324074074074,
          12.194094230769227,
          11.22197924528302,
          10.147097619047619,
          3.9597947368421047,
          6.042103333333333,
          5.239685714285713,
          3.3066947368421054,
          3.527072727272727,
          3.4406950000000003,
          8.015320512820514,
          2.31498,
          9.861960526315789,
          8.67318823529412,
          5.145068,
          3.2638700000000007,
          8.264045454545455,
          5.973793103448277,
          4.646699999999999,
          12.099993617021276,
          12.669070175438595,
          4.187895833333333,
          7.312142857142857,
          12.61221063829787,
          2.9383117647058823,
          13.203166666666668,
          2.9492235294117646,
          8.477883783783785,
          3.121015,
          3.841556521739131,
          6.306954838709678,
          4.946177272727272,
          9.494502941176467,
          12.053588135593222,
          23.479093181818186,
          5.493054838709678,
          11.463987804878048,
          7.671886206896553,
          11.117564814814818,
          7.192177777777778,
          6.998170588235295,
          12.9874375,
          20.102945454545456,
          15.162371929824559,
          10.986885714285714,
          8.99836875,
          5.15944347826087,
          6.457835714285714,
          5.6522821428571435,
          3.1357600000000003,
          3.269017647058823,
          10.449078571428569,
          9.199986111111112,
          6.620822580645162,
          10.28016511627907,
          10.65156304347826,
          21.30740833333333,
          20.114211428571426,
          7.1697437499999985,
          16.224632727272727,
          7.181996551724138,
          11.343682000000001,
          2.2531375,
          7.757892105263159,
          3.782936842105263,
          12.030051162790697,
          5.766040740740741,
          4.878478260869565,
          7.634241463414634,
          11.369733333333334,
          3.7288545454545456,
          2.8746388888888887,
          11.165140816326529,
          3.0291277777777776,
          11.08666046511628,
          5.476057692307692,
          9.619781395348838,
          2.9194947368421054,
          7.396002631578945,
          10.338140476190475,
          6.044644,
          19.211885074626867,
          5.771876000000001,
          13.644244230769228,
          4.806088461538462,
          11.52623157894737,
          3.9978888888888884,
          4.906544444444444,
          2.2675666666666667,
          7.936429999999999,
          5.241583333333334,
          5.525338461538462,
          13.05407659574468,
          6.237210714285715,
          9.114651219512195,
          33.11299262295081,
          5.660622222222224,
          2.91428,
          6.695103124999999,
          10.054033333333335,
          7.951692105263159,
          8.684724242424242,
          5.3814,
          6.143840740740742,
          6.151161764705883,
          12.92077916666667,
          5.130984,
          3.9023399999999997,
          13.257815384615382,
          8.517493181818184,
          9.846020512820512,
          5.332377777777778,
          11.074913953488371,
          19.552611111111116,
          9.994021951219512,
          48.53270476190478,
          5.764722222222222,
          6.223237037037037,
          7.7938075,
          8.559392105263157,
          5.68832962962963,
          9.552615,
          4.441959090909091,
          24.66173298969073,
          15.070660937500001,
          14.946117741935481,
          12.640292857142857,
          19.841771052631582,
          6.141303333333334,
          15.325113636363636,
          8.431394871794874,
          28.12314455445545,
          3.201994736842105,
          6.258523333333334,
          5.386342307692308,
          5.449028571428571,
          4.9902999999999995,
          5.2899375,
          8.689318918918918,
          22.461110752688178,
          14.00962898550725,
          13.18947857142857,
          12.524396666666664,
          9.3843,
          2.417117647058824,
          9.660490697674417,
          16.50523181818182,
          12.460606000000002,
          7.5485944444444435,
          3.4862285714285717,
          3.289077272727273,
          11.871728888888889,
          8.042229411764705,
          5.680910714285715,
          9.92564871794872,
          15.296978333333335,
          11.30399333333334,
          5.0306500000000005,
          3.227205,
          3.302984210526316,
          5.568013793103448,
          12.643149999999999,
          3.499073684210526,
          8.825503125000001,
          21.97972093023256,
          7.505705714285715,
          11.40290357142857,
          3.704513043478261,
          14.6701328358209,
          2.675822222222222,
          2.730094117647059,
          3.071016666666667,
          9.803557142857143,
          6.702082758620691,
          18.84638395061728,
          11.438523255813955,
          16.28068783783784,
          11.583419999999998,
          32.494277499999995,
          8.591807894736842,
          15.42492153846154,
          16.723933333333335,
          6.066325806451612,
          14.64477833333333,
          16.757737878787875,
          7.895618918918918,
          3.509315,
          4.095452,
          3.155795,
          3.9931875,
          5.004370370370371,
          6.916293548387096,
          15.825792063492061,
          4.619226086956522,
          3.093744444444445,
          6.086981249999999,
          6.432532258064517,
          10.966528571428572,
          3.23163,
          7.936768292682926,
          6.8885178571428565,
          12.404712499999997,
          4.174285714285714,
          13.700837288135592,
          18.233009523809525,
          16.10834925373134,
          14.614095161290326,
          7.8968525,
          12.645380357142852,
          2.7939900000000004,
          6.978102941176471,
          17.391455737704923,
          10.49870465116279,
          7.71908064516129,
          3.1421749999999995,
          11.532614583333332,
          22.199355294117645,
          8.945663636363639,
          11.273751923076926,
          17.742786111111112,
          10.298662499999999,
          8.16001081081081,
          8.366555263157895,
          6.357174193548386,
          15.591840909090909,
          13.55022166666667,
          9.943200000000001,
          4.718586363636364,
          8.438141935483872,
          3.3312649999999997,
          2.445125,
          20.49638076923076,
          10.205905128205128,
          23.287685567010307,
          11.537535294117646,
          6.294865625,
          15.651043548387099,
          21.319945205479453,
          7.098877142857143,
          12.393762264150942,
          26.06164639175257,
          14.012414754098364,
          5.139982142857143,
          4.721403999999998,
          15.28261875,
          12.426598039215683,
          4.816816666666666,
          13.863444000000001,
          13.61873529411765,
          10.864950980392155,
          7.016534285714286,
          4.010236363636363,
          15.17838,
          15.379810937500004,
          4.392708695652174,
          13.044014516129034,
          11.35721632653061,
          10.37972888888889,
          26.028645283018868,
          6.43870303030303,
          16.814428571428568,
          17.866669230769237,
          10.109280851063827,
          18.77673780487805,
          7.692897297297297,
          13.206741666666664,
          16.007763492063493,
          3.374370588235294,
          9.360286666666669,
          5.571575862068965,
          2.7409499999999998,
          6.374410344827586,
          14.686146428571424,
          10.320574999999998,
          19.584879012345684,
          6.470690000000001,
          8.367757142857144,
          16.93830895522388,
          4.725253846153846,
          8.633464864864864,
          16.227203076923075,
          24.254365853658538,
          8.33746046511628,
          14.293612727272727,
          20.707485263157896,
          11.81594375,
          28.80100000000001,
          12.970722222222221,
          10.993707142857144,
          4.575737500000001,
          14.48462372881356,
          6.880908823529412,
          4.563469230769231,
          13.265995384615382,
          26.581527102803737,
          9.05882682926829,
          6.484835483870968,
          29.398773584905662,
          37.102931333333345,
          3.5768090909090913,
          31.709661475409835,
          31.890374796747974,
          21.56944747474748,
          18.108530136986303,
          9.05296052631579,
          21.438585714285715,
          21.062553086419758,
          11.890714545454545,
          6.247937037037037,
          4.912558333333333,
          8.185897297297295,
          9.62623947368421,
          7.019324137931036,
          16.084275362318838,
          12.704996491228068,
          13.899824528301888,
          25.10097647058825,
          20.28046625,
          3.7310952380952385,
          8.847369230769232,
          20.03608571428571,
          4.850092592592592,
          14.67906666666667,
          16.318125714285713,
          3.4909,
          20.216688235294118,
          12.111265384615384,
          11.69528780487805,
          25.766056310679602,
          11.117666666666667,
          2.4322882352941178,
          8.07145625,
          7.282915624999999,
          3.11388947368421,
          22.483043750000007,
          9.094011764705883,
          25.7443793814433,
          10.820604878048776,
          11.691254166666667,
          32.11364871794872,
          16.194984722222227,
          21.373339759036142,
          26.213127522935785,
          3.995483333333334,
          4.704729166666667,
          7.855172222222221,
          22.775048888888893,
          18.2558641025641,
          36.89567101449274,
          3.9805916666666668,
          12.383694117647059,
          4.769270833333334,
          7.12699,
          3.0133368421052635,
          11.0132612244898,
          6.187432258064517,
          29.112715517241377,
          6.021888461538461,
          36.518836054421755,
          9.416497872340424,
          17.776885714285715,
          7.062015625,
          28.37719557522124,
          5.441885185185185
         ]
        },
        {
         "line": {
          "color": "firebrick",
          "width": 4
         },
         "name": "progress by iteration",
         "type": "scatter",
         "x": [
          20,
          40,
          60,
          80,
          100,
          120,
          140,
          160,
          180,
          200,
          220,
          240,
          260,
          280,
          300,
          320,
          340,
          360,
          380,
          400,
          420,
          440,
          460,
          480,
          500,
          520,
          540,
          560,
          580,
          600
         ],
         "y": [
          5.626201569506727,
          6.902365010799144,
          6.414728602150536,
          5.399483947939257,
          5.677688528138527,
          10.420866919575108,
          8.563168256578937,
          10.866513502109699,
          11.057056037991856,
          9.131000505050512,
          6.205899814471241,
          11.293244549125168,
          7.627889785831966,
          12.084478219013228,
          11.356306056701023,
          9.51567819767441,
          12.008994645441394,
          18.256036440677956,
          14.477639940239024,
          9.666866480446933,
          15.584668415841554,
          9.123212278106507,
          13.05530758835759,
          15.043800507099405,
          14.375833174451877,
          13.103452591792657,
          22.73662337031902,
          15.597364935064927,
          19.091023670668953,
          21.287489058524173
         ]
        }
       ],
       "layout": {
        "template": {
         "data": {
          "bar": [
           {
            "error_x": {
             "color": "rgb(36,36,36)"
            },
            "error_y": {
             "color": "rgb(36,36,36)"
            },
            "marker": {
             "line": {
              "color": "white",
              "width": 0.5
             }
            },
            "type": "bar"
           }
          ],
          "barpolar": [
           {
            "marker": {
             "line": {
              "color": "white",
              "width": 0.5
             }
            },
            "type": "barpolar"
           }
          ],
          "carpet": [
           {
            "aaxis": {
             "endlinecolor": "rgb(36,36,36)",
             "gridcolor": "white",
             "linecolor": "white",
             "minorgridcolor": "white",
             "startlinecolor": "rgb(36,36,36)"
            },
            "baxis": {
             "endlinecolor": "rgb(36,36,36)",
             "gridcolor": "white",
             "linecolor": "white",
             "minorgridcolor": "white",
             "startlinecolor": "rgb(36,36,36)"
            },
            "type": "carpet"
           }
          ],
          "choropleth": [
           {
            "colorbar": {
             "outlinewidth": 1,
             "tickcolor": "rgb(36,36,36)",
             "ticks": "outside"
            },
            "type": "choropleth"
           }
          ],
          "contour": [
           {
            "colorbar": {
             "outlinewidth": 1,
             "tickcolor": "rgb(36,36,36)",
             "ticks": "outside"
            },
            "colorscale": [
             [
              0,
              "#440154"
             ],
             [
              0.1111111111111111,
              "#482878"
             ],
             [
              0.2222222222222222,
              "#3e4989"
             ],
             [
              0.3333333333333333,
              "#31688e"
             ],
             [
              0.4444444444444444,
              "#26828e"
             ],
             [
              0.5555555555555556,
              "#1f9e89"
             ],
             [
              0.6666666666666666,
              "#35b779"
             ],
             [
              0.7777777777777778,
              "#6ece58"
             ],
             [
              0.8888888888888888,
              "#b5de2b"
             ],
             [
              1,
              "#fde725"
             ]
            ],
            "type": "contour"
           }
          ],
          "contourcarpet": [
           {
            "colorbar": {
             "outlinewidth": 1,
             "tickcolor": "rgb(36,36,36)",
             "ticks": "outside"
            },
            "type": "contourcarpet"
           }
          ],
          "heatmap": [
           {
            "colorbar": {
             "outlinewidth": 1,
             "tickcolor": "rgb(36,36,36)",
             "ticks": "outside"
            },
            "colorscale": [
             [
              0,
              "#440154"
             ],
             [
              0.1111111111111111,
              "#482878"
             ],
             [
              0.2222222222222222,
              "#3e4989"
             ],
             [
              0.3333333333333333,
              "#31688e"
             ],
             [
              0.4444444444444444,
              "#26828e"
             ],
             [
              0.5555555555555556,
              "#1f9e89"
             ],
             [
              0.6666666666666666,
              "#35b779"
             ],
             [
              0.7777777777777778,
              "#6ece58"
             ],
             [
              0.8888888888888888,
              "#b5de2b"
             ],
             [
              1,
              "#fde725"
             ]
            ],
            "type": "heatmap"
           }
          ],
          "heatmapgl": [
           {
            "colorbar": {
             "outlinewidth": 1,
             "tickcolor": "rgb(36,36,36)",
             "ticks": "outside"
            },
            "colorscale": [
             [
              0,
              "#440154"
             ],
             [
              0.1111111111111111,
              "#482878"
             ],
             [
              0.2222222222222222,
              "#3e4989"
             ],
             [
              0.3333333333333333,
              "#31688e"
             ],
             [
              0.4444444444444444,
              "#26828e"
             ],
             [
              0.5555555555555556,
              "#1f9e89"
             ],
             [
              0.6666666666666666,
              "#35b779"
             ],
             [
              0.7777777777777778,
              "#6ece58"
             ],
             [
              0.8888888888888888,
              "#b5de2b"
             ],
             [
              1,
              "#fde725"
             ]
            ],
            "type": "heatmapgl"
           }
          ],
          "histogram": [
           {
            "marker": {
             "line": {
              "color": "white",
              "width": 0.6
             }
            },
            "type": "histogram"
           }
          ],
          "histogram2d": [
           {
            "colorbar": {
             "outlinewidth": 1,
             "tickcolor": "rgb(36,36,36)",
             "ticks": "outside"
            },
            "colorscale": [
             [
              0,
              "#440154"
             ],
             [
              0.1111111111111111,
              "#482878"
             ],
             [
              0.2222222222222222,
              "#3e4989"
             ],
             [
              0.3333333333333333,
              "#31688e"
             ],
             [
              0.4444444444444444,
              "#26828e"
             ],
             [
              0.5555555555555556,
              "#1f9e89"
             ],
             [
              0.6666666666666666,
              "#35b779"
             ],
             [
              0.7777777777777778,
              "#6ece58"
             ],
             [
              0.8888888888888888,
              "#b5de2b"
             ],
             [
              1,
              "#fde725"
             ]
            ],
            "type": "histogram2d"
           }
          ],
          "histogram2dcontour": [
           {
            "colorbar": {
             "outlinewidth": 1,
             "tickcolor": "rgb(36,36,36)",
             "ticks": "outside"
            },
            "colorscale": [
             [
              0,
              "#440154"
             ],
             [
              0.1111111111111111,
              "#482878"
             ],
             [
              0.2222222222222222,
              "#3e4989"
             ],
             [
              0.3333333333333333,
              "#31688e"
             ],
             [
              0.4444444444444444,
              "#26828e"
             ],
             [
              0.5555555555555556,
              "#1f9e89"
             ],
             [
              0.6666666666666666,
              "#35b779"
             ],
             [
              0.7777777777777778,
              "#6ece58"
             ],
             [
              0.8888888888888888,
              "#b5de2b"
             ],
             [
              1,
              "#fde725"
             ]
            ],
            "type": "histogram2dcontour"
           }
          ],
          "mesh3d": [
           {
            "colorbar": {
             "outlinewidth": 1,
             "tickcolor": "rgb(36,36,36)",
             "ticks": "outside"
            },
            "type": "mesh3d"
           }
          ],
          "parcoords": [
           {
            "line": {
             "colorbar": {
              "outlinewidth": 1,
              "tickcolor": "rgb(36,36,36)",
              "ticks": "outside"
             }
            },
            "type": "parcoords"
           }
          ],
          "pie": [
           {
            "automargin": true,
            "type": "pie"
           }
          ],
          "scatter": [
           {
            "marker": {
             "colorbar": {
              "outlinewidth": 1,
              "tickcolor": "rgb(36,36,36)",
              "ticks": "outside"
             }
            },
            "type": "scatter"
           }
          ],
          "scatter3d": [
           {
            "line": {
             "colorbar": {
              "outlinewidth": 1,
              "tickcolor": "rgb(36,36,36)",
              "ticks": "outside"
             }
            },
            "marker": {
             "colorbar": {
              "outlinewidth": 1,
              "tickcolor": "rgb(36,36,36)",
              "ticks": "outside"
             }
            },
            "type": "scatter3d"
           }
          ],
          "scattercarpet": [
           {
            "marker": {
             "colorbar": {
              "outlinewidth": 1,
              "tickcolor": "rgb(36,36,36)",
              "ticks": "outside"
             }
            },
            "type": "scattercarpet"
           }
          ],
          "scattergeo": [
           {
            "marker": {
             "colorbar": {
              "outlinewidth": 1,
              "tickcolor": "rgb(36,36,36)",
              "ticks": "outside"
             }
            },
            "type": "scattergeo"
           }
          ],
          "scattergl": [
           {
            "marker": {
             "colorbar": {
              "outlinewidth": 1,
              "tickcolor": "rgb(36,36,36)",
              "ticks": "outside"
             }
            },
            "type": "scattergl"
           }
          ],
          "scattermapbox": [
           {
            "marker": {
             "colorbar": {
              "outlinewidth": 1,
              "tickcolor": "rgb(36,36,36)",
              "ticks": "outside"
             }
            },
            "type": "scattermapbox"
           }
          ],
          "scatterpolar": [
           {
            "marker": {
             "colorbar": {
              "outlinewidth": 1,
              "tickcolor": "rgb(36,36,36)",
              "ticks": "outside"
             }
            },
            "type": "scatterpolar"
           }
          ],
          "scatterpolargl": [
           {
            "marker": {
             "colorbar": {
              "outlinewidth": 1,
              "tickcolor": "rgb(36,36,36)",
              "ticks": "outside"
             }
            },
            "type": "scatterpolargl"
           }
          ],
          "scatterternary": [
           {
            "marker": {
             "colorbar": {
              "outlinewidth": 1,
              "tickcolor": "rgb(36,36,36)",
              "ticks": "outside"
             }
            },
            "type": "scatterternary"
           }
          ],
          "surface": [
           {
            "colorbar": {
             "outlinewidth": 1,
             "tickcolor": "rgb(36,36,36)",
             "ticks": "outside"
            },
            "colorscale": [
             [
              0,
              "#440154"
             ],
             [
              0.1111111111111111,
              "#482878"
             ],
             [
              0.2222222222222222,
              "#3e4989"
             ],
             [
              0.3333333333333333,
              "#31688e"
             ],
             [
              0.4444444444444444,
              "#26828e"
             ],
             [
              0.5555555555555556,
              "#1f9e89"
             ],
             [
              0.6666666666666666,
              "#35b779"
             ],
             [
              0.7777777777777778,
              "#6ece58"
             ],
             [
              0.8888888888888888,
              "#b5de2b"
             ],
             [
              1,
              "#fde725"
             ]
            ],
            "type": "surface"
           }
          ],
          "table": [
           {
            "cells": {
             "fill": {
              "color": "rgb(237,237,237)"
             },
             "line": {
              "color": "white"
             }
            },
            "header": {
             "fill": {
              "color": "rgb(217,217,217)"
             },
             "line": {
              "color": "white"
             }
            },
            "type": "table"
           }
          ]
         },
         "layout": {
          "annotationdefaults": {
           "arrowhead": 0,
           "arrowwidth": 1
          },
          "coloraxis": {
           "colorbar": {
            "outlinewidth": 1,
            "tickcolor": "rgb(36,36,36)",
            "ticks": "outside"
           }
          },
          "colorscale": {
           "diverging": [
            [
             0,
             "rgb(103,0,31)"
            ],
            [
             0.1,
             "rgb(178,24,43)"
            ],
            [
             0.2,
             "rgb(214,96,77)"
            ],
            [
             0.3,
             "rgb(244,165,130)"
            ],
            [
             0.4,
             "rgb(253,219,199)"
            ],
            [
             0.5,
             "rgb(247,247,247)"
            ],
            [
             0.6,
             "rgb(209,229,240)"
            ],
            [
             0.7,
             "rgb(146,197,222)"
            ],
            [
             0.8,
             "rgb(67,147,195)"
            ],
            [
             0.9,
             "rgb(33,102,172)"
            ],
            [
             1,
             "rgb(5,48,97)"
            ]
           ],
           "sequential": [
            [
             0,
             "#440154"
            ],
            [
             0.1111111111111111,
             "#482878"
            ],
            [
             0.2222222222222222,
             "#3e4989"
            ],
            [
             0.3333333333333333,
             "#31688e"
            ],
            [
             0.4444444444444444,
             "#26828e"
            ],
            [
             0.5555555555555556,
             "#1f9e89"
            ],
            [
             0.6666666666666666,
             "#35b779"
            ],
            [
             0.7777777777777778,
             "#6ece58"
            ],
            [
             0.8888888888888888,
             "#b5de2b"
            ],
            [
             1,
             "#fde725"
            ]
           ],
           "sequentialminus": [
            [
             0,
             "#440154"
            ],
            [
             0.1111111111111111,
             "#482878"
            ],
            [
             0.2222222222222222,
             "#3e4989"
            ],
            [
             0.3333333333333333,
             "#31688e"
            ],
            [
             0.4444444444444444,
             "#26828e"
            ],
            [
             0.5555555555555556,
             "#1f9e89"
            ],
            [
             0.6666666666666666,
             "#35b779"
            ],
            [
             0.7777777777777778,
             "#6ece58"
            ],
            [
             0.8888888888888888,
             "#b5de2b"
            ],
            [
             1,
             "#fde725"
            ]
           ]
          },
          "colorway": [
           "#1F77B4",
           "#FF7F0E",
           "#2CA02C",
           "#D62728",
           "#9467BD",
           "#8C564B",
           "#E377C2",
           "#7F7F7F",
           "#BCBD22",
           "#17BECF"
          ],
          "font": {
           "color": "rgb(36,36,36)"
          },
          "geo": {
           "bgcolor": "white",
           "lakecolor": "white",
           "landcolor": "white",
           "showlakes": true,
           "showland": true,
           "subunitcolor": "white"
          },
          "hoverlabel": {
           "align": "left"
          },
          "hovermode": "closest",
          "mapbox": {
           "style": "light"
          },
          "paper_bgcolor": "white",
          "plot_bgcolor": "white",
          "polar": {
           "angularaxis": {
            "gridcolor": "rgb(232,232,232)",
            "linecolor": "rgb(36,36,36)",
            "showgrid": false,
            "showline": true,
            "ticks": "outside"
           },
           "bgcolor": "white",
           "radialaxis": {
            "gridcolor": "rgb(232,232,232)",
            "linecolor": "rgb(36,36,36)",
            "showgrid": false,
            "showline": true,
            "ticks": "outside"
           }
          },
          "scene": {
           "xaxis": {
            "backgroundcolor": "white",
            "gridcolor": "rgb(232,232,232)",
            "gridwidth": 2,
            "linecolor": "rgb(36,36,36)",
            "showbackground": true,
            "showgrid": false,
            "showline": true,
            "ticks": "outside",
            "zeroline": false,
            "zerolinecolor": "rgb(36,36,36)"
           },
           "yaxis": {
            "backgroundcolor": "white",
            "gridcolor": "rgb(232,232,232)",
            "gridwidth": 2,
            "linecolor": "rgb(36,36,36)",
            "showbackground": true,
            "showgrid": false,
            "showline": true,
            "ticks": "outside",
            "zeroline": false,
            "zerolinecolor": "rgb(36,36,36)"
           },
           "zaxis": {
            "backgroundcolor": "white",
            "gridcolor": "rgb(232,232,232)",
            "gridwidth": 2,
            "linecolor": "rgb(36,36,36)",
            "showbackground": true,
            "showgrid": false,
            "showline": true,
            "ticks": "outside",
            "zeroline": false,
            "zerolinecolor": "rgb(36,36,36)"
           }
          },
          "shapedefaults": {
           "fillcolor": "black",
           "line": {
            "width": 0
           },
           "opacity": 0.3
          },
          "ternary": {
           "aaxis": {
            "gridcolor": "rgb(232,232,232)",
            "linecolor": "rgb(36,36,36)",
            "showgrid": false,
            "showline": true,
            "ticks": "outside"
           },
           "baxis": {
            "gridcolor": "rgb(232,232,232)",
            "linecolor": "rgb(36,36,36)",
            "showgrid": false,
            "showline": true,
            "ticks": "outside"
           },
           "bgcolor": "white",
           "caxis": {
            "gridcolor": "rgb(232,232,232)",
            "linecolor": "rgb(36,36,36)",
            "showgrid": false,
            "showline": true,
            "ticks": "outside"
           }
          },
          "title": {
           "x": 0.05
          },
          "xaxis": {
           "automargin": true,
           "gridcolor": "rgb(232,232,232)",
           "linecolor": "rgb(36,36,36)",
           "showgrid": false,
           "showline": true,
           "ticks": "outside",
           "title": {
            "standoff": 15
           },
           "zeroline": false,
           "zerolinecolor": "rgb(36,36,36)"
          },
          "yaxis": {
           "automargin": true,
           "gridcolor": "rgb(232,232,232)",
           "linecolor": "rgb(36,36,36)",
           "showgrid": false,
           "showline": true,
           "ticks": "outside",
           "title": {
            "standoff": 15
           },
           "zeroline": false,
           "zerolinecolor": "rgb(36,36,36)"
          }
         }
        },
        "title": {
         "text": "PROGRESS"
        },
        "xaxis": {
         "title": {
          "text": "episode"
         }
        },
        "yaxis": {
         "title": {
          "text": "progress"
         }
        }
       }
      },
      "text/html": [
       "<div>\n",
       "        \n",
       "        \n",
       "            <div id=\"01c933c8-8146-4593-b0a2-1728b2c96831\" class=\"plotly-graph-div\" style=\"height:525px; width:100%;\"></div>\n",
       "            <script type=\"text/javascript\">\n",
       "                require([\"plotly\"], function(Plotly) {\n",
       "                    window.PLOTLYENV=window.PLOTLYENV || {};\n",
       "                    \n",
       "                if (document.getElementById(\"01c933c8-8146-4593-b0a2-1728b2c96831\")) {\n",
       "                    Plotly.newPlot(\n",
       "                        '01c933c8-8146-4593-b0a2-1728b2c96831',\n",
       "                        [{\"line\": {\"color\": \"orange\"}, \"mode\": \"markers\", \"name\": \"progress by episode\", \"type\": \"scatter\", \"x\": [0, 1, 2, 3, 4, 5, 6, 7, 8, 9, 10, 11, 12, 13, 14, 15, 16, 17, 18, 19, 20, 21, 22, 23, 24, 25, 26, 27, 28, 29, 30, 31, 32, 33, 34, 35, 36, 37, 38, 39, 40, 41, 42, 43, 44, 45, 46, 47, 48, 49, 50, 51, 52, 53, 54, 55, 56, 57, 58, 59, 60, 61, 62, 63, 64, 65, 66, 67, 68, 69, 70, 71, 72, 73, 74, 75, 76, 77, 78, 79, 80, 81, 82, 83, 84, 85, 86, 87, 88, 89, 90, 91, 92, 93, 94, 95, 96, 97, 98, 99, 100, 101, 102, 103, 104, 105, 106, 107, 108, 109, 110, 111, 112, 113, 114, 115, 116, 117, 118, 119, 120, 121, 122, 123, 124, 125, 126, 127, 128, 129, 130, 131, 132, 133, 134, 135, 136, 137, 138, 139, 140, 141, 142, 143, 144, 145, 146, 147, 148, 149, 150, 151, 152, 153, 154, 155, 156, 157, 158, 159, 160, 161, 162, 163, 164, 165, 166, 167, 168, 169, 170, 171, 172, 173, 174, 175, 176, 177, 178, 179, 180, 181, 182, 183, 184, 185, 186, 187, 188, 189, 190, 191, 192, 193, 194, 195, 196, 197, 198, 199, 200, 201, 202, 203, 204, 205, 206, 207, 208, 209, 210, 211, 212, 213, 214, 215, 216, 217, 218, 219, 220, 221, 222, 223, 224, 225, 226, 227, 228, 229, 230, 231, 232, 233, 234, 235, 236, 237, 238, 239, 240, 241, 242, 243, 244, 245, 246, 247, 248, 249, 250, 251, 252, 253, 254, 255, 256, 257, 258, 259, 260, 261, 262, 263, 264, 265, 266, 267, 268, 269, 270, 271, 272, 273, 274, 275, 276, 277, 278, 279, 280, 281, 282, 283, 284, 285, 286, 287, 288, 289, 290, 291, 292, 293, 294, 295, 296, 297, 298, 299, 300, 301, 302, 303, 304, 305, 306, 307, 308, 309, 310, 311, 312, 313, 314, 315, 316, 317, 318, 319, 320, 321, 322, 323, 324, 325, 326, 327, 328, 329, 330, 331, 332, 333, 334, 335, 336, 337, 338, 339, 340, 341, 342, 343, 344, 345, 346, 347, 348, 349, 350, 351, 352, 353, 354, 355, 356, 357, 358, 359, 360, 361, 362, 363, 364, 365, 366, 367, 368, 369, 370, 371, 372, 373, 374, 375, 376, 377, 378, 379, 380, 381, 382, 383, 384, 385, 386, 387, 388, 389, 390, 391, 392, 393, 394, 395, 396, 397, 398, 399, 400, 401, 402, 403, 404, 405, 406, 407, 408, 409, 410, 411, 412, 413, 414, 415, 416, 417, 418, 419, 420, 421, 422, 423, 424, 425, 426, 427, 428, 429, 430, 431, 432, 433, 434, 435, 436, 437, 438, 439, 440, 441, 442, 443, 444, 445, 446, 447, 448, 449, 450, 451, 452, 453, 454, 455, 456, 457, 458, 459, 460, 461, 462, 463, 464, 465, 466, 467, 468, 469, 470, 471, 472, 473, 474, 475, 476, 477, 478, 479, 480, 481, 482, 483, 484, 485, 486, 487, 488, 489, 490, 491, 492, 493, 494, 495, 496, 497, 498, 499, 500, 501, 502, 503, 504, 505, 506, 507, 508, 509, 510, 511, 512, 513, 514, 515, 516, 517, 518, 519, 520, 521, 522, 523, 524, 525, 526, 527, 528, 529, 530, 531, 532, 533, 534, 535, 536, 537, 538, 539, 540, 541, 542, 543, 544, 545, 546, 547, 548, 549, 550, 551, 552, 553, 554, 555, 556, 557, 558, 559, 560, 561, 562, 563, 564, 565, 566, 567, 568, 569, 570, 571, 572, 573, 574, 575, 576, 577, 578, 579, 580, 581, 582, 583, 584, 585, 586, 587, 588, 589, 590, 591, 592, 593, 594, 595, 596, 597, 598, 599], \"y\": [6.030227999999999, 3.637376470588235, 4.334261904761905, 4.723108695652173, 2.088006666666667, 2.7663, 2.1626266666666667, 13.429267391304348, 3.8780636363636365, 7.986265625, 2.4781400000000002, 1.995625, 3.445422222222222, 3.4384, 2.283333333333333, 5.702068, 6.851413333333334, 4.213180952380952, 3.984338095238096, 8.384596969696968, 5.0656681818181815, 2.7403529411764707, 6.202196428571428, 3.7060250000000003, 3.915319047619048, 2.25628, 2.648825, 4.323684210526316, 4.237090476190476, 2.82833125, 20.32440147058823, 2.9058736842105266, 9.573159459459458, 2.2093599999999998, 2.64604705882353, 3.8986999999999994, 5.9836074074074075, 3.8482761904761906, 2.32768, 6.561779310344827, 3.0770611111111115, 7.117139285714286, 7.046003571428571, 2.5015687499999997, 2.077, 3.0076055555555556, 2.3576117647058825, 2.4525733333333335, 3.6200550000000007, 2.7861000000000002, 6.2710037037037045, 2.822076470588235, 15.981899999999998, 4.4561090909090915, 8.781694871794873, 5.935307407407408, 11.896958139534885, 3.5729166666666665, 3.5705190476190474, 3.269382352941176, 4.592643478260869, 4.380845, 4.944159999999999, 7.746490625, 2.9849263157894734, 2.4014562500000003, 2.27598125, 6.2629399999999995, 2.5614823529411765, 2.19465625, 8.788376470588236, 2.50446875, 7.584542424242424, 7.980681818181819, 3.156977777777778, 2.84005, 6.952739285714285, 6.486685185185185, 2.90686875, 5.96923076923077, 4.400554545454545, 5.911967857142857, 2.8998705882352946, 3.6860950000000003, 3.6331263157894735, 2.5437125, 2.682725, 4.4291, 4.239309090909091, 2.8879312500000003, 13.365228846153851, 3.0192777777777775, 5.204411111111112, 6.469751724137931, 1.9714357142857144, 4.423385714285715, 4.483327272727272, 5.871467857142858, 1.8742642857142857, 9.381202631578946, 4.697207692307692, 10.664561904761902, 7.609622222222222, 5.881777777777777, 3.56656, 3.6295238095238096, 3.487819047619048, 9.7709175, 4.0067590909090915, 8.359046666666668, 10.381856756756758, 7.8808525000000005, 18.504749999999994, 7.853844444444444, 3.007675, 3.311765, 6.597720689655174, 4.295829166666667, 2.0750875, 25.895400000000002, 16.462683606557377, 6.681293939393939, 10.930807692307692, 8.51427804878049, 3.536105, 2.8289588235294114, 3.40668, 3.3834947368421053, 14.658052000000003, 2.29388, 4.615784, 4.705354166666666, 3.524773684210526, 12.64498139534884, 1.7830785714285713, 9.263952500000002, 10.049509302325582, 4.746595454545456, 5.401973333333332, 7.715315151515151, 14.776794736842104, 15.554633962264148, 6.203989285714284, 5.5306679999999995, 2.46368125, 11.975209615384614, 2.0855799999999998, 5.649476923076923, 3.797247619047619, 2.2164333333333333, 15.837958928571428, 5.1202125, 7.437887096774196, 3.0581933333333335, 11.683661224489795, 7.778520588235294, 10.787268421052628, 4.551529166666667, 17.928380281690142, 14.407475409836067, 3.5349250000000003, 13.287716981132077, 7.856939393939392, 15.52195833333333, 3.1105380952380948, 8.954395348837208, 3.3947499999999997, 3.149147368421052, 17.91449852941176, 9.571630232558139, 10.805618181818183, 6.513748387096774, 3.8869, 4.232743478260869, 6.931662857142857, 3.9349450000000004, 13.9832375, 22.116639759036143, 7.261230769230769, 4.59335652173913, 9.954630952380953, 8.611494285714286, 10.411805000000001, 4.098936363636364, 4.112070833333333, 23.03573375, 2.6145941176470586, 2.9972764705882358, 3.6379294117647056, 13.118534482758623, 3.203729411764706, 5.124084615384616, 4.7369863636363645, 5.131908000000001, 8.882627499999998, 7.019336363636365, 3.422229411764706, 2.8441199999999998, 5.889137931034482, 3.2905444444444445, 8.180150000000001, 2.8998, 9.127847368421053, 4.967048, 2.5160176470588236, 6.5939848484848484, 4.070916666666667, 2.09385, 3.3364499999999997, 4.032545, 3.987277272727273, 7.095891176470587, 5.076732142857142, 5.031647999999999, 5.3389999999999995, 9.876081818181818, 4.973504166666668, 8.402629999999998, 2.1797066666666667, 9.167847222222221, 7.898097297297298, 18.882192307692304, 9.905613888888888, 3.9053799999999996, 3.433433333333333, 16.628818666666664, 3.5619500000000004, 3.54057619047619, 11.194385000000002, 2.915294736842105, 3.2745499999999996, 5.262315999999999, 3.0713222222222223, 9.631060000000002, 2.44138125, 19.036447826086956, 15.237324074074074, 12.194094230769227, 11.22197924528302, 10.147097619047619, 3.9597947368421047, 6.042103333333333, 5.239685714285713, 3.3066947368421054, 3.527072727272727, 3.4406950000000003, 8.015320512820514, 2.31498, 9.861960526315789, 8.67318823529412, 5.145068, 3.2638700000000007, 8.264045454545455, 5.973793103448277, 4.646699999999999, 12.099993617021276, 12.669070175438595, 4.187895833333333, 7.312142857142857, 12.61221063829787, 2.9383117647058823, 13.203166666666668, 2.9492235294117646, 8.477883783783785, 3.121015, 3.841556521739131, 6.306954838709678, 4.946177272727272, 9.494502941176467, 12.053588135593222, 23.479093181818186, 5.493054838709678, 11.463987804878048, 7.671886206896553, 11.117564814814818, 7.192177777777778, 6.998170588235295, 12.9874375, 20.102945454545456, 15.162371929824559, 10.986885714285714, 8.99836875, 5.15944347826087, 6.457835714285714, 5.6522821428571435, 3.1357600000000003, 3.269017647058823, 10.449078571428569, 9.199986111111112, 6.620822580645162, 10.28016511627907, 10.65156304347826, 21.30740833333333, 20.114211428571426, 7.1697437499999985, 16.224632727272727, 7.181996551724138, 11.343682000000001, 2.2531375, 7.757892105263159, 3.782936842105263, 12.030051162790697, 5.766040740740741, 4.878478260869565, 7.634241463414634, 11.369733333333334, 3.7288545454545456, 2.8746388888888887, 11.165140816326529, 3.0291277777777776, 11.08666046511628, 5.476057692307692, 9.619781395348838, 2.9194947368421054, 7.396002631578945, 10.338140476190475, 6.044644, 19.211885074626867, 5.771876000000001, 13.644244230769228, 4.806088461538462, 11.52623157894737, 3.9978888888888884, 4.906544444444444, 2.2675666666666667, 7.936429999999999, 5.241583333333334, 5.525338461538462, 13.05407659574468, 6.237210714285715, 9.114651219512195, 33.11299262295081, 5.660622222222224, 2.91428, 6.695103124999999, 10.054033333333335, 7.951692105263159, 8.684724242424242, 5.3814, 6.143840740740742, 6.151161764705883, 12.92077916666667, 5.130984, 3.9023399999999997, 13.257815384615382, 8.517493181818184, 9.846020512820512, 5.332377777777778, 11.074913953488371, 19.552611111111116, 9.994021951219512, 48.53270476190478, 5.764722222222222, 6.223237037037037, 7.7938075, 8.559392105263157, 5.68832962962963, 9.552615, 4.441959090909091, 24.66173298969073, 15.070660937500001, 14.946117741935481, 12.640292857142857, 19.841771052631582, 6.141303333333334, 15.325113636363636, 8.431394871794874, 28.12314455445545, 3.201994736842105, 6.258523333333334, 5.386342307692308, 5.449028571428571, 4.9902999999999995, 5.2899375, 8.689318918918918, 22.461110752688178, 14.00962898550725, 13.18947857142857, 12.524396666666664, 9.3843, 2.417117647058824, 9.660490697674417, 16.50523181818182, 12.460606000000002, 7.5485944444444435, 3.4862285714285717, 3.289077272727273, 11.871728888888889, 8.042229411764705, 5.680910714285715, 9.92564871794872, 15.296978333333335, 11.30399333333334, 5.0306500000000005, 3.227205, 3.302984210526316, 5.568013793103448, 12.643149999999999, 3.499073684210526, 8.825503125000001, 21.97972093023256, 7.505705714285715, 11.40290357142857, 3.704513043478261, 14.6701328358209, 2.675822222222222, 2.730094117647059, 3.071016666666667, 9.803557142857143, 6.702082758620691, 18.84638395061728, 11.438523255813955, 16.28068783783784, 11.583419999999998, 32.494277499999995, 8.591807894736842, 15.42492153846154, 16.723933333333335, 6.066325806451612, 14.64477833333333, 16.757737878787875, 7.895618918918918, 3.509315, 4.095452, 3.155795, 3.9931875, 5.004370370370371, 6.916293548387096, 15.825792063492061, 4.619226086956522, 3.093744444444445, 6.086981249999999, 6.432532258064517, 10.966528571428572, 3.23163, 7.936768292682926, 6.8885178571428565, 12.404712499999997, 4.174285714285714, 13.700837288135592, 18.233009523809525, 16.10834925373134, 14.614095161290326, 7.8968525, 12.645380357142852, 2.7939900000000004, 6.978102941176471, 17.391455737704923, 10.49870465116279, 7.71908064516129, 3.1421749999999995, 11.532614583333332, 22.199355294117645, 8.945663636363639, 11.273751923076926, 17.742786111111112, 10.298662499999999, 8.16001081081081, 8.366555263157895, 6.357174193548386, 15.591840909090909, 13.55022166666667, 9.943200000000001, 4.718586363636364, 8.438141935483872, 3.3312649999999997, 2.445125, 20.49638076923076, 10.205905128205128, 23.287685567010307, 11.537535294117646, 6.294865625, 15.651043548387099, 21.319945205479453, 7.098877142857143, 12.393762264150942, 26.06164639175257, 14.012414754098364, 5.139982142857143, 4.721403999999998, 15.28261875, 12.426598039215683, 4.816816666666666, 13.863444000000001, 13.61873529411765, 10.864950980392155, 7.016534285714286, 4.010236363636363, 15.17838, 15.379810937500004, 4.392708695652174, 13.044014516129034, 11.35721632653061, 10.37972888888889, 26.028645283018868, 6.43870303030303, 16.814428571428568, 17.866669230769237, 10.109280851063827, 18.77673780487805, 7.692897297297297, 13.206741666666664, 16.007763492063493, 3.374370588235294, 9.360286666666669, 5.571575862068965, 2.7409499999999998, 6.374410344827586, 14.686146428571424, 10.320574999999998, 19.584879012345684, 6.470690000000001, 8.367757142857144, 16.93830895522388, 4.725253846153846, 8.633464864864864, 16.227203076923075, 24.254365853658538, 8.33746046511628, 14.293612727272727, 20.707485263157896, 11.81594375, 28.80100000000001, 12.970722222222221, 10.993707142857144, 4.575737500000001, 14.48462372881356, 6.880908823529412, 4.563469230769231, 13.265995384615382, 26.581527102803737, 9.05882682926829, 6.484835483870968, 29.398773584905662, 37.102931333333345, 3.5768090909090913, 31.709661475409835, 31.890374796747974, 21.56944747474748, 18.108530136986303, 9.05296052631579, 21.438585714285715, 21.062553086419758, 11.890714545454545, 6.247937037037037, 4.912558333333333, 8.185897297297295, 9.62623947368421, 7.019324137931036, 16.084275362318838, 12.704996491228068, 13.899824528301888, 25.10097647058825, 20.28046625, 3.7310952380952385, 8.847369230769232, 20.03608571428571, 4.850092592592592, 14.67906666666667, 16.318125714285713, 3.4909, 20.216688235294118, 12.111265384615384, 11.69528780487805, 25.766056310679602, 11.117666666666667, 2.4322882352941178, 8.07145625, 7.282915624999999, 3.11388947368421, 22.483043750000007, 9.094011764705883, 25.7443793814433, 10.820604878048776, 11.691254166666667, 32.11364871794872, 16.194984722222227, 21.373339759036142, 26.213127522935785, 3.995483333333334, 4.704729166666667, 7.855172222222221, 22.775048888888893, 18.2558641025641, 36.89567101449274, 3.9805916666666668, 12.383694117647059, 4.769270833333334, 7.12699, 3.0133368421052635, 11.0132612244898, 6.187432258064517, 29.112715517241377, 6.021888461538461, 36.518836054421755, 9.416497872340424, 17.776885714285715, 7.062015625, 28.37719557522124, 5.441885185185185]}, {\"line\": {\"color\": \"firebrick\", \"width\": 4}, \"name\": \"progress by iteration\", \"type\": \"scatter\", \"x\": [20, 40, 60, 80, 100, 120, 140, 160, 180, 200, 220, 240, 260, 280, 300, 320, 340, 360, 380, 400, 420, 440, 460, 480, 500, 520, 540, 560, 580, 600], \"y\": [5.626201569506727, 6.902365010799144, 6.414728602150536, 5.399483947939257, 5.677688528138527, 10.420866919575108, 8.563168256578937, 10.866513502109699, 11.057056037991856, 9.131000505050512, 6.205899814471241, 11.293244549125168, 7.627889785831966, 12.084478219013228, 11.356306056701023, 9.51567819767441, 12.008994645441394, 18.256036440677956, 14.477639940239024, 9.666866480446933, 15.584668415841554, 9.123212278106507, 13.05530758835759, 15.043800507099405, 14.375833174451877, 13.103452591792657, 22.73662337031902, 15.597364935064927, 19.091023670668953, 21.287489058524173]}],\n",
       "                        {\"template\": {\"data\": {\"bar\": [{\"error_x\": {\"color\": \"rgb(36,36,36)\"}, \"error_y\": {\"color\": \"rgb(36,36,36)\"}, \"marker\": {\"line\": {\"color\": \"white\", \"width\": 0.5}}, \"type\": \"bar\"}], \"barpolar\": [{\"marker\": {\"line\": {\"color\": \"white\", \"width\": 0.5}}, \"type\": \"barpolar\"}], \"carpet\": [{\"aaxis\": {\"endlinecolor\": \"rgb(36,36,36)\", \"gridcolor\": \"white\", \"linecolor\": \"white\", \"minorgridcolor\": \"white\", \"startlinecolor\": \"rgb(36,36,36)\"}, \"baxis\": {\"endlinecolor\": \"rgb(36,36,36)\", \"gridcolor\": \"white\", \"linecolor\": \"white\", \"minorgridcolor\": \"white\", \"startlinecolor\": \"rgb(36,36,36)\"}, \"type\": \"carpet\"}], \"choropleth\": [{\"colorbar\": {\"outlinewidth\": 1, \"tickcolor\": \"rgb(36,36,36)\", \"ticks\": \"outside\"}, \"type\": \"choropleth\"}], \"contour\": [{\"colorbar\": {\"outlinewidth\": 1, \"tickcolor\": \"rgb(36,36,36)\", \"ticks\": \"outside\"}, \"colorscale\": [[0.0, \"#440154\"], [0.1111111111111111, \"#482878\"], [0.2222222222222222, \"#3e4989\"], [0.3333333333333333, \"#31688e\"], [0.4444444444444444, \"#26828e\"], [0.5555555555555556, \"#1f9e89\"], [0.6666666666666666, \"#35b779\"], [0.7777777777777778, \"#6ece58\"], [0.8888888888888888, \"#b5de2b\"], [1.0, \"#fde725\"]], \"type\": \"contour\"}], \"contourcarpet\": [{\"colorbar\": {\"outlinewidth\": 1, \"tickcolor\": \"rgb(36,36,36)\", \"ticks\": \"outside\"}, \"type\": \"contourcarpet\"}], \"heatmap\": [{\"colorbar\": {\"outlinewidth\": 1, \"tickcolor\": \"rgb(36,36,36)\", \"ticks\": \"outside\"}, \"colorscale\": [[0.0, \"#440154\"], [0.1111111111111111, \"#482878\"], [0.2222222222222222, \"#3e4989\"], [0.3333333333333333, \"#31688e\"], [0.4444444444444444, \"#26828e\"], [0.5555555555555556, \"#1f9e89\"], [0.6666666666666666, \"#35b779\"], [0.7777777777777778, \"#6ece58\"], [0.8888888888888888, \"#b5de2b\"], [1.0, \"#fde725\"]], \"type\": \"heatmap\"}], \"heatmapgl\": [{\"colorbar\": {\"outlinewidth\": 1, \"tickcolor\": \"rgb(36,36,36)\", \"ticks\": \"outside\"}, \"colorscale\": [[0.0, \"#440154\"], [0.1111111111111111, \"#482878\"], [0.2222222222222222, \"#3e4989\"], [0.3333333333333333, \"#31688e\"], [0.4444444444444444, \"#26828e\"], [0.5555555555555556, \"#1f9e89\"], [0.6666666666666666, \"#35b779\"], [0.7777777777777778, \"#6ece58\"], [0.8888888888888888, \"#b5de2b\"], [1.0, \"#fde725\"]], \"type\": \"heatmapgl\"}], \"histogram\": [{\"marker\": {\"line\": {\"color\": \"white\", \"width\": 0.6}}, \"type\": \"histogram\"}], \"histogram2d\": [{\"colorbar\": {\"outlinewidth\": 1, \"tickcolor\": \"rgb(36,36,36)\", \"ticks\": \"outside\"}, \"colorscale\": [[0.0, \"#440154\"], [0.1111111111111111, \"#482878\"], [0.2222222222222222, \"#3e4989\"], [0.3333333333333333, \"#31688e\"], [0.4444444444444444, \"#26828e\"], [0.5555555555555556, \"#1f9e89\"], [0.6666666666666666, \"#35b779\"], [0.7777777777777778, \"#6ece58\"], [0.8888888888888888, \"#b5de2b\"], [1.0, \"#fde725\"]], \"type\": \"histogram2d\"}], \"histogram2dcontour\": [{\"colorbar\": {\"outlinewidth\": 1, \"tickcolor\": \"rgb(36,36,36)\", \"ticks\": \"outside\"}, \"colorscale\": [[0.0, \"#440154\"], [0.1111111111111111, \"#482878\"], [0.2222222222222222, \"#3e4989\"], [0.3333333333333333, \"#31688e\"], [0.4444444444444444, \"#26828e\"], [0.5555555555555556, \"#1f9e89\"], [0.6666666666666666, \"#35b779\"], [0.7777777777777778, \"#6ece58\"], [0.8888888888888888, \"#b5de2b\"], [1.0, \"#fde725\"]], \"type\": \"histogram2dcontour\"}], \"mesh3d\": [{\"colorbar\": {\"outlinewidth\": 1, \"tickcolor\": \"rgb(36,36,36)\", \"ticks\": \"outside\"}, \"type\": \"mesh3d\"}], \"parcoords\": [{\"line\": {\"colorbar\": {\"outlinewidth\": 1, \"tickcolor\": \"rgb(36,36,36)\", \"ticks\": \"outside\"}}, \"type\": \"parcoords\"}], \"pie\": [{\"automargin\": true, \"type\": \"pie\"}], \"scatter\": [{\"marker\": {\"colorbar\": {\"outlinewidth\": 1, \"tickcolor\": \"rgb(36,36,36)\", \"ticks\": \"outside\"}}, \"type\": \"scatter\"}], \"scatter3d\": [{\"line\": {\"colorbar\": {\"outlinewidth\": 1, \"tickcolor\": \"rgb(36,36,36)\", \"ticks\": \"outside\"}}, \"marker\": {\"colorbar\": {\"outlinewidth\": 1, \"tickcolor\": \"rgb(36,36,36)\", \"ticks\": \"outside\"}}, \"type\": \"scatter3d\"}], \"scattercarpet\": [{\"marker\": {\"colorbar\": {\"outlinewidth\": 1, \"tickcolor\": \"rgb(36,36,36)\", \"ticks\": \"outside\"}}, \"type\": \"scattercarpet\"}], \"scattergeo\": [{\"marker\": {\"colorbar\": {\"outlinewidth\": 1, \"tickcolor\": \"rgb(36,36,36)\", \"ticks\": \"outside\"}}, \"type\": \"scattergeo\"}], \"scattergl\": [{\"marker\": {\"colorbar\": {\"outlinewidth\": 1, \"tickcolor\": \"rgb(36,36,36)\", \"ticks\": \"outside\"}}, \"type\": \"scattergl\"}], \"scattermapbox\": [{\"marker\": {\"colorbar\": {\"outlinewidth\": 1, \"tickcolor\": \"rgb(36,36,36)\", \"ticks\": \"outside\"}}, \"type\": \"scattermapbox\"}], \"scatterpolar\": [{\"marker\": {\"colorbar\": {\"outlinewidth\": 1, \"tickcolor\": \"rgb(36,36,36)\", \"ticks\": \"outside\"}}, \"type\": \"scatterpolar\"}], \"scatterpolargl\": [{\"marker\": {\"colorbar\": {\"outlinewidth\": 1, \"tickcolor\": \"rgb(36,36,36)\", \"ticks\": \"outside\"}}, \"type\": \"scatterpolargl\"}], \"scatterternary\": [{\"marker\": {\"colorbar\": {\"outlinewidth\": 1, \"tickcolor\": \"rgb(36,36,36)\", \"ticks\": \"outside\"}}, \"type\": \"scatterternary\"}], \"surface\": [{\"colorbar\": {\"outlinewidth\": 1, \"tickcolor\": \"rgb(36,36,36)\", \"ticks\": \"outside\"}, \"colorscale\": [[0.0, \"#440154\"], [0.1111111111111111, \"#482878\"], [0.2222222222222222, \"#3e4989\"], [0.3333333333333333, \"#31688e\"], [0.4444444444444444, \"#26828e\"], [0.5555555555555556, \"#1f9e89\"], [0.6666666666666666, \"#35b779\"], [0.7777777777777778, \"#6ece58\"], [0.8888888888888888, \"#b5de2b\"], [1.0, \"#fde725\"]], \"type\": \"surface\"}], \"table\": [{\"cells\": {\"fill\": {\"color\": \"rgb(237,237,237)\"}, \"line\": {\"color\": \"white\"}}, \"header\": {\"fill\": {\"color\": \"rgb(217,217,217)\"}, \"line\": {\"color\": \"white\"}}, \"type\": \"table\"}]}, \"layout\": {\"annotationdefaults\": {\"arrowhead\": 0, \"arrowwidth\": 1}, \"coloraxis\": {\"colorbar\": {\"outlinewidth\": 1, \"tickcolor\": \"rgb(36,36,36)\", \"ticks\": \"outside\"}}, \"colorscale\": {\"diverging\": [[0.0, \"rgb(103,0,31)\"], [0.1, \"rgb(178,24,43)\"], [0.2, \"rgb(214,96,77)\"], [0.3, \"rgb(244,165,130)\"], [0.4, \"rgb(253,219,199)\"], [0.5, \"rgb(247,247,247)\"], [0.6, \"rgb(209,229,240)\"], [0.7, \"rgb(146,197,222)\"], [0.8, \"rgb(67,147,195)\"], [0.9, \"rgb(33,102,172)\"], [1.0, \"rgb(5,48,97)\"]], \"sequential\": [[0.0, \"#440154\"], [0.1111111111111111, \"#482878\"], [0.2222222222222222, \"#3e4989\"], [0.3333333333333333, \"#31688e\"], [0.4444444444444444, \"#26828e\"], [0.5555555555555556, \"#1f9e89\"], [0.6666666666666666, \"#35b779\"], [0.7777777777777778, \"#6ece58\"], [0.8888888888888888, \"#b5de2b\"], [1.0, \"#fde725\"]], \"sequentialminus\": [[0.0, \"#440154\"], [0.1111111111111111, \"#482878\"], [0.2222222222222222, \"#3e4989\"], [0.3333333333333333, \"#31688e\"], [0.4444444444444444, \"#26828e\"], [0.5555555555555556, \"#1f9e89\"], [0.6666666666666666, \"#35b779\"], [0.7777777777777778, \"#6ece58\"], [0.8888888888888888, \"#b5de2b\"], [1.0, \"#fde725\"]]}, \"colorway\": [\"#1F77B4\", \"#FF7F0E\", \"#2CA02C\", \"#D62728\", \"#9467BD\", \"#8C564B\", \"#E377C2\", \"#7F7F7F\", \"#BCBD22\", \"#17BECF\"], \"font\": {\"color\": \"rgb(36,36,36)\"}, \"geo\": {\"bgcolor\": \"white\", \"lakecolor\": \"white\", \"landcolor\": \"white\", \"showlakes\": true, \"showland\": true, \"subunitcolor\": \"white\"}, \"hoverlabel\": {\"align\": \"left\"}, \"hovermode\": \"closest\", \"mapbox\": {\"style\": \"light\"}, \"paper_bgcolor\": \"white\", \"plot_bgcolor\": \"white\", \"polar\": {\"angularaxis\": {\"gridcolor\": \"rgb(232,232,232)\", \"linecolor\": \"rgb(36,36,36)\", \"showgrid\": false, \"showline\": true, \"ticks\": \"outside\"}, \"bgcolor\": \"white\", \"radialaxis\": {\"gridcolor\": \"rgb(232,232,232)\", \"linecolor\": \"rgb(36,36,36)\", \"showgrid\": false, \"showline\": true, \"ticks\": \"outside\"}}, \"scene\": {\"xaxis\": {\"backgroundcolor\": \"white\", \"gridcolor\": \"rgb(232,232,232)\", \"gridwidth\": 2, \"linecolor\": \"rgb(36,36,36)\", \"showbackground\": true, \"showgrid\": false, \"showline\": true, \"ticks\": \"outside\", \"zeroline\": false, \"zerolinecolor\": \"rgb(36,36,36)\"}, \"yaxis\": {\"backgroundcolor\": \"white\", \"gridcolor\": \"rgb(232,232,232)\", \"gridwidth\": 2, \"linecolor\": \"rgb(36,36,36)\", \"showbackground\": true, \"showgrid\": false, \"showline\": true, \"ticks\": \"outside\", \"zeroline\": false, \"zerolinecolor\": \"rgb(36,36,36)\"}, \"zaxis\": {\"backgroundcolor\": \"white\", \"gridcolor\": \"rgb(232,232,232)\", \"gridwidth\": 2, \"linecolor\": \"rgb(36,36,36)\", \"showbackground\": true, \"showgrid\": false, \"showline\": true, \"ticks\": \"outside\", \"zeroline\": false, \"zerolinecolor\": \"rgb(36,36,36)\"}}, \"shapedefaults\": {\"fillcolor\": \"black\", \"line\": {\"width\": 0}, \"opacity\": 0.3}, \"ternary\": {\"aaxis\": {\"gridcolor\": \"rgb(232,232,232)\", \"linecolor\": \"rgb(36,36,36)\", \"showgrid\": false, \"showline\": true, \"ticks\": \"outside\"}, \"baxis\": {\"gridcolor\": \"rgb(232,232,232)\", \"linecolor\": \"rgb(36,36,36)\", \"showgrid\": false, \"showline\": true, \"ticks\": \"outside\"}, \"bgcolor\": \"white\", \"caxis\": {\"gridcolor\": \"rgb(232,232,232)\", \"linecolor\": \"rgb(36,36,36)\", \"showgrid\": false, \"showline\": true, \"ticks\": \"outside\"}}, \"title\": {\"x\": 0.05}, \"xaxis\": {\"automargin\": true, \"gridcolor\": \"rgb(232,232,232)\", \"linecolor\": \"rgb(36,36,36)\", \"showgrid\": false, \"showline\": true, \"ticks\": \"outside\", \"title\": {\"standoff\": 15}, \"zeroline\": false, \"zerolinecolor\": \"rgb(36,36,36)\"}, \"yaxis\": {\"automargin\": true, \"gridcolor\": \"rgb(232,232,232)\", \"linecolor\": \"rgb(36,36,36)\", \"showgrid\": false, \"showline\": true, \"ticks\": \"outside\", \"title\": {\"standoff\": 15}, \"zeroline\": false, \"zerolinecolor\": \"rgb(36,36,36)\"}}}, \"title\": {\"text\": \"PROGRESS\"}, \"xaxis\": {\"title\": {\"text\": \"episode\"}}, \"yaxis\": {\"title\": {\"text\": \"progress\"}}},\n",
       "                        {\"responsive\": true}\n",
       "                    ).then(function(){\n",
       "                            \n",
       "var gd = document.getElementById('01c933c8-8146-4593-b0a2-1728b2c96831');\n",
       "var x = new MutationObserver(function (mutations, observer) {{\n",
       "        var display = window.getComputedStyle(gd).display;\n",
       "        if (!display || display === 'none') {{\n",
       "            console.log([gd, 'removed!']);\n",
       "            Plotly.purge(gd);\n",
       "            observer.disconnect();\n",
       "        }}\n",
       "}});\n",
       "\n",
       "// Listen for the removal of the full notebook cells\n",
       "var notebookContainer = gd.closest('#notebook-container');\n",
       "if (notebookContainer) {{\n",
       "    x.observe(notebookContainer, {childList: true});\n",
       "}}\n",
       "\n",
       "// Listen for the clearing of the current output cell\n",
       "var outputEl = gd.closest('.output');\n",
       "if (outputEl) {{\n",
       "    x.observe(outputEl, {childList: true});\n",
       "}}\n",
       "\n",
       "                        })\n",
       "                };\n",
       "                });\n",
       "            </script>\n",
       "        </div>"
      ]
     },
     "metadata": {},
     "output_type": "display_data"
    }
   ],
   "source": [
    "import plotly.graph_objects as go\n",
    "\n",
    "# I only use offline mode so it shows up on github preview\n",
    "from plotly.offline import init_notebook_mode, iplot \n",
    "init_notebook_mode(connected=True)         # initiate notebook for offline plot\n",
    "\n",
    "# Number of episodes per iteration\n",
    "num_episodes = len(training_df[training_df.iteration==1].episode.unique()) # 20 episodes per iteration\n",
    "\n",
    "\n",
    "# Data for first trace\n",
    "x = 'episode'\n",
    "y = 'progress'\n",
    "g = training_df.groupby(x)[y].mean()\n",
    "g = pd.DataFrame(g).reset_index()\n",
    "\n",
    "# initialize graph\n",
    "fig = go.Figure()\n",
    "\n",
    "# Scatter plot of episode by progress\n",
    "fig.add_trace(go.Scatter(x=g[x], y=g[y], \n",
    "                         mode='markers', \n",
    "                         name='progress by episode',\n",
    "                         line=dict(color='orange')\n",
    "                        ))\n",
    "\n",
    "# add line\n",
    "x2 = 'iteration'\n",
    "y2 = 'progress'\n",
    "g2 = training_df.groupby(x2)[y2].mean()\n",
    "g2 = pd.DataFrame(g2).reset_index()\n",
    "fig.add_trace(go.Scatter(x=g2[x2]*num_episodes, y=g2[y2],\n",
    "                         name='progress by iteration',\n",
    "                         line=dict(color='firebrick', width=4)\n",
    "                        ))\n",
    "\n",
    "# label axes\n",
    "fig.update_xaxes(title_text=f'{x}')\n",
    "fig.update_yaxes(title_text=f'{y}')\n",
    "\n",
    "# layout\n",
    "fig.update_layout(\n",
    "    title_text=f'{y}'.upper(),\n",
    "    template='simple_white'\n",
    ")\n",
    "fig.show()"
   ]
  },
  {
   "cell_type": "markdown",
   "metadata": {},
   "source": [
    "#### log_analysis graphs"
   ]
  },
  {
   "cell_type": "code",
   "execution_count": 72,
   "metadata": {},
   "outputs": [
    {
     "name": "stdout",
     "output_type": "stream",
     "text": [
      "new reward not found, using reward as its values\n",
      "Number of episodes =  599\n",
      "Number of iterations =  30\n"
     ]
    },
    {
     "data": {
      "image/png": "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\n",
      "text/plain": [
       "<Figure size 1080x1080 with 9 Axes>"
      ]
     },
     "metadata": {
      "needs_background": "light"
     },
     "output_type": "display_data"
    },
    {
     "data": {
      "text/plain": [
       "<Figure size 432x288 with 0 Axes>"
      ]
     },
     "metadata": {},
     "output_type": "display_data"
    }
   ],
   "source": [
    "simulation_agg = la.simulation_agg(training_df)\n",
    "la.analyze_training_progress(simulation_agg, title='Training progress')"
   ]
  },
  {
   "cell_type": "code",
   "execution_count": 73,
   "metadata": {},
   "outputs": [
    {
     "data": {
      "image/png": "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\n",
      "text/plain": [
       "<Figure size 1080x792 with 9 Axes>"
      ]
     },
     "metadata": {
      "needs_background": "light"
     },
     "output_type": "display_data"
    },
    {
     "data": {
      "text/plain": [
       "<Figure size 432x288 with 0 Axes>"
      ]
     },
     "metadata": {},
     "output_type": "display_data"
    }
   ],
   "source": [
    "la.scatter_aggregates(simulation_agg, 'Stats for all laps')"
   ]
=======
>>>>>>> parent of d91c627... Add files via upload
  }
 ],
 "metadata": {
  "kernelspec": {
   "display_name": "Python 3",
   "language": "python",
   "name": "python3"
  },
  "language_info": {
   "codemirror_mode": {
    "name": "ipython",
    "version": 3
   },
   "file_extension": ".py",
   "mimetype": "text/x-python",
   "name": "python",
   "nbconvert_exporter": "python",
   "pygments_lexer": "ipython3",
   "version": "3.6.10"
  }
 },
 "nbformat": 4,
 "nbformat_minor": 4
}
