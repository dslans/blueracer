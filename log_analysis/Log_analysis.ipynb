{
 "cells": [
  {
   "cell_type": "markdown",
   "metadata": {},
   "source": [
    "# DeepRacer Log Analysis"
   ]
  },
  {
   "cell_type": "markdown",
   "metadata": {},
   "source": [
    "A lot of this comes from following [this github post](https://github.com/breadcentric/aws-deepracer-workshops/blob/enhance-log-analysis/log-analysis/Evaluation_analysis.ipynb)\n",
    "\n",
    "It requires the files from the github:\n",
    "- track_utils.py\n",
    "- log_analysis.py\n",
    "- cw_utils.py\n",
    "\n",
    "The tracks can be downloaded from the [AWS Workshops Github](https://github.com/aws-samples/aws-deepracer-workshops/tree/master/log-analysis/tracks)\n",
    "\n"
   ]
  },
  {
   "cell_type": "code",
   "execution_count": 1,
   "metadata": {},
   "outputs": [
    {
     "data": {
      "text/plain": [
       "'1.16.61'"
      ]
     },
     "execution_count": 1,
     "metadata": {},
     "output_type": "execute_result"
    }
   ],
   "source": [
    "import numpy as np\n",
    "import pandas as pd\n",
    "import matplotlib.pyplot as plt\n",
    "from datetime import datetime\n",
    "%matplotlib inline\n",
    "\n",
    "#Shapely Library\n",
    "from shapely.geometry import Point, Polygon\n",
    "from shapely.geometry.polygon import LinearRing, LineString\n",
    "\n",
    "import sys\n",
    "sys.path.append('/sas/sasdata/users/ld07716/Projects/DeepRacer')\n",
    "import track_utils as tu\n",
    "import log_analysis as la\n",
    "import cw_utils as cw\n",
    "\n",
    "projectDir = '/sas/sasdata/users/ld07716/Projects/DeepRacer/'\n",
    "\n",
    "# Make sure your boto version is >= '1.9.133'\n",
    "cw.boto3.__version__"
   ]
  },
  {
   "cell_type": "markdown",
   "metadata": {},
   "source": [
    "## Load the Track"
   ]
  },
  {
   "cell_type": "code",
   "execution_count": 2,
   "metadata": {},
   "outputs": [
    {
     "name": "stdout",
     "output_type": "stream",
     "text": [
      "Loaded 71 waypoints\n"
     ]
    },
    {
     "data": {
      "image/svg+xml": [
       "<svg xmlns=\"http://www.w3.org/2000/svg\" xmlns:xlink=\"http://www.w3.org/1999/xlink\" width=\"100.0\" height=\"100.0\" viewBox=\"0.13165101625431158 0.09529031240092306 7.739630843825427 5.0005055286139175\" preserveAspectRatio=\"xMinYMin meet\"><g transform=\"matrix(1,0,0,-1,0,5.191086153415764)\"><path fill-rule=\"evenodd\" fill=\"#ff3333\" stroke=\"#555555\" stroke-width=\"0.15479261687650855\" opacity=\"0.6\" d=\"M 2.9101200062595103,0.38230620783067915 L 3.320119934919921,0.38247723188186483 L 3.420119917520022,0.3825189450650809 L 3.630128223616876,0.3826065462298145 L 4.190119783540795,0.3828401365758443 L 4.50012807223775,0.382969450923794 L 4.550119720901156,0.38299030403542206 L 5.3201279295585735,0.3833114990261654 L 5.420127912158674,0.38335321220938146 L 5.780127849519036,0.38350337966895914 L 6.324972631375165,0.3956832604952143 L 6.496120858284972,0.4160202072156111 L 6.62472364224327,0.44473185107344176 L 6.815966218031551,0.521642101758542 L 7.017519684834686,0.6415111643040204 L 7.229499454034008,0.8217965373170768 L 7.354308823693938,0.9825323713128955 L 7.447931440559386,1.1453875219327774 L 7.584628865863982,1.8031173114342751 L 7.577929620223677,1.8535557187007277 L 7.571403728787527,1.90268894767995 L 7.350201669529235,2.492043640838347 L 7.258218658533806,2.610503855324811 L 6.843319429832621,2.9366420720078783 L 6.652076861387874,3.0135523418410606 L 6.077102317373509,3.0843225367722926 L 5.917114336078783,3.0829358686812904 L 5.717129359460375,3.081202533567537 L 5.667306448817149,3.080770702127258 L 5.197341753763893,3.076697364609938 L 5.047179687788711,3.0753958609364638 L 5.034886471281728,3.0759817113964028 L 4.97556588304942,3.082330184103404 L 4.723655995002148,3.1605758734283604 L 4.498355317486535,3.3624310927965775 L 4.3325507156607355,3.5658507056549404 L 4.240944136947374,3.6782394727455503 L 4.0138222049015155,3.9568870795046953 L 3.922215626188155,4.069275846595304 L 3.7888808345557994,4.232859434720925 L 3.4380291650003363,4.595552001126502 L 3.353319122878281,4.64793530145161 L 3.1961735515503995,4.727704914445076 L 3.055651529170767,4.776192024941823 L 2.840968530687481,4.80720241399628 L 2.84303014895641,4.80698759310109 L 2.4913683324088596,4.809142846799084 L 2.2404230806588203,4.8019019048214995 L 1.981215987743099,4.794422570158293 L 1.7305590426333723,4.787189947173157 L 1.1133976663098506,4.68342738185746 L 0.9132873376602105,4.575866464388443 L 0.4396815695265954,3.8869828266056468 L 0.4183040104700681,3.4707944950583007 L 0.5817439759375306,2.665552102434232 L 0.5930735980115257,2.6097328787804766 L 0.6242638438593316,2.4560635597666995 L 0.6437866949569175,2.3598776159940114 L 0.7253233176311822,1.9581598051701847 L 0.7467666116515489,1.8525121483482125 L 0.7963216533547308,1.6083624372691325 L 0.9415723136978997,1.058316414523293 L 0.962303954307788,1.006632340237715 L 1.0626459793805891,0.8300487672594938 L 1.095566151040184,0.7926169730979473 L 1.1657678278926826,0.712794342009927 L 1.3114141412298634,0.5840889274264379 L 1.3546711732192105,0.5599177517631669 L 2.040128500275279,0.3819433066166796 L 2.7501283767359923,0.38223947021751337 L 2.9101200062595103,0.38230620783067915 L 2.909906444083587,0.9840787499610828 L 2.749912415761146,0.9840310918882519 L 2.0399124787587044,0.9838196013153698 L 1.6445917267628223,1.0788141361524557 L 1.6322328186035158,1.0857186889648438 L 1.613667277893416,1.1068169893088786 L 1.5434438985939147,1.186620425727402 L 1.5296887207031251,1.2022521209716797 L 1.5185744153105296,1.2299234905909608 L 1.497822943058028,1.281588586929395 L 1.3902788553560892,1.7314629754755075 L 1.338638685255012,1.9753504435221483 L 1.3163469413409712,2.080630441068597 L 1.2314242341915527,2.4817054953489857 L 1.211040078964814,2.5779762860297337 L 1.178615724180754,2.7311108279154777 L 1.1667667487821711,2.787071460950787 L 0.9966111768378945,3.59068638968341 L 1.0248472113946108,3.7704349524329484 L 1.2783204962571983,4.088884910007067 L 1.314613037109375,4.11409423828125 L 1.7485951938134034,4.166053115531388 L 1.9992580924048617,4.173382658074824 L 2.258451665350191,4.180961642960754 L 2.509406720502155,4.1882997283477925 L 2.7808141160514976,4.192424015198027 L 2.7788712303071925,4.192614571024957 L 2.8843350219726562,4.182270812988281 L 2.994786471026911,4.144147305563019 L 3.028917153889106,4.123471202342913 L 3.09720703125,4.081221618652344 L 3.30923654574253,3.8419079701360612 L 3.442571258568735,3.6783243301144166 L 3.534177795123867,3.5659355126652286 L 3.7612995949291355,3.287287815055975 L 3.8529061314842683,3.1748989976067854 L 4.018710641305418,2.9714793128627117 L 4.399026282932134,2.6360679163260246 L 4.909864648480311,2.468324424054731 L 4.9691856595622115,2.46197790460427 L 5.018619835463795,2.4566891383955527 L 5.20260337467398,2.4551229239531156 L 5.6725712484683495,2.45900857506364 L 5.722402483931133,2.459420575130478 L 5.922388813205334,2.4610740436881477 L 6.082377876624694,2.462396818534284 L 6.431444702148438,2.436733856201172 L 6.6006591796875,2.3618621826171875 L 6.769062197464956,2.2227494158821073 L 6.863466114123764,2.106320230004854 L 6.961888826195919,1.8144451569358484 L 6.969601773690491,1.7656646935058404 L 6.972432250976563,1.7477633666992187 L 6.883023391314907,1.3793610957984892 L 6.865130542696974,1.345683363233008 L 6.767670288085938,1.2075256347656251 L 6.65414056181079,1.121153136506339 L 6.58552837663102,1.0751901389624254 L 6.433070068359375,1.0093801879882813 L 6.42648361684787,1.0086153150902388 L 6.255308201425604,0.9887370185843034 L 5.779912146912412,0.9849336502485796 L 5.419912178854835,0.984826415591907 L 5.319912187727731,0.9847966281872758 L 4.5499062985681,0.9845672633970358 L 4.499912260485474,0.9845523714692992 L 4.189906330510524,0.9844600287403632 L 3.6299123376796656,0.9842932210490071 L 3.4199063988318197,0.9842306657247023 L 3.319906407704715,0.9842008783200711 L 2.909906444083587,0.9840787499610828 L 2.9101200062595103,0.38230620783067915 z\" /></g></svg>"
      ],
      "text/plain": [
       "<shapely.geometry.polygon.Polygon at 0x7fdf70088ba8>"
      ]
     },
     "execution_count": 2,
     "metadata": {},
     "output_type": "execute_result"
    }
   ],
   "source": [
    "# load track and assign border variables\n",
    "l_center_line, l_inner_border, l_outer_border, road_poly = tu.load_track(f'reinvent_base', absolute_path=projectDir)\n",
    "road_poly"
   ]
  },
  {
   "cell_type": "markdown",
   "metadata": {},
   "source": [
    "## Evaluation Analysis"
   ]
  },
  {
   "cell_type": "markdown",
   "metadata": {},
   "source": [
    "#### Downloading Log Files\n",
    "The files will download in a .tar format. \n",
    "- Download the file\n",
    "- extract the file with: tar -xvf [file name]\n",
    "- The log files will be in their respective training/evaluation folders"
   ]
  },
  {
   "cell_type": "code",
   "execution_count": 5,
   "metadata": {},
   "outputs": [
    {
     "data": {
      "text/plain": [
       "['evaluation-20210204142427-Th5D0M15SluAL5SLQj_iWg-robomaker.log']"
      ]
     },
     "execution_count": 5,
     "metadata": {},
     "output_type": "execute_result"
    }
   ],
   "source": [
    "# Print the log file name\n",
    "log_files = !ls DL-centerline-speed-clone/logs/evaluation\n",
    "log_files"
   ]
  },
  {
   "cell_type": "code",
   "execution_count": 6,
   "metadata": {},
   "outputs": [],
   "source": [
    "# Log file\n",
    "log_filename = log_files[0]\n",
    "evaluation_log = f'{projectDir}/DL-centerline-speed-clone/logs/evaluation/{log_filename}'\n",
    "\n",
    "# load into pandas df\n",
    "eval_df = la.load_eval_data(evaluation_log)"
   ]
  },
  {
   "cell_type": "code",
   "execution_count": 7,
   "metadata": {},
   "outputs": [
    {
     "data": {
      "text/html": [
       "<div>\n",
       "<style scoped>\n",
       "    .dataframe tbody tr th:only-of-type {\n",
       "        vertical-align: middle;\n",
       "    }\n",
       "\n",
       "    .dataframe tbody tr th {\n",
       "        vertical-align: top;\n",
       "    }\n",
       "\n",
       "    .dataframe thead th {\n",
       "        text-align: right;\n",
       "    }\n",
       "</style>\n",
       "<table border=\"1\" class=\"dataframe\">\n",
       "  <thead>\n",
       "    <tr style=\"text-align: right;\">\n",
       "      <th></th>\n",
       "      <th>iteration</th>\n",
       "      <th>episode</th>\n",
       "      <th>steps</th>\n",
       "      <th>x</th>\n",
       "      <th>y</th>\n",
       "      <th>yaw</th>\n",
       "      <th>steer</th>\n",
       "      <th>throttle</th>\n",
       "      <th>action</th>\n",
       "      <th>reward</th>\n",
       "      <th>done</th>\n",
       "      <th>on_track</th>\n",
       "      <th>progress</th>\n",
       "      <th>closest_waypoint</th>\n",
       "      <th>track_len</th>\n",
       "      <th>timestamp</th>\n",
       "    </tr>\n",
       "  </thead>\n",
       "  <tbody>\n",
       "    <tr>\n",
       "      <th>0</th>\n",
       "      <td>1</td>\n",
       "      <td>0</td>\n",
       "      <td>3</td>\n",
       "      <td>320.33</td>\n",
       "      <td>68.28</td>\n",
       "      <td>0.0955</td>\n",
       "      <td>0.0</td>\n",
       "      <td>1.0</td>\n",
       "      <td>6.0</td>\n",
       "      <td>1.0</td>\n",
       "      <td>0</td>\n",
       "      <td>True</td>\n",
       "      <td>0.8108</td>\n",
       "      <td>1</td>\n",
       "      <td>17.71</td>\n",
       "      <td>5.28</td>\n",
       "    </tr>\n",
       "    <tr>\n",
       "      <th>1</th>\n",
       "      <td>1</td>\n",
       "      <td>0</td>\n",
       "      <td>4</td>\n",
       "      <td>321.99</td>\n",
       "      <td>68.17</td>\n",
       "      <td>-0.1921</td>\n",
       "      <td>-15.0</td>\n",
       "      <td>3.0</td>\n",
       "      <td>5.0</td>\n",
       "      <td>1.0</td>\n",
       "      <td>0</td>\n",
       "      <td>True</td>\n",
       "      <td>0.9043</td>\n",
       "      <td>1</td>\n",
       "      <td>17.71</td>\n",
       "      <td>5.349</td>\n",
       "    </tr>\n",
       "    <tr>\n",
       "      <th>2</th>\n",
       "      <td>1</td>\n",
       "      <td>0</td>\n",
       "      <td>5</td>\n",
       "      <td>324.63</td>\n",
       "      <td>67.97</td>\n",
       "      <td>-0.6433</td>\n",
       "      <td>-15.0</td>\n",
       "      <td>3.0</td>\n",
       "      <td>5.0</td>\n",
       "      <td>1.0</td>\n",
       "      <td>0</td>\n",
       "      <td>True</td>\n",
       "      <td>1.0536</td>\n",
       "      <td>1</td>\n",
       "      <td>17.71</td>\n",
       "      <td>5.416</td>\n",
       "    </tr>\n",
       "    <tr>\n",
       "      <th>3</th>\n",
       "      <td>1</td>\n",
       "      <td>0</td>\n",
       "      <td>6</td>\n",
       "      <td>329.25</td>\n",
       "      <td>67.60</td>\n",
       "      <td>-1.4354</td>\n",
       "      <td>0.0</td>\n",
       "      <td>1.0</td>\n",
       "      <td>6.0</td>\n",
       "      <td>1.0</td>\n",
       "      <td>0</td>\n",
       "      <td>True</td>\n",
       "      <td>1.3142</td>\n",
       "      <td>2</td>\n",
       "      <td>17.71</td>\n",
       "      <td>5.489</td>\n",
       "    </tr>\n",
       "    <tr>\n",
       "      <th>4</th>\n",
       "      <td>1</td>\n",
       "      <td>0</td>\n",
       "      <td>7</td>\n",
       "      <td>335.60</td>\n",
       "      <td>66.86</td>\n",
       "      <td>-2.7744</td>\n",
       "      <td>30.0</td>\n",
       "      <td>1.0</td>\n",
       "      <td>12.0</td>\n",
       "      <td>1.0</td>\n",
       "      <td>0</td>\n",
       "      <td>True</td>\n",
       "      <td>1.6728</td>\n",
       "      <td>2</td>\n",
       "      <td>17.71</td>\n",
       "      <td>5.545</td>\n",
       "    </tr>\n",
       "  </tbody>\n",
       "</table>\n",
       "</div>"
      ],
      "text/plain": [
       "   iteration  episode  steps       x      y     yaw  steer  throttle  action  \\\n",
       "0          1        0      3  320.33  68.28  0.0955    0.0       1.0     6.0   \n",
       "1          1        0      4  321.99  68.17 -0.1921  -15.0       3.0     5.0   \n",
       "2          1        0      5  324.63  67.97 -0.6433  -15.0       3.0     5.0   \n",
       "3          1        0      6  329.25  67.60 -1.4354    0.0       1.0     6.0   \n",
       "4          1        0      7  335.60  66.86 -2.7744   30.0       1.0    12.0   \n",
       "\n",
       "   reward  done on_track  progress  closest_waypoint  track_len timestamp  \n",
       "0     1.0     0     True    0.8108                 1      17.71      5.28  \n",
       "1     1.0     0     True    0.9043                 1      17.71     5.349  \n",
       "2     1.0     0     True    1.0536                 1      17.71     5.416  \n",
       "3     1.0     0     True    1.3142                 2      17.71     5.489  \n",
       "4     1.0     0     True    1.6728                 2      17.71     5.545  "
      ]
     },
     "execution_count": 7,
     "metadata": {},
     "output_type": "execute_result"
    }
   ],
   "source": [
    "# View the dataframe\n",
    "eval_df.head()"
   ]
  },
  {
   "cell_type": "code",
   "execution_count": 8,
   "metadata": {},
   "outputs": [
    {
     "data": {
      "text/plain": [
       "0        3\n",
       "1        4\n",
       "2        5\n",
       "3        6\n",
       "4        7\n",
       "      ... \n",
       "186    189\n",
       "187    190\n",
       "188    191\n",
       "189    192\n",
       "190    193\n",
       "Name: steps, Length: 191, dtype: int64"
      ]
     },
     "execution_count": 8,
     "metadata": {},
     "output_type": "execute_result"
    }
   ],
   "source": [
    "eval_df[eval_df.episode==0].steps"
   ]
  },
  {
   "cell_type": "code",
   "execution_count": 9,
   "metadata": {},
   "outputs": [
    {
     "data": {
      "text/html": [
       "<div>\n",
       "<style scoped>\n",
       "    .dataframe tbody tr th:only-of-type {\n",
       "        vertical-align: middle;\n",
       "    }\n",
       "\n",
       "    .dataframe tbody tr th {\n",
       "        vertical-align: top;\n",
       "    }\n",
       "\n",
       "    .dataframe thead th {\n",
       "        text-align: right;\n",
       "    }\n",
       "</style>\n",
       "<table border=\"1\" class=\"dataframe\">\n",
       "  <thead>\n",
       "    <tr style=\"text-align: right;\">\n",
       "      <th></th>\n",
       "      <th>iteration</th>\n",
       "      <th>episode</th>\n",
       "      <th>steps</th>\n",
       "      <th>x</th>\n",
       "      <th>y</th>\n",
       "      <th>yaw</th>\n",
       "      <th>steer</th>\n",
       "      <th>throttle</th>\n",
       "      <th>action</th>\n",
       "      <th>reward</th>\n",
       "      <th>done</th>\n",
       "      <th>on_track</th>\n",
       "      <th>progress</th>\n",
       "      <th>closest_waypoint</th>\n",
       "      <th>track_len</th>\n",
       "      <th>timestamp</th>\n",
       "    </tr>\n",
       "  </thead>\n",
       "  <tbody>\n",
       "    <tr>\n",
       "      <th>494</th>\n",
       "      <td>1</td>\n",
       "      <td>2</td>\n",
       "      <td>105</td>\n",
       "      <td>385.06</td>\n",
       "      <td>304.43</td>\n",
       "      <td>176.0235</td>\n",
       "      <td>0.0</td>\n",
       "      <td>1.0</td>\n",
       "      <td>6.0</td>\n",
       "      <td>0.001</td>\n",
       "      <td>0</td>\n",
       "      <td>False</td>\n",
       "      <td>49.1776</td>\n",
       "      <td>58</td>\n",
       "      <td>17.71</td>\n",
       "      <td>39.607</td>\n",
       "    </tr>\n",
       "    <tr>\n",
       "      <th>495</th>\n",
       "      <td>1</td>\n",
       "      <td>2</td>\n",
       "      <td>106</td>\n",
       "      <td>378.38</td>\n",
       "      <td>305.15</td>\n",
       "      <td>175.4519</td>\n",
       "      <td>-30.0</td>\n",
       "      <td>2.0</td>\n",
       "      <td>1.0</td>\n",
       "      <td>0.001</td>\n",
       "      <td>0</td>\n",
       "      <td>False</td>\n",
       "      <td>49.4449</td>\n",
       "      <td>58</td>\n",
       "      <td>17.71</td>\n",
       "      <td>39.683</td>\n",
       "    </tr>\n",
       "    <tr>\n",
       "      <th>496</th>\n",
       "      <td>1</td>\n",
       "      <td>2</td>\n",
       "      <td>107</td>\n",
       "      <td>370.52</td>\n",
       "      <td>306.15</td>\n",
       "      <td>174.6161</td>\n",
       "      <td>-30.0</td>\n",
       "      <td>2.0</td>\n",
       "      <td>1.0</td>\n",
       "      <td>0.001</td>\n",
       "      <td>0</td>\n",
       "      <td>False</td>\n",
       "      <td>49.7666</td>\n",
       "      <td>59</td>\n",
       "      <td>17.71</td>\n",
       "      <td>39.752</td>\n",
       "    </tr>\n",
       "    <tr>\n",
       "      <th>497</th>\n",
       "      <td>1</td>\n",
       "      <td>2</td>\n",
       "      <td>108</td>\n",
       "      <td>360.76</td>\n",
       "      <td>308.82</td>\n",
       "      <td>170.8275</td>\n",
       "      <td>-30.0</td>\n",
       "      <td>2.0</td>\n",
       "      <td>1.0</td>\n",
       "      <td>0.001</td>\n",
       "      <td>0</td>\n",
       "      <td>False</td>\n",
       "      <td>50.2581</td>\n",
       "      <td>59</td>\n",
       "      <td>17.71</td>\n",
       "      <td>39.815</td>\n",
       "    </tr>\n",
       "    <tr>\n",
       "      <th>498</th>\n",
       "      <td>1</td>\n",
       "      <td>2</td>\n",
       "      <td>109</td>\n",
       "      <td>351.90</td>\n",
       "      <td>312.25</td>\n",
       "      <td>166.5234</td>\n",
       "      <td>-30.0</td>\n",
       "      <td>2.0</td>\n",
       "      <td>1.0</td>\n",
       "      <td>0.001</td>\n",
       "      <td>1</td>\n",
       "      <td>False</td>\n",
       "      <td>50.7244</td>\n",
       "      <td>60</td>\n",
       "      <td>17.71</td>\n",
       "      <td>39.88</td>\n",
       "    </tr>\n",
       "  </tbody>\n",
       "</table>\n",
       "</div>"
      ],
      "text/plain": [
       "     iteration  episode  steps       x       y       yaw  steer  throttle  \\\n",
       "494          1        2    105  385.06  304.43  176.0235    0.0       1.0   \n",
       "495          1        2    106  378.38  305.15  175.4519  -30.0       2.0   \n",
       "496          1        2    107  370.52  306.15  174.6161  -30.0       2.0   \n",
       "497          1        2    108  360.76  308.82  170.8275  -30.0       2.0   \n",
       "498          1        2    109  351.90  312.25  166.5234  -30.0       2.0   \n",
       "\n",
       "     action  reward  done on_track  progress  closest_waypoint  track_len  \\\n",
       "494     6.0   0.001     0    False   49.1776                58      17.71   \n",
       "495     1.0   0.001     0    False   49.4449                58      17.71   \n",
       "496     1.0   0.001     0    False   49.7666                59      17.71   \n",
       "497     1.0   0.001     0    False   50.2581                59      17.71   \n",
       "498     1.0   0.001     1    False   50.7244                60      17.71   \n",
       "\n",
       "    timestamp  \n",
       "494    39.607  \n",
       "495    39.683  \n",
       "496    39.752  \n",
       "497    39.815  \n",
       "498     39.88  "
      ]
     },
     "execution_count": 9,
     "metadata": {},
     "output_type": "execute_result"
    }
   ],
   "source": [
    "eval_df.tail()"
   ]
  },
  {
   "cell_type": "markdown",
   "metadata": {},
   "source": [
    "## View the path of the DeepRacer Car"
   ]
  },
  {
   "cell_type": "code",
   "execution_count": 10,
   "metadata": {
    "scrolled": false
   },
   "outputs": [
    {
     "name": "stderr",
     "output_type": "stream",
     "text": [
      "/sas/sasdata/users/ld07716/anaconda3/lib/python3.6/site-packages/pandas/core/indexing.py:1596: SettingWithCopyWarning: \n",
      "A value is trying to be set on a copy of a slice from a DataFrame.\n",
      "Try using .loc[row_indexer,col_indexer] = value instead\n",
      "\n",
      "See the caveats in the documentation: https://pandas.pydata.org/pandas-docs/stable/user_guide/indexing.html#returning-a-view-versus-a-copy\n",
      "  self.obj[key] = _infer_fill_value(value)\n",
      "/sas/sasdata/users/ld07716/anaconda3/lib/python3.6/site-packages/pandas/core/indexing.py:1745: SettingWithCopyWarning: \n",
      "A value is trying to be set on a copy of a slice from a DataFrame.\n",
      "Try using .loc[row_indexer,col_indexer] = value instead\n",
      "\n",
      "See the caveats in the documentation: https://pandas.pydata.org/pandas-docs/stable/user_guide/indexing.html#returning-a-view-versus-a-copy\n",
      "  isetter(ilocs[0], value)\n"
     ]
    },
    {
     "data": {
      "image/png": "[encoded data removed]",
      "text/plain": [
       "<Figure size 1152x720 with 2 Axes>"
      ]
     },
     "metadata": {
      "needs_background": "light"
     },
     "output_type": "display_data"
    },
    {
     "name": "stderr",
     "output_type": "stream",
     "text": [
      "/sas/sasdata/users/ld07716/anaconda3/lib/python3.6/site-packages/pandas/core/indexing.py:1596: SettingWithCopyWarning: \n",
      "A value is trying to be set on a copy of a slice from a DataFrame.\n",
      "Try using .loc[row_indexer,col_indexer] = value instead\n",
      "\n",
      "See the caveats in the documentation: https://pandas.pydata.org/pandas-docs/stable/user_guide/indexing.html#returning-a-view-versus-a-copy\n",
      "  self.obj[key] = _infer_fill_value(value)\n",
      "/sas/sasdata/users/ld07716/anaconda3/lib/python3.6/site-packages/pandas/core/indexing.py:1745: SettingWithCopyWarning: \n",
      "A value is trying to be set on a copy of a slice from a DataFrame.\n",
      "Try using .loc[row_indexer,col_indexer] = value instead\n",
      "\n",
      "See the caveats in the documentation: https://pandas.pydata.org/pandas-docs/stable/user_guide/indexing.html#returning-a-view-versus-a-copy\n",
      "  isetter(ilocs[0], value)\n"
     ]
    },
    {
     "data": {
      "text/plain": [
       "<Figure size 432x288 with 0 Axes>"
      ]
     },
     "metadata": {},
     "output_type": "display_data"
    },
    {
     "data": {
      "image/png": "[encoded data removed]",
      "text/plain": [
       "<Figure size 1152x720 with 2 Axes>"
      ]
     },
     "metadata": {
      "needs_background": "light"
     },
     "output_type": "display_data"
    },
    {
     "name": "stderr",
     "output_type": "stream",
     "text": [
      "/sas/sasdata/users/ld07716/anaconda3/lib/python3.6/site-packages/pandas/core/indexing.py:1596: SettingWithCopyWarning: \n",
      "A value is trying to be set on a copy of a slice from a DataFrame.\n",
      "Try using .loc[row_indexer,col_indexer] = value instead\n",
      "\n",
      "See the caveats in the documentation: https://pandas.pydata.org/pandas-docs/stable/user_guide/indexing.html#returning-a-view-versus-a-copy\n",
      "  self.obj[key] = _infer_fill_value(value)\n",
      "/sas/sasdata/users/ld07716/anaconda3/lib/python3.6/site-packages/pandas/core/indexing.py:1745: SettingWithCopyWarning: \n",
      "A value is trying to be set on a copy of a slice from a DataFrame.\n",
      "Try using .loc[row_indexer,col_indexer] = value instead\n",
      "\n",
      "See the caveats in the documentation: https://pandas.pydata.org/pandas-docs/stable/user_guide/indexing.html#returning-a-view-versus-a-copy\n",
      "  isetter(ilocs[0], value)\n"
     ]
    },
    {
     "data": {
      "text/plain": [
       "<Figure size 432x288 with 0 Axes>"
      ]
     },
     "metadata": {},
     "output_type": "display_data"
    },
    {
     "data": {
      "image/png": "[encoded data removed]",
      "text/plain": [
       "<Figure size 1152x720 with 2 Axes>"
      ]
     },
     "metadata": {
      "needs_background": "light"
     },
     "output_type": "display_data"
    },
    {
     "data": {
      "text/plain": [
       "<Figure size 432x288 with 0 Axes>"
      ]
     },
     "metadata": {},
     "output_type": "display_data"
    }
   ],
   "source": [
    "joe_print_eval = la.analyse_single_evaluation(evaluation_log, l_inner_border, l_outer_border, episodes=3)\n",
    "joe_print_eval"
   ]
  },
  {
   "cell_type": "markdown",
   "metadata": {},
   "source": [
    "## Plotting Progress"
   ]
  },
  {
   "cell_type": "markdown",
   "metadata": {},
   "source": [
    "The following code chunks do the following:\n",
    "- import training log files (use the robomaker logs)\n",
    "- generate a custom graph of progress\n",
    "- use the log_analysis class to output graphs"
   ]
  },
  {
   "cell_type": "markdown",
   "metadata": {},
   "source": [
    "#### Import Training Log"
   ]
  },
  {
   "cell_type": "code",
   "execution_count": 70,
   "metadata": {},
   "outputs": [
    {
     "data": {
      "text/html": [
       "<div>\n",
       "<style scoped>\n",
       "    .dataframe tbody tr th:only-of-type {\n",
       "        vertical-align: middle;\n",
       "    }\n",
       "\n",
       "    .dataframe tbody tr th {\n",
       "        vertical-align: top;\n",
       "    }\n",
       "\n",
       "    .dataframe thead th {\n",
       "        text-align: right;\n",
       "    }\n",
       "</style>\n",
       "<table border=\"1\" class=\"dataframe\">\n",
       "  <thead>\n",
       "    <tr style=\"text-align: right;\">\n",
       "      <th></th>\n",
       "      <th>iteration</th>\n",
       "      <th>episode</th>\n",
       "      <th>steps</th>\n",
       "      <th>x</th>\n",
       "      <th>y</th>\n",
       "      <th>yaw</th>\n",
       "      <th>steer</th>\n",
       "      <th>throttle</th>\n",
       "      <th>action</th>\n",
       "      <th>reward</th>\n",
       "      <th>done</th>\n",
       "      <th>on_track</th>\n",
       "      <th>progress</th>\n",
       "      <th>closest_waypoint</th>\n",
       "      <th>track_len</th>\n",
       "      <th>timestamp</th>\n",
       "    </tr>\n",
       "  </thead>\n",
       "  <tbody>\n",
       "    <tr>\n",
       "      <th>0</th>\n",
       "      <td>1</td>\n",
       "      <td>0</td>\n",
       "      <td>3</td>\n",
       "      <td>320.19</td>\n",
       "      <td>68.29</td>\n",
       "      <td>0.1192</td>\n",
       "      <td>-15.0</td>\n",
       "      <td>1.0</td>\n",
       "      <td>3.0</td>\n",
       "      <td>2.0</td>\n",
       "      <td>0</td>\n",
       "      <td>True</td>\n",
       "      <td>0.8029</td>\n",
       "      <td>1</td>\n",
       "      <td>17.71</td>\n",
       "      <td>22.114</td>\n",
       "    </tr>\n",
       "    <tr>\n",
       "      <th>1</th>\n",
       "      <td>1</td>\n",
       "      <td>0</td>\n",
       "      <td>4</td>\n",
       "      <td>321.88</td>\n",
       "      <td>68.08</td>\n",
       "      <td>-0.4122</td>\n",
       "      <td>15.0</td>\n",
       "      <td>3.0</td>\n",
       "      <td>11.0</td>\n",
       "      <td>2.0</td>\n",
       "      <td>0</td>\n",
       "      <td>True</td>\n",
       "      <td>0.8980</td>\n",
       "      <td>1</td>\n",
       "      <td>17.71</td>\n",
       "      <td>22.185</td>\n",
       "    </tr>\n",
       "    <tr>\n",
       "      <th>2</th>\n",
       "      <td>1</td>\n",
       "      <td>0</td>\n",
       "      <td>5</td>\n",
       "      <td>331.23</td>\n",
       "      <td>67.77</td>\n",
       "      <td>-0.9325</td>\n",
       "      <td>30.0</td>\n",
       "      <td>1.0</td>\n",
       "      <td>12.0</td>\n",
       "      <td>2.0</td>\n",
       "      <td>0</td>\n",
       "      <td>True</td>\n",
       "      <td>1.4263</td>\n",
       "      <td>2</td>\n",
       "      <td>17.71</td>\n",
       "      <td>22.209</td>\n",
       "    </tr>\n",
       "    <tr>\n",
       "      <th>3</th>\n",
       "      <td>1</td>\n",
       "      <td>0</td>\n",
       "      <td>6</td>\n",
       "      <td>334.01</td>\n",
       "      <td>68.07</td>\n",
       "      <td>-0.3234</td>\n",
       "      <td>30.0</td>\n",
       "      <td>3.0</td>\n",
       "      <td>14.0</td>\n",
       "      <td>2.0</td>\n",
       "      <td>0</td>\n",
       "      <td>True</td>\n",
       "      <td>1.5832</td>\n",
       "      <td>2</td>\n",
       "      <td>17.71</td>\n",
       "      <td>22.333</td>\n",
       "    </tr>\n",
       "    <tr>\n",
       "      <th>4</th>\n",
       "      <td>1</td>\n",
       "      <td>0</td>\n",
       "      <td>7</td>\n",
       "      <td>336.17</td>\n",
       "      <td>68.36</td>\n",
       "      <td>0.4288</td>\n",
       "      <td>15.0</td>\n",
       "      <td>3.0</td>\n",
       "      <td>11.0</td>\n",
       "      <td>2.0</td>\n",
       "      <td>0</td>\n",
       "      <td>True</td>\n",
       "      <td>1.7053</td>\n",
       "      <td>2</td>\n",
       "      <td>17.71</td>\n",
       "      <td>22.377</td>\n",
       "    </tr>\n",
       "  </tbody>\n",
       "</table>\n",
       "</div>"
      ],
      "text/plain": [
       "   iteration  episode  steps       x      y     yaw  steer  throttle  action  \\\n",
       "0          1        0      3  320.19  68.29  0.1192  -15.0       1.0     3.0   \n",
       "1          1        0      4  321.88  68.08 -0.4122   15.0       3.0    11.0   \n",
       "2          1        0      5  331.23  67.77 -0.9325   30.0       1.0    12.0   \n",
       "3          1        0      6  334.01  68.07 -0.3234   30.0       3.0    14.0   \n",
       "4          1        0      7  336.17  68.36  0.4288   15.0       3.0    11.0   \n",
       "\n",
       "   reward  done on_track  progress  closest_waypoint  track_len timestamp  \n",
       "0     2.0     0     True    0.8029                 1      17.71    22.114  \n",
       "1     2.0     0     True    0.8980                 1      17.71    22.185  \n",
       "2     2.0     0     True    1.4263                 2      17.71    22.209  \n",
       "3     2.0     0     True    1.5832                 2      17.71    22.333  \n",
       "4     2.0     0     True    1.7053                 2      17.71    22.377  "
      ]
     },
     "execution_count": 70,
     "metadata": {},
     "output_type": "execute_result"
    }
   ],
   "source": [
    "# import log file from training\n",
    "# racingline-speed: 'DL-racingline-speed-version2-clone', training-20210205063910-yYUXLgdcQxOYeqQsjEFxnA-robomaker.log'\n",
    "# centerline-speed: 'DL-centerline-speed', 'training-20210204051633-yv2A1t5NQLKkK6n2QqARCA-robomaker.log'\n",
    "logfolder = 'DL-centerline-speed'\n",
    "logfile = 'training-20210204051633-yv2A1t5NQLKkK6n2QqARCA-robomaker.log'\n",
    "\n",
    "# logfolder = 'DL-racingline-speed-version2-clone'\n",
    "# logfile = 'training-20210205063910-yYUXLgdcQxOYeqQsjEFxnA-robomaker.log'\n",
    "\n",
    "training_log = f'{projectDir}/{logfolder}/logs/training/{logfile}'\n",
    "\n",
    "# load into pandas df\n",
    "training = la.load_data(training_log)\n",
    "training_df = la.convert_to_pandas(training)\n",
    "training_df.head()"
   ]
  },
  {
   "cell_type": "markdown",
   "metadata": {},
   "source": [
    "#### Custom Graph of Progress"
   ]
  },
  {
   "cell_type": "code",
   "execution_count": 71,
   "metadata": {},
   "outputs": [
    {
     "data": {
      "application/vnd.plotly.v1+json": {
       "config": {
        "plotlyServerURL": "https://plot.ly"
       },
       "data": [
        {
         "line": {
          "color": "orange"
         },
         "mode": "markers",
         "name": "progress by episode",
         "type": "scatter",
         "x": [
          0,
          1,
          2,
          3,
          4,
          5,
          6,
          7,
          8,
          9,
          10,
          11,
          12,
          13,
          14,
          15,
          16,
          17,
          18,
          19,
          20,
          21,
          22,
          23,
          24,
          25,
          26,
          27,
          28,
          29,
          30,
          31,
          32,
          33,
          34,
          35,
          36,
          37,
          38,
          39,
          40,
          41,
          42,
          43,
          44,
          45,
          46,
          47,
          48,
          49,
          50,
          51,
          52,
          53,
          54,
          55,
          56,
          57,
          58,
          59,
          60,
          61,
          62,
          63,
          64,
          65,
          66,
          67,
          68,
          69,
          70,
          71,
          72,
          73,
          74,
          75,
          76,
          77,
          78,
          79,
          80,
          81,
          82,
          83,
          84,
          85,
          86,
          87,
          88,
          89,
          90,
          91,
          92,
          93,
          94,
          95,
          96,
          97,
          98,
          99,
          100,
          101,
          102,
          103,
          104,
          105,
          106,
          107,
          108,
          109,
          110,
          111,
          112,
          113,
          114,
          115,
          116,
          117,
          118,
          119,
          120,
          121,
          122,
          123,
          124,
          125,
          126,
          127,
          128,
          129,
          130,
          131,
          132,
          133,
          134,
          135,
          136,
          137,
          138,
          139,
          140,
          141,
          142,
          143,
          144,
          145,
          146,
          147,
          148,
          149,
          150,
          151,
          152,
          153,
          154,
          155,
          156,
          157,
          158,
          159,
          160,
          161,
          162,
          163,
          164,
          165,
          166,
          167,
          168,
          169,
          170,
          171,
          172,
          173,
          174,
          175,
          176,
          177,
          178,
          179,
          180,
          181,
          182,
          183,
          184,
          185,
          186,
          187,
          188,
          189,
          190,
          191,
          192,
          193,
          194,
          195,
          196,
          197,
          198,
          199,
          200,
          201,
          202,
          203,
          204,
          205,
          206,
          207,
          208,
          209,
          210,
          211,
          212,
          213,
          214,
          215,
          216,
          217,
          218,
          219,
          220,
          221,
          222,
          223,
          224,
          225,
          226,
          227,
          228,
          229,
          230,
          231,
          232,
          233,
          234,
          235,
          236,
          237,
          238,
          239,
          240,
          241,
          242,
          243,
          244,
          245,
          246,
          247,
          248,
          249,
          250,
          251,
          252,
          253,
          254,
          255,
          256,
          257,
          258,
          259,
          260,
          261,
          262,
          263,
          264,
          265,
          266,
          267,
          268,
          269,
          270,
          271,
          272,
          273,
          274,
          275,
          276,
          277,
          278,
          279,
          280,
          281,
          282,
          283,
          284,
          285,
          286,
          287,
          288,
          289,
          290,
          291,
          292,
          293,
          294,
          295,
          296,
          297,
          298,
          299,
          300,
          301,
          302,
          303,
          304,
          305,
          306,
          307,
          308,
          309,
          310,
          311,
          312,
          313,
          314,
          315,
          316,
          317,
          318,
          319,
          320,
          321,
          322,
          323,
          324,
          325,
          326,
          327,
          328,
          329,
          330,
          331,
          332,
          333,
          334,
          335,
          336,
          337,
          338,
          339,
          340,
          341,
          342,
          343,
          344,
          345,
          346,
          347,
          348,
          349,
          350,
          351,
          352,
          353,
          354,
          355,
          356,
          357,
          358,
          359,
          360,
          361,
          362,
          363,
          364,
          365,
          366,
          367,
          368,
          369,
          370,
          371,
          372,
          373,
          374,
          375,
          376,
          377,
          378,
          379,
          380,
          381,
          382,
          383,
          384,
          385,
          386,
          387,
          388,
          389,
          390,
          391,
          392,
          393,
          394,
          395,
          396,
          397,
          398,
          399,
          400,
          401,
          402,
          403,
          404,
          405,
          406,
          407,
          408,
          409,
          410,
          411,
          412,
          413,
          414,
          415,
          416,
          417,
          418,
          419,
          420,
          421,
          422,
          423,
          424,
          425,
          426,
          427,
          428,
          429,
          430,
          431,
          432,
          433,
          434,
          435,
          436,
          437,
          438,
          439,
          440,
          441,
          442,
          443,
          444,
          445,
          446,
          447,
          448,
          449,
          450,
          451,
          452,
          453,
          454,
          455,
          456,
          457,
          458,
          459,
          460,
          461,
          462,
          463,
          464,
          465,
          466,
          467,
          468,
          469,
          470,
          471,
          472,
          473,
          474,
          475,
          476,
          477,
          478,
          479,
          480,
          481,
          482,
          483,
          484,
          485,
          486,
          487,
          488,
          489,
          490,
          491,
          492,
          493,
          494,
          495,
          496,
          497,
          498,
          499,
          500,
          501,
          502,
          503,
          504,
          505,
          506,
          507,
          508,
          509,
          510,
          511,
          512,
          513,
          514,
          515,
          516,
          517,
          518,
          519,
          520,
          521,
          522,
          523,
          524,
          525,
          526,
          527,
          528,
          529,
          530,
          531,
          532,
          533,
          534,
          535,
          536,
          537,
          538,
          539,
          540,
          541,
          542,
          543,
          544,
          545,
          546,
          547,
          548,
          549,
          550,
          551,
          552,
          553,
          554,
          555,
          556,
          557,
          558,
          559,
          560,
          561,
          562,
          563,
          564,
          565,
          566,
          567,
          568,
          569,
          570,
          571,
          572,
          573,
          574,
          575,
          576,
          577,
          578,
          579,
          580,
          581,
          582,
          583,
          584,
          585,
          586,
          587,
          588,
          589,
          590,
          591,
          592,
          593,
          594,
          595,
          596,
          597,
          598,
          599
         ],
         "y": [
          6.030227999999999,
          3.637376470588235,
          4.334261904761905,
          4.723108695652173,
          2.088006666666667,
          2.7663,
          2.1626266666666667,
          13.429267391304348,
          3.8780636363636365,
          7.986265625,
          2.4781400000000002,
          1.995625,
          3.445422222222222,
          3.4384,
          2.283333333333333,
          5.702068,
          6.851413333333334,
          4.213180952380952,
          3.984338095238096,
          8.384596969696968,
          5.0656681818181815,
          2.7403529411764707,
          6.202196428571428,
          3.7060250000000003,
          3.915319047619048,
          2.25628,
          2.648825,
          4.323684210526316,
          4.237090476190476,
          2.82833125,
          20.32440147058823,
          2.9058736842105266,
          9.573159459459458,
          2.2093599999999998,
          2.64604705882353,
          3.8986999999999994,
          5.9836074074074075,
          3.8482761904761906,
          2.32768,
          6.561779310344827,
          3.0770611111111115,
          7.117139285714286,
          7.046003571428571,
          2.5015687499999997,
          2.077,
          3.0076055555555556,
          2.3576117647058825,
          2.4525733333333335,
          3.6200550000000007,
          2.7861000000000002,
          6.2710037037037045,
          2.822076470588235,
          15.981899999999998,
          4.4561090909090915,
          8.781694871794873,
          5.935307407407408,
          11.896958139534885,
          3.5729166666666665,
          3.5705190476190474,
          3.269382352941176,
          4.592643478260869,
          4.380845,
          4.944159999999999,
          7.746490625,
          2.9849263157894734,
          2.4014562500000003,
          2.27598125,
          6.2629399999999995,
          2.5614823529411765,
          2.19465625,
          8.788376470588236,
          2.50446875,
          7.584542424242424,
          7.980681818181819,
          3.156977777777778,
          2.84005,
          6.952739285714285,
          6.486685185185185,
          2.90686875,
          5.96923076923077,
          4.400554545454545,
          5.911967857142857,
          2.8998705882352946,
          3.6860950000000003,
          3.6331263157894735,
          2.5437125,
          2.682725,
          4.4291,
          4.239309090909091,
          2.8879312500000003,
          13.365228846153851,
          3.0192777777777775,
          5.204411111111112,
          6.469751724137931,
          1.9714357142857144,
          4.423385714285715,
          4.483327272727272,
          5.871467857142858,
          1.8742642857142857,
          9.381202631578946,
          4.697207692307692,
          10.664561904761902,
          7.609622222222222,
          5.881777777777777,
          3.56656,
          3.6295238095238096,
          3.487819047619048,
          9.7709175,
          4.0067590909090915,
          8.359046666666668,
          10.381856756756758,
          7.8808525000000005,
          18.504749999999994,
          7.853844444444444,
          3.007675,
          3.311765,
          6.597720689655174,
          4.295829166666667,
          2.0750875,
          25.895400000000002,
          16.462683606557377,
          6.681293939393939,
          10.930807692307692,
          8.51427804878049,
          3.536105,
          2.8289588235294114,
          3.40668,
          3.3834947368421053,
          14.658052000000003,
          2.29388,
          4.615784,
          4.705354166666666,
          3.524773684210526,
          12.64498139534884,
          1.7830785714285713,
          9.263952500000002,
          10.049509302325582,
          4.746595454545456,
          5.401973333333332,
          7.715315151515151,
          14.776794736842104,
          15.554633962264148,
          6.203989285714284,
          5.5306679999999995,
          2.46368125,
          11.975209615384614,
          2.0855799999999998,
          5.649476923076923,
          3.797247619047619,
          2.2164333333333333,
          15.837958928571428,
          5.1202125,
          7.437887096774196,
          3.0581933333333335,
          11.683661224489795,
          7.778520588235294,
          10.787268421052628,
          4.551529166666667,
          17.928380281690142,
          14.407475409836067,
          3.5349250000000003,
          13.287716981132077,
          7.856939393939392,
          15.52195833333333,
          3.1105380952380948,
          8.954395348837208,
          3.3947499999999997,
          3.149147368421052,
          17.91449852941176,
          9.571630232558139,
          10.805618181818183,
          6.513748387096774,
          3.8869,
          4.232743478260869,
          6.931662857142857,
          3.9349450000000004,
          13.9832375,
          22.116639759036143,
          7.261230769230769,
          4.59335652173913,
          9.954630952380953,
          8.611494285714286,
          10.411805000000001,
          4.098936363636364,
          4.112070833333333,
          23.03573375,
          2.6145941176470586,
          2.9972764705882358,
          3.6379294117647056,
          13.118534482758623,
          3.203729411764706,
          5.124084615384616,
          4.7369863636363645,
          5.131908000000001,
          8.882627499999998,
          7.019336363636365,
          3.422229411764706,
          2.8441199999999998,
          5.889137931034482,
          3.2905444444444445,
          8.180150000000001,
          2.8998,
          9.127847368421053,
          4.967048,
          2.5160176470588236,
          6.5939848484848484,
          4.070916666666667,
          2.09385,
          3.3364499999999997,
          4.032545,
          3.987277272727273,
          7.095891176470587,
          5.076732142857142,
          5.031647999999999,
          5.3389999999999995,
          9.876081818181818,
          4.973504166666668,
          8.402629999999998,
          2.1797066666666667,
          9.167847222222221,
          7.898097297297298,
          18.882192307692304,
          9.905613888888888,
          3.9053799999999996,
          3.433433333333333,
          16.628818666666664,
          3.5619500000000004,
          3.54057619047619,
          11.194385000000002,
          2.915294736842105,
          3.2745499999999996,
          5.262315999999999,
          3.0713222222222223,
          9.631060000000002,
          2.44138125,
          19.036447826086956,
          15.237324074074074,
          12.194094230769227,
          11.22197924528302,
          10.147097619047619,
          3.9597947368421047,
          6.042103333333333,
          5.239685714285713,
          3.3066947368421054,
          3.527072727272727,
          3.4406950000000003,
          8.015320512820514,
          2.31498,
          9.861960526315789,
          8.67318823529412,
          5.145068,
          3.2638700000000007,
          8.264045454545455,
          5.973793103448277,
          4.646699999999999,
          12.099993617021276,
          12.669070175438595,
          4.187895833333333,
          7.312142857142857,
          12.61221063829787,
          2.9383117647058823,
          13.203166666666668,
          2.9492235294117646,
          8.477883783783785,
          3.121015,
          3.841556521739131,
          6.306954838709678,
          4.946177272727272,
          9.494502941176467,
          12.053588135593222,
          23.479093181818186,
          5.493054838709678,
          11.463987804878048,
          7.671886206896553,
          11.117564814814818,
          7.192177777777778,
          6.998170588235295,
          12.9874375,
          20.102945454545456,
          15.162371929824559,
          10.986885714285714,
          8.99836875,
          5.15944347826087,
          6.457835714285714,
          5.6522821428571435,
          3.1357600000000003,
          3.269017647058823,
          10.449078571428569,
          9.199986111111112,
          6.620822580645162,
          10.28016511627907,
          10.65156304347826,
          21.30740833333333,
          20.114211428571426,
          7.1697437499999985,
          16.224632727272727,
          7.181996551724138,
          11.343682000000001,
          2.2531375,
          7.757892105263159,
          3.782936842105263,
          12.030051162790697,
          5.766040740740741,
          4.878478260869565,
          7.634241463414634,
          11.369733333333334,
          3.7288545454545456,
          2.8746388888888887,
          11.165140816326529,
          3.0291277777777776,
          11.08666046511628,
          5.476057692307692,
          9.619781395348838,
          2.9194947368421054,
          7.396002631578945,
          10.338140476190475,
          6.044644,
          19.211885074626867,
          5.771876000000001,
          13.644244230769228,
          4.806088461538462,
          11.52623157894737,
          3.9978888888888884,
          4.906544444444444,
          2.2675666666666667,
          7.936429999999999,
          5.241583333333334,
          5.525338461538462,
          13.05407659574468,
          6.237210714285715,
          9.114651219512195,
          33.11299262295081,
          5.660622222222224,
          2.91428,
          6.695103124999999,
          10.054033333333335,
          7.951692105263159,
          8.684724242424242,
          5.3814,
          6.143840740740742,
          6.151161764705883,
          12.92077916666667,
          5.130984,
          3.9023399999999997,
          13.257815384615382,
          8.517493181818184,
          9.846020512820512,
          5.332377777777778,
          11.074913953488371,
          19.552611111111116,
          9.994021951219512,
          48.53270476190478,
          5.764722222222222,
          6.223237037037037,
          7.7938075,
          8.559392105263157,
          5.68832962962963,
          9.552615,
          4.441959090909091,
          24.66173298969073,
          15.070660937500001,
          14.946117741935481,
          12.640292857142857,
          19.841771052631582,
          6.141303333333334,
          15.325113636363636,
          8.431394871794874,
          28.12314455445545,
          3.201994736842105,
          6.258523333333334,
          5.386342307692308,
          5.449028571428571,
          4.9902999999999995,
          5.2899375,
          8.689318918918918,
          22.461110752688178,
          14.00962898550725,
          13.18947857142857,
          12.524396666666664,
          9.3843,
          2.417117647058824,
          9.660490697674417,
          16.50523181818182,
          12.460606000000002,
          7.5485944444444435,
          3.4862285714285717,
          3.289077272727273,
          11.871728888888889,
          8.042229411764705,
          5.680910714285715,
          9.92564871794872,
          15.296978333333335,
          11.30399333333334,
          5.0306500000000005,
          3.227205,
          3.302984210526316,
          5.568013793103448,
          12.643149999999999,
          3.499073684210526,
          8.825503125000001,
          21.97972093023256,
          7.505705714285715,
          11.40290357142857,
          3.704513043478261,
          14.6701328358209,
          2.675822222222222,
          2.730094117647059,
          3.071016666666667,
          9.803557142857143,
          6.702082758620691,
          18.84638395061728,
          11.438523255813955,
          16.28068783783784,
          11.583419999999998,
          32.494277499999995,
          8.591807894736842,
          15.42492153846154,
          16.723933333333335,
          6.066325806451612,
          14.64477833333333,
          16.757737878787875,
          7.895618918918918,
          3.509315,
          4.095452,
          3.155795,
          3.9931875,
          5.004370370370371,
          6.916293548387096,
          15.825792063492061,
          4.619226086956522,
          3.093744444444445,
          6.086981249999999,
          6.432532258064517,
          10.966528571428572,
          3.23163,
          7.936768292682926,
          6.8885178571428565,
          12.404712499999997,
          4.174285714285714,
          13.700837288135592,
          18.233009523809525,
          16.10834925373134,
          14.614095161290326,
          7.8968525,
          12.645380357142852,
          2.7939900000000004,
          6.978102941176471,
          17.391455737704923,
          10.49870465116279,
          7.71908064516129,
          3.1421749999999995,
          11.532614583333332,
          22.199355294117645,
          8.945663636363639,
          11.273751923076926,
          17.742786111111112,
          10.298662499999999,
          8.16001081081081,
          8.366555263157895,
          6.357174193548386,
          15.591840909090909,
          13.55022166666667,
          9.943200000000001,
          4.718586363636364,
          8.438141935483872,
          3.3312649999999997,
          2.445125,
          20.49638076923076,
          10.205905128205128,
          23.287685567010307,
          11.537535294117646,
          6.294865625,
          15.651043548387099,
          21.319945205479453,
          7.098877142857143,
          12.393762264150942,
          26.06164639175257,
          14.012414754098364,
          5.139982142857143,
          4.721403999999998,
          15.28261875,
          12.426598039215683,
          4.816816666666666,
          13.863444000000001,
          13.61873529411765,
          10.864950980392155,
          7.016534285714286,
          4.010236363636363,
          15.17838,
          15.379810937500004,
          4.392708695652174,
          13.044014516129034,
          11.35721632653061,
          10.37972888888889,
          26.028645283018868,
          6.43870303030303,
          16.814428571428568,
          17.866669230769237,
          10.109280851063827,
          18.77673780487805,
          7.692897297297297,
          13.206741666666664,
          16.007763492063493,
          3.374370588235294,
          9.360286666666669,
          5.571575862068965,
          2.7409499999999998,
          6.374410344827586,
          14.686146428571424,
          10.320574999999998,
          19.584879012345684,
          6.470690000000001,
          8.367757142857144,
          16.93830895522388,
          4.725253846153846,
          8.633464864864864,
          16.227203076923075,
          24.254365853658538,
          8.33746046511628,
          14.293612727272727,
          20.707485263157896,
          11.81594375,
          28.80100000000001,
          12.970722222222221,
          10.993707142857144,
          4.575737500000001,
          14.48462372881356,
          6.880908823529412,
          4.563469230769231,
          13.265995384615382,
          26.581527102803737,
          9.05882682926829,
          6.484835483870968,
          29.398773584905662,
          37.102931333333345,
          3.5768090909090913,
          31.709661475409835,
          31.890374796747974,
          21.56944747474748,
          18.108530136986303,
          9.05296052631579,
          21.438585714285715,
          21.062553086419758,
          11.890714545454545,
          6.247937037037037,
          4.912558333333333,
          8.185897297297295,
          9.62623947368421,
          7.019324137931036,
          16.084275362318838,
          12.704996491228068,
          13.899824528301888,
          25.10097647058825,
          20.28046625,
          3.7310952380952385,
          8.847369230769232,
          20.03608571428571,
          4.850092592592592,
          14.67906666666667,
          16.318125714285713,
          3.4909,
          20.216688235294118,
          12.111265384615384,
          11.69528780487805,
          25.766056310679602,
          11.117666666666667,
          2.4322882352941178,
          8.07145625,
          7.282915624999999,
          3.11388947368421,
          22.483043750000007,
          9.094011764705883,
          25.7443793814433,
          10.820604878048776,
          11.691254166666667,
          32.11364871794872,
          16.194984722222227,
          21.373339759036142,
          26.213127522935785,
          3.995483333333334,
          4.704729166666667,
          7.855172222222221,
          22.775048888888893,
          18.2558641025641,
          36.89567101449274,
          3.9805916666666668,
          12.383694117647059,
          4.769270833333334,
          7.12699,
          3.0133368421052635,
          11.0132612244898,
          6.187432258064517,
          29.112715517241377,
          6.021888461538461,
          36.518836054421755,
          9.416497872340424,
          17.776885714285715,
          7.062015625,
          28.37719557522124,
          5.441885185185185
         ]
        },
        {
         "line": {
          "color": "firebrick",
          "width": 4
         },
         "name": "progress by iteration",
         "type": "scatter",
         "x": [
          20,
          40,
          60,
          80,
          100,
          120,
          140,
          160,
          180,
          200,
          220,
          240,
          260,
          280,
          300,
          320,
          340,
          360,
          380,
          400,
          420,
          440,
          460,
          480,
          500,
          520,
          540,
          560,
          580,
          600
         ],
         "y": [
          5.626201569506727,
          6.902365010799144,
          6.414728602150536,
          5.399483947939257,
          5.677688528138527,
          10.420866919575108,
          8.563168256578937,
          10.866513502109699,
          11.057056037991856,
          9.131000505050512,
          6.205899814471241,
          11.293244549125168,
          7.627889785831966,
          12.084478219013228,
          11.356306056701023,
          9.51567819767441,
          12.008994645441394,
          18.256036440677956,
          14.477639940239024,
          9.666866480446933,
          15.584668415841554,
          9.123212278106507,
          13.05530758835759,
          15.043800507099405,
          14.375833174451877,
          13.103452591792657,
          22.73662337031902,
          15.597364935064927,
          19.091023670668953,
          21.287489058524173
         ]
        }
       ],
       "layout": {
        "template": {
         "data": {
          "bar": [
           {
            "error_x": {
             "color": "rgb(36,36,36)"
            },
            "error_y": {
             "color": "rgb(36,36,36)"
            },
            "marker": {
             "line": {
              "color": "white",
              "width": 0.5
             }
            },
            "type": "bar"
           }
          ],
          "barpolar": [
           {
            "marker": {
             "line": {
              "color": "white",
              "width": 0.5
             }
            },
            "type": "barpolar"
           }
          ],
          "carpet": [
           {
            "aaxis": {
             "endlinecolor": "rgb(36,36,36)",
             "gridcolor": "white",
             "linecolor": "white",
             "minorgridcolor": "white",
             "startlinecolor": "rgb(36,36,36)"
            },
            "baxis": {
             "endlinecolor": "rgb(36,36,36)",
             "gridcolor": "white",
             "linecolor": "white",
             "minorgridcolor": "white",
             "startlinecolor": "rgb(36,36,36)"
            },
            "type": "carpet"
           }
          ],
          "choropleth": [
           {
            "colorbar": {
             "outlinewidth": 1,
             "tickcolor": "rgb(36,36,36)",
             "ticks": "outside"
            },
            "type": "choropleth"
           }
          ],
          "contour": [
           {
            "colorbar": {
             "outlinewidth": 1,
             "tickcolor": "rgb(36,36,36)",
             "ticks": "outside"
            },
            "colorscale": [
             [
              0,
              "#440154"
             ],
             [
              0.1111111111111111,
              "#482878"
             ],
             [
              0.2222222222222222,
              "#3e4989"
             ],
             [
              0.3333333333333333,
              "#31688e"
             ],
             [
              0.4444444444444444,
              "#26828e"
             ],
             [
              0.5555555555555556,
              "#1f9e89"
             ],
             [
              0.6666666666666666,
              "#35b779"
             ],
             [
              0.7777777777777778,
              "#6ece58"
             ],
             [
              0.8888888888888888,
              "#b5de2b"
             ],
             [
              1,
              "#fde725"
             ]
            ],
            "type": "contour"
           }
          ],
          "contourcarpet": [
           {
            "colorbar": {
             "outlinewidth": 1,
             "tickcolor": "rgb(36,36,36)",
             "ticks": "outside"
            },
            "type": "contourcarpet"
           }
          ],
          "heatmap": [
           {
            "colorbar": {
             "outlinewidth": 1,
             "tickcolor": "rgb(36,36,36)",
             "ticks": "outside"
            },
            "colorscale": [
             [
              0,
              "#440154"
             ],
             [
              0.1111111111111111,
              "#482878"
             ],
             [
              0.2222222222222222,
              "#3e4989"
             ],
             [
              0.3333333333333333,
              "#31688e"
             ],
             [
              0.4444444444444444,
              "#26828e"
             ],
             [
              0.5555555555555556,
              "#1f9e89"
             ],
             [
              0.6666666666666666,
              "#35b779"
             ],
             [
              0.7777777777777778,
              "#6ece58"
             ],
             [
              0.8888888888888888,
              "#b5de2b"
             ],
             [
              1,
              "#fde725"
             ]
            ],
            "type": "heatmap"
           }
          ],
          "heatmapgl": [
           {
            "colorbar": {
             "outlinewidth": 1,
             "tickcolor": "rgb(36,36,36)",
             "ticks": "outside"
            },
            "colorscale": [
             [
              0,
              "#440154"
             ],
             [
              0.1111111111111111,
              "#482878"
             ],
             [
              0.2222222222222222,
              "#3e4989"
             ],
             [
              0.3333333333333333,
              "#31688e"
             ],
             [
              0.4444444444444444,
              "#26828e"
             ],
             [
              0.5555555555555556,
              "#1f9e89"
             ],
             [
              0.6666666666666666,
              "#35b779"
             ],
             [
              0.7777777777777778,
              "#6ece58"
             ],
             [
              0.8888888888888888,
              "#b5de2b"
             ],
             [
              1,
              "#fde725"
             ]
            ],
            "type": "heatmapgl"
           }
          ],
          "histogram": [
           {
            "marker": {
             "line": {
              "color": "white",
              "width": 0.6
             }
            },
            "type": "histogram"
           }
          ],
          "histogram2d": [
           {
            "colorbar": {
             "outlinewidth": 1,
             "tickcolor": "rgb(36,36,36)",
             "ticks": "outside"
            },
            "colorscale": [
             [
              0,
              "#440154"
             ],
             [
              0.1111111111111111,
              "#482878"
             ],
             [
              0.2222222222222222,
              "#3e4989"
             ],
             [
              0.3333333333333333,
              "#31688e"
             ],
             [
              0.4444444444444444,
              "#26828e"
             ],
             [
              0.5555555555555556,
              "#1f9e89"
             ],
             [
              0.6666666666666666,
              "#35b779"
             ],
             [
              0.7777777777777778,
              "#6ece58"
             ],
             [
              0.8888888888888888,
              "#b5de2b"
             ],
             [
              1,
              "#fde725"
             ]
            ],
            "type": "histogram2d"
           }
          ],
          "histogram2dcontour": [
           {
            "colorbar": {
             "outlinewidth": 1,
             "tickcolor": "rgb(36,36,36)",
             "ticks": "outside"
            },
            "colorscale": [
             [
              0,
              "#440154"
             ],
             [
              0.1111111111111111,
              "#482878"
             ],
             [
              0.2222222222222222,
              "#3e4989"
             ],
             [
              0.3333333333333333,
              "#31688e"
             ],
             [
              0.4444444444444444,
              "#26828e"
             ],
             [
              0.5555555555555556,
              "#1f9e89"
             ],
             [
              0.6666666666666666,
              "#35b779"
             ],
             [
              0.7777777777777778,
              "#6ece58"
             ],
             [
              0.8888888888888888,
              "#b5de2b"
             ],
             [
              1,
              "#fde725"
             ]
            ],
            "type": "histogram2dcontour"
           }
          ],
          "mesh3d": [
           {
            "colorbar": {
             "outlinewidth": 1,
             "tickcolor": "rgb(36,36,36)",
             "ticks": "outside"
            },
            "type": "mesh3d"
           }
          ],
          "parcoords": [
           {
            "line": {
             "colorbar": {
              "outlinewidth": 1,
              "tickcolor": "rgb(36,36,36)",
              "ticks": "outside"
             }
            },
            "type": "parcoords"
           }
          ],
          "pie": [
           {
            "automargin": true,
            "type": "pie"
           }
          ],
          "scatter": [
           {
            "marker": {
             "colorbar": {
              "outlinewidth": 1,
              "tickcolor": "rgb(36,36,36)",
              "ticks": "outside"
             }
            },
            "type": "scatter"
           }
          ],
          "scatter3d": [
           {
            "line": {
             "colorbar": {
              "outlinewidth": 1,
              "tickcolor": "rgb(36,36,36)",
              "ticks": "outside"
             }
            },
            "marker": {
             "colorbar": {
              "outlinewidth": 1,
              "tickcolor": "rgb(36,36,36)",
              "ticks": "outside"
             }
            },
            "type": "scatter3d"
           }
          ],
          "scattercarpet": [
           {
            "marker": {
             "colorbar": {
              "outlinewidth": 1,
              "tickcolor": "rgb(36,36,36)",
              "ticks": "outside"
             }
            },
            "type": "scattercarpet"
           }
          ],
          "scattergeo": [
           {
            "marker": {
             "colorbar": {
              "outlinewidth": 1,
              "tickcolor": "rgb(36,36,36)",
              "ticks": "outside"
             }
            },
            "type": "scattergeo"
           }
          ],
          "scattergl": [
           {
            "marker": {
             "colorbar": {
              "outlinewidth": 1,
              "tickcolor": "rgb(36,36,36)",
              "ticks": "outside"
             }
            },
            "type": "scattergl"
           }
          ],
          "scattermapbox": [
           {
            "marker": {
             "colorbar": {
              "outlinewidth": 1,
              "tickcolor": "rgb(36,36,36)",
              "ticks": "outside"
             }
            },
            "type": "scattermapbox"
           }
          ],
          "scatterpolar": [
           {
            "marker": {
             "colorbar": {
              "outlinewidth": 1,
              "tickcolor": "rgb(36,36,36)",
              "ticks": "outside"
             }
            },
            "type": "scatterpolar"
           }
          ],
          "scatterpolargl": [
           {
            "marker": {
             "colorbar": {
              "outlinewidth": 1,
              "tickcolor": "rgb(36,36,36)",
              "ticks": "outside"
             }
            },
            "type": "scatterpolargl"
           }
          ],
          "scatterternary": [
           {
            "marker": {
             "colorbar": {
              "outlinewidth": 1,
              "tickcolor": "rgb(36,36,36)",
              "ticks": "outside"
             }
            },
            "type": "scatterternary"
           }
          ],
          "surface": [
           {
            "colorbar": {
             "outlinewidth": 1,
             "tickcolor": "rgb(36,36,36)",
             "ticks": "outside"
            },
            "colorscale": [
             [
              0,
              "#440154"
             ],
             [
              0.1111111111111111,
              "#482878"
             ],
             [
              0.2222222222222222,
              "#3e4989"
             ],
             [
              0.3333333333333333,
              "#31688e"
             ],
             [
              0.4444444444444444,
              "#26828e"
             ],
             [
              0.5555555555555556,
              "#1f9e89"
             ],
             [
              0.6666666666666666,
              "#35b779"
             ],
             [
              0.7777777777777778,
              "#6ece58"
             ],
             [
              0.8888888888888888,
              "#b5de2b"
             ],
             [
              1,
              "#fde725"
             ]
            ],
            "type": "surface"
           }
          ],
          "table": [
           {
            "cells": {
             "fill": {
              "color": "rgb(237,237,237)"
             },
             "line": {
              "color": "white"
             }
            },
            "header": {
             "fill": {
              "color": "rgb(217,217,217)"
             },
             "line": {
              "color": "white"
             }
            },
            "type": "table"
           }
          ]
         },
         "layout": {
          "annotationdefaults": {
           "arrowhead": 0,
           "arrowwidth": 1
          },
          "coloraxis": {
           "colorbar": {
            "outlinewidth": 1,
            "tickcolor": "rgb(36,36,36)",
            "ticks": "outside"
           }
          },
          "colorscale": {
           "diverging": [
            [
             0,
             "rgb(103,0,31)"
            ],
            [
             0.1,
             "rgb(178,24,43)"
            ],
            [
             0.2,
             "rgb(214,96,77)"
            ],
            [
             0.3,
             "rgb(244,165,130)"
            ],
            [
             0.4,
             "rgb(253,219,199)"
            ],
            [
             0.5,
             "rgb(247,247,247)"
            ],
            [
             0.6,
             "rgb(209,229,240)"
            ],
            [
             0.7,
             "rgb(146,197,222)"
            ],
            [
             0.8,
             "rgb(67,147,195)"
            ],
            [
             0.9,
             "rgb(33,102,172)"
            ],
            [
             1,
             "rgb(5,48,97)"
            ]
           ],
           "sequential": [
            [
             0,
             "#440154"
            ],
            [
             0.1111111111111111,
             "#482878"
            ],
            [
             0.2222222222222222,
             "#3e4989"
            ],
            [
             0.3333333333333333,
             "#31688e"
            ],
            [
             0.4444444444444444,
             "#26828e"
            ],
            [
             0.5555555555555556,
             "#1f9e89"
            ],
            [
             0.6666666666666666,
             "#35b779"
            ],
            [
             0.7777777777777778,
             "#6ece58"
            ],
            [
             0.8888888888888888,
             "#b5de2b"
            ],
            [
             1,
             "#fde725"
            ]
           ],
           "sequentialminus": [
            [
             0,
             "#440154"
            ],
            [
             0.1111111111111111,
             "#482878"
            ],
            [
             0.2222222222222222,
             "#3e4989"
            ],
            [
             0.3333333333333333,
             "#31688e"
            ],
            [
             0.4444444444444444,
             "#26828e"
            ],
            [
             0.5555555555555556,
             "#1f9e89"
            ],
            [
             0.6666666666666666,
             "#35b779"
            ],
            [
             0.7777777777777778,
             "#6ece58"
            ],
            [
             0.8888888888888888,
             "#b5de2b"
            ],
            [
             1,
             "#fde725"
            ]
           ]
          },
          "colorway": [
           "#1F77B4",
           "#FF7F0E",
           "#2CA02C",
           "#D62728",
           "#9467BD",
           "#8C564B",
           "#E377C2",
           "#7F7F7F",
           "#BCBD22",
           "#17BECF"
          ],
          "font": {
           "color": "rgb(36,36,36)"
          },
          "geo": {
           "bgcolor": "white",
           "lakecolor": "white",
           "landcolor": "white",
           "showlakes": true,
           "showland": true,
           "subunitcolor": "white"
          },
          "hoverlabel": {
           "align": "left"
          },
          "hovermode": "closest",
          "mapbox": {
           "style": "light"
          },
          "paper_bgcolor": "white",
          "plot_bgcolor": "white",
          "polar": {
           "angularaxis": {
            "gridcolor": "rgb(232,232,232)",
            "linecolor": "rgb(36,36,36)",
            "showgrid": false,
            "showline": true,
            "ticks": "outside"
           },
           "bgcolor": "white",
           "radialaxis": {
            "gridcolor": "rgb(232,232,232)",
            "linecolor": "rgb(36,36,36)",
            "showgrid": false,
            "showline": true,
            "ticks": "outside"
           }
          },
          "scene": {
           "xaxis": {
            "backgroundcolor": "white",
            "gridcolor": "rgb(232,232,232)",
            "gridwidth": 2,
            "linecolor": "rgb(36,36,36)",
            "showbackground": true,
            "showgrid": false,
            "showline": true,
            "ticks": "outside",
            "zeroline": false,
            "zerolinecolor": "rgb(36,36,36)"
           },
           "yaxis": {
            "backgroundcolor": "white",
            "gridcolor": "rgb(232,232,232)",
            "gridwidth": 2,
            "linecolor": "rgb(36,36,36)",
            "showbackground": true,
            "showgrid": false,
            "showline": true,
            "ticks": "outside",
            "zeroline": false,
            "zerolinecolor": "rgb(36,36,36)"
           },
           "zaxis": {
            "backgroundcolor": "white",
            "gridcolor": "rgb(232,232,232)",
            "gridwidth": 2,
            "linecolor": "rgb(36,36,36)",
            "showbackground": true,
            "showgrid": false,
            "showline": true,
            "ticks": "outside",
            "zeroline": false,
            "zerolinecolor": "rgb(36,36,36)"
           }
          },
          "shapedefaults": {
           "fillcolor": "black",
           "line": {
            "width": 0
           },
           "opacity": 0.3
          },
          "ternary": {
           "aaxis": {
            "gridcolor": "rgb(232,232,232)",
            "linecolor": "rgb(36,36,36)",
            "showgrid": false,
            "showline": true,
            "ticks": "outside"
           },
           "baxis": {
            "gridcolor": "rgb(232,232,232)",
            "linecolor": "rgb(36,36,36)",
            "showgrid": false,
            "showline": true,
            "ticks": "outside"
           },
           "bgcolor": "white",
           "caxis": {
            "gridcolor": "rgb(232,232,232)",
            "linecolor": "rgb(36,36,36)",
            "showgrid": false,
            "showline": true,
            "ticks": "outside"
           }
          },
          "title": {
           "x": 0.05
          },
          "xaxis": {
           "automargin": true,
           "gridcolor": "rgb(232,232,232)",
           "linecolor": "rgb(36,36,36)",
           "showgrid": false,
           "showline": true,
           "ticks": "outside",
           "title": {
            "standoff": 15
           },
           "zeroline": false,
           "zerolinecolor": "rgb(36,36,36)"
          },
          "yaxis": {
           "automargin": true,
           "gridcolor": "rgb(232,232,232)",
           "linecolor": "rgb(36,36,36)",
           "showgrid": false,
           "showline": true,
           "ticks": "outside",
           "title": {
            "standoff": 15
           },
           "zeroline": false,
           "zerolinecolor": "rgb(36,36,36)"
          }
         }
        },
        "title": {
         "text": "PROGRESS"
        },
        "xaxis": {
         "title": {
          "text": "episode"
         }
        },
        "yaxis": {
         "title": {
          "text": "progress"
         }
        }
       }
      },
      "text/html": [
       "<div>\n",
       "        \n",
       "        \n",
       "            <div id=\"f79488db-4779-43c3-a58e-7cf163aa235c\" class=\"plotly-graph-div\" style=\"height:525px; width:100%;\"></div>\n",
       "            <script type=\"text/javascript\">\n",
       "                require([\"plotly\"], function(Plotly) {\n",
       "                    window.PLOTLYENV=window.PLOTLYENV || {};\n",
       "                    \n",
       "                if (document.getElementById(\"f79488db-4779-43c3-a58e-7cf163aa235c\")) {\n",
       "                    Plotly.newPlot(\n",
       "                        'f79488db-4779-43c3-a58e-7cf163aa235c',\n",
       "                        [{\"line\": {\"color\": \"orange\"}, \"mode\": \"markers\", \"name\": \"progress by episode\", \"type\": \"scatter\", \"x\": [0, 1, 2, 3, 4, 5, 6, 7, 8, 9, 10, 11, 12, 13, 14, 15, 16, 17, 18, 19, 20, 21, 22, 23, 24, 25, 26, 27, 28, 29, 30, 31, 32, 33, 34, 35, 36, 37, 38, 39, 40, 41, 42, 43, 44, 45, 46, 47, 48, 49, 50, 51, 52, 53, 54, 55, 56, 57, 58, 59, 60, 61, 62, 63, 64, 65, 66, 67, 68, 69, 70, 71, 72, 73, 74, 75, 76, 77, 78, 79, 80, 81, 82, 83, 84, 85, 86, 87, 88, 89, 90, 91, 92, 93, 94, 95, 96, 97, 98, 99, 100, 101, 102, 103, 104, 105, 106, 107, 108, 109, 110, 111, 112, 113, 114, 115, 116, 117, 118, 119, 120, 121, 122, 123, 124, 125, 126, 127, 128, 129, 130, 131, 132, 133, 134, 135, 136, 137, 138, 139, 140, 141, 142, 143, 144, 145, 146, 147, 148, 149, 150, 151, 152, 153, 154, 155, 156, 157, 158, 159, 160, 161, 162, 163, 164, 165, 166, 167, 168, 169, 170, 171, 172, 173, 174, 175, 176, 177, 178, 179, 180, 181, 182, 183, 184, 185, 186, 187, 188, 189, 190, 191, 192, 193, 194, 195, 196, 197, 198, 199, 200, 201, 202, 203, 204, 205, 206, 207, 208, 209, 210, 211, 212, 213, 214, 215, 216, 217, 218, 219, 220, 221, 222, 223, 224, 225, 226, 227, 228, 229, 230, 231, 232, 233, 234, 235, 236, 237, 238, 239, 240, 241, 242, 243, 244, 245, 246, 247, 248, 249, 250, 251, 252, 253, 254, 255, 256, 257, 258, 259, 260, 261, 262, 263, 264, 265, 266, 267, 268, 269, 270, 271, 272, 273, 274, 275, 276, 277, 278, 279, 280, 281, 282, 283, 284, 285, 286, 287, 288, 289, 290, 291, 292, 293, 294, 295, 296, 297, 298, 299, 300, 301, 302, 303, 304, 305, 306, 307, 308, 309, 310, 311, 312, 313, 314, 315, 316, 317, 318, 319, 320, 321, 322, 323, 324, 325, 326, 327, 328, 329, 330, 331, 332, 333, 334, 335, 336, 337, 338, 339, 340, 341, 342, 343, 344, 345, 346, 347, 348, 349, 350, 351, 352, 353, 354, 355, 356, 357, 358, 359, 360, 361, 362, 363, 364, 365, 366, 367, 368, 369, 370, 371, 372, 373, 374, 375, 376, 377, 378, 379, 380, 381, 382, 383, 384, 385, 386, 387, 388, 389, 390, 391, 392, 393, 394, 395, 396, 397, 398, 399, 400, 401, 402, 403, 404, 405, 406, 407, 408, 409, 410, 411, 412, 413, 414, 415, 416, 417, 418, 419, 420, 421, 422, 423, 424, 425, 426, 427, 428, 429, 430, 431, 432, 433, 434, 435, 436, 437, 438, 439, 440, 441, 442, 443, 444, 445, 446, 447, 448, 449, 450, 451, 452, 453, 454, 455, 456, 457, 458, 459, 460, 461, 462, 463, 464, 465, 466, 467, 468, 469, 470, 471, 472, 473, 474, 475, 476, 477, 478, 479, 480, 481, 482, 483, 484, 485, 486, 487, 488, 489, 490, 491, 492, 493, 494, 495, 496, 497, 498, 499, 500, 501, 502, 503, 504, 505, 506, 507, 508, 509, 510, 511, 512, 513, 514, 515, 516, 517, 518, 519, 520, 521, 522, 523, 524, 525, 526, 527, 528, 529, 530, 531, 532, 533, 534, 535, 536, 537, 538, 539, 540, 541, 542, 543, 544, 545, 546, 547, 548, 549, 550, 551, 552, 553, 554, 555, 556, 557, 558, 559, 560, 561, 562, 563, 564, 565, 566, 567, 568, 569, 570, 571, 572, 573, 574, 575, 576, 577, 578, 579, 580, 581, 582, 583, 584, 585, 586, 587, 588, 589, 590, 591, 592, 593, 594, 595, 596, 597, 598, 599], \"y\": [6.030227999999999, 3.637376470588235, 4.334261904761905, 4.723108695652173, 2.088006666666667, 2.7663, 2.1626266666666667, 13.429267391304348, 3.8780636363636365, 7.986265625, 2.4781400000000002, 1.995625, 3.445422222222222, 3.4384, 2.283333333333333, 5.702068, 6.851413333333334, 4.213180952380952, 3.984338095238096, 8.384596969696968, 5.0656681818181815, 2.7403529411764707, 6.202196428571428, 3.7060250000000003, 3.915319047619048, 2.25628, 2.648825, 4.323684210526316, 4.237090476190476, 2.82833125, 20.32440147058823, 2.9058736842105266, 9.573159459459458, 2.2093599999999998, 2.64604705882353, 3.8986999999999994, 5.9836074074074075, 3.8482761904761906, 2.32768, 6.561779310344827, 3.0770611111111115, 7.117139285714286, 7.046003571428571, 2.5015687499999997, 2.077, 3.0076055555555556, 2.3576117647058825, 2.4525733333333335, 3.6200550000000007, 2.7861000000000002, 6.2710037037037045, 2.822076470588235, 15.981899999999998, 4.4561090909090915, 8.781694871794873, 5.935307407407408, 11.896958139534885, 3.5729166666666665, 3.5705190476190474, 3.269382352941176, 4.592643478260869, 4.380845, 4.944159999999999, 7.746490625, 2.9849263157894734, 2.4014562500000003, 2.27598125, 6.2629399999999995, 2.5614823529411765, 2.19465625, 8.788376470588236, 2.50446875, 7.584542424242424, 7.980681818181819, 3.156977777777778, 2.84005, 6.952739285714285, 6.486685185185185, 2.90686875, 5.96923076923077, 4.400554545454545, 5.911967857142857, 2.8998705882352946, 3.6860950000000003, 3.6331263157894735, 2.5437125, 2.682725, 4.4291, 4.239309090909091, 2.8879312500000003, 13.365228846153851, 3.0192777777777775, 5.204411111111112, 6.469751724137931, 1.9714357142857144, 4.423385714285715, 4.483327272727272, 5.871467857142858, 1.8742642857142857, 9.381202631578946, 4.697207692307692, 10.664561904761902, 7.609622222222222, 5.881777777777777, 3.56656, 3.6295238095238096, 3.487819047619048, 9.7709175, 4.0067590909090915, 8.359046666666668, 10.381856756756758, 7.8808525000000005, 18.504749999999994, 7.853844444444444, 3.007675, 3.311765, 6.597720689655174, 4.295829166666667, 2.0750875, 25.895400000000002, 16.462683606557377, 6.681293939393939, 10.930807692307692, 8.51427804878049, 3.536105, 2.8289588235294114, 3.40668, 3.3834947368421053, 14.658052000000003, 2.29388, 4.615784, 4.705354166666666, 3.524773684210526, 12.64498139534884, 1.7830785714285713, 9.263952500000002, 10.049509302325582, 4.746595454545456, 5.401973333333332, 7.715315151515151, 14.776794736842104, 15.554633962264148, 6.203989285714284, 5.5306679999999995, 2.46368125, 11.975209615384614, 2.0855799999999998, 5.649476923076923, 3.797247619047619, 2.2164333333333333, 15.837958928571428, 5.1202125, 7.437887096774196, 3.0581933333333335, 11.683661224489795, 7.778520588235294, 10.787268421052628, 4.551529166666667, 17.928380281690142, 14.407475409836067, 3.5349250000000003, 13.287716981132077, 7.856939393939392, 15.52195833333333, 3.1105380952380948, 8.954395348837208, 3.3947499999999997, 3.149147368421052, 17.91449852941176, 9.571630232558139, 10.805618181818183, 6.513748387096774, 3.8869, 4.232743478260869, 6.931662857142857, 3.9349450000000004, 13.9832375, 22.116639759036143, 7.261230769230769, 4.59335652173913, 9.954630952380953, 8.611494285714286, 10.411805000000001, 4.098936363636364, 4.112070833333333, 23.03573375, 2.6145941176470586, 2.9972764705882358, 3.6379294117647056, 13.118534482758623, 3.203729411764706, 5.124084615384616, 4.7369863636363645, 5.131908000000001, 8.882627499999998, 7.019336363636365, 3.422229411764706, 2.8441199999999998, 5.889137931034482, 3.2905444444444445, 8.180150000000001, 2.8998, 9.127847368421053, 4.967048, 2.5160176470588236, 6.5939848484848484, 4.070916666666667, 2.09385, 3.3364499999999997, 4.032545, 3.987277272727273, 7.095891176470587, 5.076732142857142, 5.031647999999999, 5.3389999999999995, 9.876081818181818, 4.973504166666668, 8.402629999999998, 2.1797066666666667, 9.167847222222221, 7.898097297297298, 18.882192307692304, 9.905613888888888, 3.9053799999999996, 3.433433333333333, 16.628818666666664, 3.5619500000000004, 3.54057619047619, 11.194385000000002, 2.915294736842105, 3.2745499999999996, 5.262315999999999, 3.0713222222222223, 9.631060000000002, 2.44138125, 19.036447826086956, 15.237324074074074, 12.194094230769227, 11.22197924528302, 10.147097619047619, 3.9597947368421047, 6.042103333333333, 5.239685714285713, 3.3066947368421054, 3.527072727272727, 3.4406950000000003, 8.015320512820514, 2.31498, 9.861960526315789, 8.67318823529412, 5.145068, 3.2638700000000007, 8.264045454545455, 5.973793103448277, 4.646699999999999, 12.099993617021276, 12.669070175438595, 4.187895833333333, 7.312142857142857, 12.61221063829787, 2.9383117647058823, 13.203166666666668, 2.9492235294117646, 8.477883783783785, 3.121015, 3.841556521739131, 6.306954838709678, 4.946177272727272, 9.494502941176467, 12.053588135593222, 23.479093181818186, 5.493054838709678, 11.463987804878048, 7.671886206896553, 11.117564814814818, 7.192177777777778, 6.998170588235295, 12.9874375, 20.102945454545456, 15.162371929824559, 10.986885714285714, 8.99836875, 5.15944347826087, 6.457835714285714, 5.6522821428571435, 3.1357600000000003, 3.269017647058823, 10.449078571428569, 9.199986111111112, 6.620822580645162, 10.28016511627907, 10.65156304347826, 21.30740833333333, 20.114211428571426, 7.1697437499999985, 16.224632727272727, 7.181996551724138, 11.343682000000001, 2.2531375, 7.757892105263159, 3.782936842105263, 12.030051162790697, 5.766040740740741, 4.878478260869565, 7.634241463414634, 11.369733333333334, 3.7288545454545456, 2.8746388888888887, 11.165140816326529, 3.0291277777777776, 11.08666046511628, 5.476057692307692, 9.619781395348838, 2.9194947368421054, 7.396002631578945, 10.338140476190475, 6.044644, 19.211885074626867, 5.771876000000001, 13.644244230769228, 4.806088461538462, 11.52623157894737, 3.9978888888888884, 4.906544444444444, 2.2675666666666667, 7.936429999999999, 5.241583333333334, 5.525338461538462, 13.05407659574468, 6.237210714285715, 9.114651219512195, 33.11299262295081, 5.660622222222224, 2.91428, 6.695103124999999, 10.054033333333335, 7.951692105263159, 8.684724242424242, 5.3814, 6.143840740740742, 6.151161764705883, 12.92077916666667, 5.130984, 3.9023399999999997, 13.257815384615382, 8.517493181818184, 9.846020512820512, 5.332377777777778, 11.074913953488371, 19.552611111111116, 9.994021951219512, 48.53270476190478, 5.764722222222222, 6.223237037037037, 7.7938075, 8.559392105263157, 5.68832962962963, 9.552615, 4.441959090909091, 24.66173298969073, 15.070660937500001, 14.946117741935481, 12.640292857142857, 19.841771052631582, 6.141303333333334, 15.325113636363636, 8.431394871794874, 28.12314455445545, 3.201994736842105, 6.258523333333334, 5.386342307692308, 5.449028571428571, 4.9902999999999995, 5.2899375, 8.689318918918918, 22.461110752688178, 14.00962898550725, 13.18947857142857, 12.524396666666664, 9.3843, 2.417117647058824, 9.660490697674417, 16.50523181818182, 12.460606000000002, 7.5485944444444435, 3.4862285714285717, 3.289077272727273, 11.871728888888889, 8.042229411764705, 5.680910714285715, 9.92564871794872, 15.296978333333335, 11.30399333333334, 5.0306500000000005, 3.227205, 3.302984210526316, 5.568013793103448, 12.643149999999999, 3.499073684210526, 8.825503125000001, 21.97972093023256, 7.505705714285715, 11.40290357142857, 3.704513043478261, 14.6701328358209, 2.675822222222222, 2.730094117647059, 3.071016666666667, 9.803557142857143, 6.702082758620691, 18.84638395061728, 11.438523255813955, 16.28068783783784, 11.583419999999998, 32.494277499999995, 8.591807894736842, 15.42492153846154, 16.723933333333335, 6.066325806451612, 14.64477833333333, 16.757737878787875, 7.895618918918918, 3.509315, 4.095452, 3.155795, 3.9931875, 5.004370370370371, 6.916293548387096, 15.825792063492061, 4.619226086956522, 3.093744444444445, 6.086981249999999, 6.432532258064517, 10.966528571428572, 3.23163, 7.936768292682926, 6.8885178571428565, 12.404712499999997, 4.174285714285714, 13.700837288135592, 18.233009523809525, 16.10834925373134, 14.614095161290326, 7.8968525, 12.645380357142852, 2.7939900000000004, 6.978102941176471, 17.391455737704923, 10.49870465116279, 7.71908064516129, 3.1421749999999995, 11.532614583333332, 22.199355294117645, 8.945663636363639, 11.273751923076926, 17.742786111111112, 10.298662499999999, 8.16001081081081, 8.366555263157895, 6.357174193548386, 15.591840909090909, 13.55022166666667, 9.943200000000001, 4.718586363636364, 8.438141935483872, 3.3312649999999997, 2.445125, 20.49638076923076, 10.205905128205128, 23.287685567010307, 11.537535294117646, 6.294865625, 15.651043548387099, 21.319945205479453, 7.098877142857143, 12.393762264150942, 26.06164639175257, 14.012414754098364, 5.139982142857143, 4.721403999999998, 15.28261875, 12.426598039215683, 4.816816666666666, 13.863444000000001, 13.61873529411765, 10.864950980392155, 7.016534285714286, 4.010236363636363, 15.17838, 15.379810937500004, 4.392708695652174, 13.044014516129034, 11.35721632653061, 10.37972888888889, 26.028645283018868, 6.43870303030303, 16.814428571428568, 17.866669230769237, 10.109280851063827, 18.77673780487805, 7.692897297297297, 13.206741666666664, 16.007763492063493, 3.374370588235294, 9.360286666666669, 5.571575862068965, 2.7409499999999998, 6.374410344827586, 14.686146428571424, 10.320574999999998, 19.584879012345684, 6.470690000000001, 8.367757142857144, 16.93830895522388, 4.725253846153846, 8.633464864864864, 16.227203076923075, 24.254365853658538, 8.33746046511628, 14.293612727272727, 20.707485263157896, 11.81594375, 28.80100000000001, 12.970722222222221, 10.993707142857144, 4.575737500000001, 14.48462372881356, 6.880908823529412, 4.563469230769231, 13.265995384615382, 26.581527102803737, 9.05882682926829, 6.484835483870968, 29.398773584905662, 37.102931333333345, 3.5768090909090913, 31.709661475409835, 31.890374796747974, 21.56944747474748, 18.108530136986303, 9.05296052631579, 21.438585714285715, 21.062553086419758, 11.890714545454545, 6.247937037037037, 4.912558333333333, 8.185897297297295, 9.62623947368421, 7.019324137931036, 16.084275362318838, 12.704996491228068, 13.899824528301888, 25.10097647058825, 20.28046625, 3.7310952380952385, 8.847369230769232, 20.03608571428571, 4.850092592592592, 14.67906666666667, 16.318125714285713, 3.4909, 20.216688235294118, 12.111265384615384, 11.69528780487805, 25.766056310679602, 11.117666666666667, 2.4322882352941178, 8.07145625, 7.282915624999999, 3.11388947368421, 22.483043750000007, 9.094011764705883, 25.7443793814433, 10.820604878048776, 11.691254166666667, 32.11364871794872, 16.194984722222227, 21.373339759036142, 26.213127522935785, 3.995483333333334, 4.704729166666667, 7.855172222222221, 22.775048888888893, 18.2558641025641, 36.89567101449274, 3.9805916666666668, 12.383694117647059, 4.769270833333334, 7.12699, 3.0133368421052635, 11.0132612244898, 6.187432258064517, 29.112715517241377, 6.021888461538461, 36.518836054421755, 9.416497872340424, 17.776885714285715, 7.062015625, 28.37719557522124, 5.441885185185185]}, {\"line\": {\"color\": \"firebrick\", \"width\": 4}, \"name\": \"progress by iteration\", \"type\": \"scatter\", \"x\": [20, 40, 60, 80, 100, 120, 140, 160, 180, 200, 220, 240, 260, 280, 300, 320, 340, 360, 380, 400, 420, 440, 460, 480, 500, 520, 540, 560, 580, 600], \"y\": [5.626201569506727, 6.902365010799144, 6.414728602150536, 5.399483947939257, 5.677688528138527, 10.420866919575108, 8.563168256578937, 10.866513502109699, 11.057056037991856, 9.131000505050512, 6.205899814471241, 11.293244549125168, 7.627889785831966, 12.084478219013228, 11.356306056701023, 9.51567819767441, 12.008994645441394, 18.256036440677956, 14.477639940239024, 9.666866480446933, 15.584668415841554, 9.123212278106507, 13.05530758835759, 15.043800507099405, 14.375833174451877, 13.103452591792657, 22.73662337031902, 15.597364935064927, 19.091023670668953, 21.287489058524173]}],\n",
       "                        {\"template\": {\"data\": {\"bar\": [{\"error_x\": {\"color\": \"rgb(36,36,36)\"}, \"error_y\": {\"color\": \"rgb(36,36,36)\"}, \"marker\": {\"line\": {\"color\": \"white\", \"width\": 0.5}}, \"type\": \"bar\"}], \"barpolar\": [{\"marker\": {\"line\": {\"color\": \"white\", \"width\": 0.5}}, \"type\": \"barpolar\"}], \"carpet\": [{\"aaxis\": {\"endlinecolor\": \"rgb(36,36,36)\", \"gridcolor\": \"white\", \"linecolor\": \"white\", \"minorgridcolor\": \"white\", \"startlinecolor\": \"rgb(36,36,36)\"}, \"baxis\": {\"endlinecolor\": \"rgb(36,36,36)\", \"gridcolor\": \"white\", \"linecolor\": \"white\", \"minorgridcolor\": \"white\", \"startlinecolor\": \"rgb(36,36,36)\"}, \"type\": \"carpet\"}], \"choropleth\": [{\"colorbar\": {\"outlinewidth\": 1, \"tickcolor\": \"rgb(36,36,36)\", \"ticks\": \"outside\"}, \"type\": \"choropleth\"}], \"contour\": [{\"colorbar\": {\"outlinewidth\": 1, \"tickcolor\": \"rgb(36,36,36)\", \"ticks\": \"outside\"}, \"colorscale\": [[0.0, \"#440154\"], [0.1111111111111111, \"#482878\"], [0.2222222222222222, \"#3e4989\"], [0.3333333333333333, \"#31688e\"], [0.4444444444444444, \"#26828e\"], [0.5555555555555556, \"#1f9e89\"], [0.6666666666666666, \"#35b779\"], [0.7777777777777778, \"#6ece58\"], [0.8888888888888888, \"#b5de2b\"], [1.0, \"#fde725\"]], \"type\": \"contour\"}], \"contourcarpet\": [{\"colorbar\": {\"outlinewidth\": 1, \"tickcolor\": \"rgb(36,36,36)\", \"ticks\": \"outside\"}, \"type\": \"contourcarpet\"}], \"heatmap\": [{\"colorbar\": {\"outlinewidth\": 1, \"tickcolor\": \"rgb(36,36,36)\", \"ticks\": \"outside\"}, \"colorscale\": [[0.0, \"#440154\"], [0.1111111111111111, \"#482878\"], [0.2222222222222222, \"#3e4989\"], [0.3333333333333333, \"#31688e\"], [0.4444444444444444, \"#26828e\"], [0.5555555555555556, \"#1f9e89\"], [0.6666666666666666, \"#35b779\"], [0.7777777777777778, \"#6ece58\"], [0.8888888888888888, \"#b5de2b\"], [1.0, \"#fde725\"]], \"type\": \"heatmap\"}], \"heatmapgl\": [{\"colorbar\": {\"outlinewidth\": 1, \"tickcolor\": \"rgb(36,36,36)\", \"ticks\": \"outside\"}, \"colorscale\": [[0.0, \"#440154\"], [0.1111111111111111, \"#482878\"], [0.2222222222222222, \"#3e4989\"], [0.3333333333333333, \"#31688e\"], [0.4444444444444444, \"#26828e\"], [0.5555555555555556, \"#1f9e89\"], [0.6666666666666666, \"#35b779\"], [0.7777777777777778, \"#6ece58\"], [0.8888888888888888, \"#b5de2b\"], [1.0, \"#fde725\"]], \"type\": \"heatmapgl\"}], \"histogram\": [{\"marker\": {\"line\": {\"color\": \"white\", \"width\": 0.6}}, \"type\": \"histogram\"}], \"histogram2d\": [{\"colorbar\": {\"outlinewidth\": 1, \"tickcolor\": \"rgb(36,36,36)\", \"ticks\": \"outside\"}, \"colorscale\": [[0.0, \"#440154\"], [0.1111111111111111, \"#482878\"], [0.2222222222222222, \"#3e4989\"], [0.3333333333333333, \"#31688e\"], [0.4444444444444444, \"#26828e\"], [0.5555555555555556, \"#1f9e89\"], [0.6666666666666666, \"#35b779\"], [0.7777777777777778, \"#6ece58\"], [0.8888888888888888, \"#b5de2b\"], [1.0, \"#fde725\"]], \"type\": \"histogram2d\"}], \"histogram2dcontour\": [{\"colorbar\": {\"outlinewidth\": 1, \"tickcolor\": \"rgb(36,36,36)\", \"ticks\": \"outside\"}, \"colorscale\": [[0.0, \"#440154\"], [0.1111111111111111, \"#482878\"], [0.2222222222222222, \"#3e4989\"], [0.3333333333333333, \"#31688e\"], [0.4444444444444444, \"#26828e\"], [0.5555555555555556, \"#1f9e89\"], [0.6666666666666666, \"#35b779\"], [0.7777777777777778, \"#6ece58\"], [0.8888888888888888, \"#b5de2b\"], [1.0, \"#fde725\"]], \"type\": \"histogram2dcontour\"}], \"mesh3d\": [{\"colorbar\": {\"outlinewidth\": 1, \"tickcolor\": \"rgb(36,36,36)\", \"ticks\": \"outside\"}, \"type\": \"mesh3d\"}], \"parcoords\": [{\"line\": {\"colorbar\": {\"outlinewidth\": 1, \"tickcolor\": \"rgb(36,36,36)\", \"ticks\": \"outside\"}}, \"type\": \"parcoords\"}], \"pie\": [{\"automargin\": true, \"type\": \"pie\"}], \"scatter\": [{\"marker\": {\"colorbar\": {\"outlinewidth\": 1, \"tickcolor\": \"rgb(36,36,36)\", \"ticks\": \"outside\"}}, \"type\": \"scatter\"}], \"scatter3d\": [{\"line\": {\"colorbar\": {\"outlinewidth\": 1, \"tickcolor\": \"rgb(36,36,36)\", \"ticks\": \"outside\"}}, \"marker\": {\"colorbar\": {\"outlinewidth\": 1, \"tickcolor\": \"rgb(36,36,36)\", \"ticks\": \"outside\"}}, \"type\": \"scatter3d\"}], \"scattercarpet\": [{\"marker\": {\"colorbar\": {\"outlinewidth\": 1, \"tickcolor\": \"rgb(36,36,36)\", \"ticks\": \"outside\"}}, \"type\": \"scattercarpet\"}], \"scattergeo\": [{\"marker\": {\"colorbar\": {\"outlinewidth\": 1, \"tickcolor\": \"rgb(36,36,36)\", \"ticks\": \"outside\"}}, \"type\": \"scattergeo\"}], \"scattergl\": [{\"marker\": {\"colorbar\": {\"outlinewidth\": 1, \"tickcolor\": \"rgb(36,36,36)\", \"ticks\": \"outside\"}}, \"type\": \"scattergl\"}], \"scattermapbox\": [{\"marker\": {\"colorbar\": {\"outlinewidth\": 1, \"tickcolor\": \"rgb(36,36,36)\", \"ticks\": \"outside\"}}, \"type\": \"scattermapbox\"}], \"scatterpolar\": [{\"marker\": {\"colorbar\": {\"outlinewidth\": 1, \"tickcolor\": \"rgb(36,36,36)\", \"ticks\": \"outside\"}}, \"type\": \"scatterpolar\"}], \"scatterpolargl\": [{\"marker\": {\"colorbar\": {\"outlinewidth\": 1, \"tickcolor\": \"rgb(36,36,36)\", \"ticks\": \"outside\"}}, \"type\": \"scatterpolargl\"}], \"scatterternary\": [{\"marker\": {\"colorbar\": {\"outlinewidth\": 1, \"tickcolor\": \"rgb(36,36,36)\", \"ticks\": \"outside\"}}, \"type\": \"scatterternary\"}], \"surface\": [{\"colorbar\": {\"outlinewidth\": 1, \"tickcolor\": \"rgb(36,36,36)\", \"ticks\": \"outside\"}, \"colorscale\": [[0.0, \"#440154\"], [0.1111111111111111, \"#482878\"], [0.2222222222222222, \"#3e4989\"], [0.3333333333333333, \"#31688e\"], [0.4444444444444444, \"#26828e\"], [0.5555555555555556, \"#1f9e89\"], [0.6666666666666666, \"#35b779\"], [0.7777777777777778, \"#6ece58\"], [0.8888888888888888, \"#b5de2b\"], [1.0, \"#fde725\"]], \"type\": \"surface\"}], \"table\": [{\"cells\": {\"fill\": {\"color\": \"rgb(237,237,237)\"}, \"line\": {\"color\": \"white\"}}, \"header\": {\"fill\": {\"color\": \"rgb(217,217,217)\"}, \"line\": {\"color\": \"white\"}}, \"type\": \"table\"}]}, \"layout\": {\"annotationdefaults\": {\"arrowhead\": 0, \"arrowwidth\": 1}, \"coloraxis\": {\"colorbar\": {\"outlinewidth\": 1, \"tickcolor\": \"rgb(36,36,36)\", \"ticks\": \"outside\"}}, \"colorscale\": {\"diverging\": [[0.0, \"rgb(103,0,31)\"], [0.1, \"rgb(178,24,43)\"], [0.2, \"rgb(214,96,77)\"], [0.3, \"rgb(244,165,130)\"], [0.4, \"rgb(253,219,199)\"], [0.5, \"rgb(247,247,247)\"], [0.6, \"rgb(209,229,240)\"], [0.7, \"rgb(146,197,222)\"], [0.8, \"rgb(67,147,195)\"], [0.9, \"rgb(33,102,172)\"], [1.0, \"rgb(5,48,97)\"]], \"sequential\": [[0.0, \"#440154\"], [0.1111111111111111, \"#482878\"], [0.2222222222222222, \"#3e4989\"], [0.3333333333333333, \"#31688e\"], [0.4444444444444444, \"#26828e\"], [0.5555555555555556, \"#1f9e89\"], [0.6666666666666666, \"#35b779\"], [0.7777777777777778, \"#6ece58\"], [0.8888888888888888, \"#b5de2b\"], [1.0, \"#fde725\"]], \"sequentialminus\": [[0.0, \"#440154\"], [0.1111111111111111, \"#482878\"], [0.2222222222222222, \"#3e4989\"], [0.3333333333333333, \"#31688e\"], [0.4444444444444444, \"#26828e\"], [0.5555555555555556, \"#1f9e89\"], [0.6666666666666666, \"#35b779\"], [0.7777777777777778, \"#6ece58\"], [0.8888888888888888, \"#b5de2b\"], [1.0, \"#fde725\"]]}, \"colorway\": [\"#1F77B4\", \"#FF7F0E\", \"#2CA02C\", \"#D62728\", \"#9467BD\", \"#8C564B\", \"#E377C2\", \"#7F7F7F\", \"#BCBD22\", \"#17BECF\"], \"font\": {\"color\": \"rgb(36,36,36)\"}, \"geo\": {\"bgcolor\": \"white\", \"lakecolor\": \"white\", \"landcolor\": \"white\", \"showlakes\": true, \"showland\": true, \"subunitcolor\": \"white\"}, \"hoverlabel\": {\"align\": \"left\"}, \"hovermode\": \"closest\", \"mapbox\": {\"style\": \"light\"}, \"paper_bgcolor\": \"white\", \"plot_bgcolor\": \"white\", \"polar\": {\"angularaxis\": {\"gridcolor\": \"rgb(232,232,232)\", \"linecolor\": \"rgb(36,36,36)\", \"showgrid\": false, \"showline\": true, \"ticks\": \"outside\"}, \"bgcolor\": \"white\", \"radialaxis\": {\"gridcolor\": \"rgb(232,232,232)\", \"linecolor\": \"rgb(36,36,36)\", \"showgrid\": false, \"showline\": true, \"ticks\": \"outside\"}}, \"scene\": {\"xaxis\": {\"backgroundcolor\": \"white\", \"gridcolor\": \"rgb(232,232,232)\", \"gridwidth\": 2, \"linecolor\": \"rgb(36,36,36)\", \"showbackground\": true, \"showgrid\": false, \"showline\": true, \"ticks\": \"outside\", \"zeroline\": false, \"zerolinecolor\": \"rgb(36,36,36)\"}, \"yaxis\": {\"backgroundcolor\": \"white\", \"gridcolor\": \"rgb(232,232,232)\", \"gridwidth\": 2, \"linecolor\": \"rgb(36,36,36)\", \"showbackground\": true, \"showgrid\": false, \"showline\": true, \"ticks\": \"outside\", \"zeroline\": false, \"zerolinecolor\": \"rgb(36,36,36)\"}, \"zaxis\": {\"backgroundcolor\": \"white\", \"gridcolor\": \"rgb(232,232,232)\", \"gridwidth\": 2, \"linecolor\": \"rgb(36,36,36)\", \"showbackground\": true, \"showgrid\": false, \"showline\": true, \"ticks\": \"outside\", \"zeroline\": false, \"zerolinecolor\": \"rgb(36,36,36)\"}}, \"shapedefaults\": {\"fillcolor\": \"black\", \"line\": {\"width\": 0}, \"opacity\": 0.3}, \"ternary\": {\"aaxis\": {\"gridcolor\": \"rgb(232,232,232)\", \"linecolor\": \"rgb(36,36,36)\", \"showgrid\": false, \"showline\": true, \"ticks\": \"outside\"}, \"baxis\": {\"gridcolor\": \"rgb(232,232,232)\", \"linecolor\": \"rgb(36,36,36)\", \"showgrid\": false, \"showline\": true, \"ticks\": \"outside\"}, \"bgcolor\": \"white\", \"caxis\": {\"gridcolor\": \"rgb(232,232,232)\", \"linecolor\": \"rgb(36,36,36)\", \"showgrid\": false, \"showline\": true, \"ticks\": \"outside\"}}, \"title\": {\"x\": 0.05}, \"xaxis\": {\"automargin\": true, \"gridcolor\": \"rgb(232,232,232)\", \"linecolor\": \"rgb(36,36,36)\", \"showgrid\": false, \"showline\": true, \"ticks\": \"outside\", \"title\": {\"standoff\": 15}, \"zeroline\": false, \"zerolinecolor\": \"rgb(36,36,36)\"}, \"yaxis\": {\"automargin\": true, \"gridcolor\": \"rgb(232,232,232)\", \"linecolor\": \"rgb(36,36,36)\", \"showgrid\": false, \"showline\": true, \"ticks\": \"outside\", \"title\": {\"standoff\": 15}, \"zeroline\": false, \"zerolinecolor\": \"rgb(36,36,36)\"}}}, \"title\": {\"text\": \"PROGRESS\"}, \"xaxis\": {\"title\": {\"text\": \"episode\"}}, \"yaxis\": {\"title\": {\"text\": \"progress\"}}},\n",
       "                        {\"responsive\": true}\n",
       "                    ).then(function(){\n",
       "                            \n",
       "var gd = document.getElementById('f79488db-4779-43c3-a58e-7cf163aa235c');\n",
       "var x = new MutationObserver(function (mutations, observer) {{\n",
       "        var display = window.getComputedStyle(gd).display;\n",
       "        if (!display || display === 'none') {{\n",
       "            console.log([gd, 'removed!']);\n",
       "            Plotly.purge(gd);\n",
       "            observer.disconnect();\n",
       "        }}\n",
       "}});\n",
       "\n",
       "// Listen for the removal of the full notebook cells\n",
       "var notebookContainer = gd.closest('#notebook-container');\n",
       "if (notebookContainer) {{\n",
       "    x.observe(notebookContainer, {childList: true});\n",
       "}}\n",
       "\n",
       "// Listen for the clearing of the current output cell\n",
       "var outputEl = gd.closest('.output');\n",
       "if (outputEl) {{\n",
       "    x.observe(outputEl, {childList: true});\n",
       "}}\n",
       "\n",
       "                        })\n",
       "                };\n",
       "                });\n",
       "            </script>\n",
       "        </div>"
      ]
     },
     "metadata": {},
     "output_type": "display_data"
    }
   ],
   "source": [
    "import plotly.graph_objects as go\n",
    "\n",
    "# Number of episodes per iteration\n",
    "num_episodes = len(training_df[training_df.iteration==1].episode.unique()) # 20 episodes per iteration\n",
    "\n",
    "\n",
    "# Data for first trace\n",
    "x = 'episode'\n",
    "y = 'progress'\n",
    "g = training_df.groupby(x)[y].mean()\n",
    "g = pd.DataFrame(g).reset_index()\n",
    "\n",
    "# initialize graph\n",
    "fig = go.Figure()\n",
    "\n",
    "# Scatter plot of episode by progress\n",
    "fig.add_trace(go.Scatter(x=g[x], y=g[y], \n",
    "                         mode='markers', \n",
    "                         name='progress by episode',\n",
    "                         line=dict(color='orange')\n",
    "                        ))\n",
    "\n",
    "# add line\n",
    "x2 = 'iteration'\n",
    "y2 = 'progress'\n",
    "g2 = training_df.groupby(x2)[y2].mean()\n",
    "g2 = pd.DataFrame(g2).reset_index()\n",
    "fig.add_trace(go.Scatter(x=g2[x2]*num_episodes, y=g2[y2],\n",
    "                         name='progress by iteration',\n",
    "                         line=dict(color='firebrick', width=4)\n",
    "                        ))\n",
    "\n",
    "# label axes\n",
    "fig.update_xaxes(title_text=f'{x}')\n",
    "fig.update_yaxes(title_text=f'{y}')\n",
    "\n",
    "# layout\n",
    "fig.update_layout(\n",
    "    title_text=f'{y}'.upper(),\n",
    "    template='simple_white'\n",
    ")\n",
    "fig.show()"
   ]
  },
  {
   "cell_type": "markdown",
   "metadata": {},
   "source": [
    "#### log_analysis graphs"
   ]
  },
  {
   "cell_type": "code",
   "execution_count": 72,
   "metadata": {},
   "outputs": [
    {
     "name": "stdout",
     "output_type": "stream",
     "text": [
      "new reward not found, using reward as its values\n",
      "Number of episodes =  599\n",
      "Number of iterations =  30\n"
     ]
    },
    {
     "data": {
      "image/png": "[encoded data removed]",
      "text/plain": [
       "<Figure size 1080x1080 with 9 Axes>"
      ]
     },
     "metadata": {
      "needs_background": "light"
     },
     "output_type": "display_data"
    },
    {
     "data": {
      "text/plain": [
       "<Figure size 432x288 with 0 Axes>"
      ]
     },
     "metadata": {},
     "output_type": "display_data"
    }
   ],
   "source": [
    "simulation_agg = la.simulation_agg(training_df)\n",
    "la.analyze_training_progress(simulation_agg, title='Training progress')"
   ]
  },
  {
   "cell_type": "code",
   "execution_count": 73,
   "metadata": {},
   "outputs": [
    {
     "data": {
      "image/png": "[encoded data removed]",
      "text/plain": [
       "<Figure size 1080x792 with 9 Axes>"
      ]
     },
     "metadata": {
      "needs_background": "light"
     },
     "output_type": "display_data"
    },
    {
     "data": {
      "text/plain": [
       "<Figure size 432x288 with 0 Axes>"
      ]
     },
     "metadata": {},
     "output_type": "display_data"
    }
   ],
   "source": [
    "la.scatter_aggregates(simulation_agg, 'Stats for all laps')"
   ]
  }
 ],
 "metadata": {
  "kernelspec": {
   "display_name": "Python 3",
   "language": "python",
   "name": "python3"
  },
  "language_info": {
   "codemirror_mode": {
    "name": "ipython",
    "version": 3
   },
   "file_extension": ".py",
   "mimetype": "text/x-python",
   "name": "python",
   "nbconvert_exporter": "python",
   "pygments_lexer": "ipython3",
   "version": "3.6.10"
  }
 },
 "nbformat": 4,
 "nbformat_minor": 4
}
